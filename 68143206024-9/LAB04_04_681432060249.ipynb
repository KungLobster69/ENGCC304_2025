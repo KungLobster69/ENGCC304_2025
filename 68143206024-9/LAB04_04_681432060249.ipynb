{
 "cells": [
  {
   "cell_type": "code",
   "execution_count": 1,
   "id": "1a957907",
   "metadata": {},
   "outputs": [
    {
     "name": "stdout",
     "output_type": "stream",
     "text": [
      "ผลรวมของ 1 ถึง 1 คือ 1\n"
     ]
    }
   ],
   "source": [
    "# Workshop 04: โปรแกรมหาผลรวม 1 ถึง N\n",
    "\n",
    "n = input(input(\"ใส่จำนวน N:\"))\n",
    "total = 0\n",
    "for i in range(1, int(n) + 1):\n",
    "    total += i\n",
    "print(f\"ผลรวมของ 1 ถึง {n} คือ {total}\")"
   ]
  }
 ],
 "metadata": {
  "kernelspec": {
   "display_name": "Python 3",
   "language": "python",
   "name": "python3"
  },
  "language_info": {
   "codemirror_mode": {
    "name": "ipython",
    "version": 3
   },
   "file_extension": ".py",
   "mimetype": "text/x-python",
   "name": "python",
   "nbconvert_exporter": "python",
   "pygments_lexer": "ipython3",
   "version": "3.13.5"
  }
 },
 "nbformat": 4,
 "nbformat_minor": 5
}
