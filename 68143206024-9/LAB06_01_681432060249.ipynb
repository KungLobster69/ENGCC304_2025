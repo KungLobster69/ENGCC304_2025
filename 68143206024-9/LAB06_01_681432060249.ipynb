{
 "cells": [
  {
   "cell_type": "code",
   "execution_count": 12,
   "id": "38354f01",
   "metadata": {},
   "outputs": [
    {
     "name": "stdout",
     "output_type": "stream",
     "text": [
      "ตัวเลขต้องอยู่ในช่วง 1 ถึง 100\n",
      "ถูกต้องฉลาดมาก INTERLEGENCE GOOD!\n",
      "คุณได้ใส่ตัวเลข: 45\n"
     ]
    }
   ],
   "source": [
    "# Workshop: โปรแกรมเกมทายตัวเลข (Guessing Game)\n",
    "\n",
    "import random\n",
    "answer = random.randint(1, 100)\n",
    "\n",
    "try:\n",
    "    while True:\n",
    "\n",
    "        number = int(input(\"ใส่ตัวเลข 1 ถึง 100: \"))\n",
    "        if 1 <= number <= 100:\n",
    "\n",
    "            range_limit = 3\n",
    "            \n",
    "            guess = int(input(\"ทายตัวเลขที่คุณคิดว่าเป็น (ครั้งที่ {}): \".format(i + 1)))\n",
    "\n",
    "            if guess < number:\n",
    "                print(\"ตัวเลขที่ทายต่ำกว่าตัวเลขที่ถูกต้อง STUPID!\")\n",
    "\n",
    "            elif guess > number:\n",
    "                print(\"ตัวเลขที่ทายสูงกว่าตัวเลขที่ถูกต้อง STUPID!\")\n",
    "\n",
    "            else:\n",
    "                print(\"ถูกต้องฉลาดมาก INTERLEGENCE GOOD!\")\n",
    "\n",
    "            print(f\"คุณได้ใส่ตัวเลข: {number}\")\n",
    "\n",
    "            break\n",
    "\n",
    "        else:\n",
    "            print(\"ตัวเลขต้องอยู่ในช่วง 1 ถึง 100\")\n",
    "\n",
    "except ValueError:\n",
    "    print(\"กรุณาใส่ตัวเลขที่ถูกต้อง\")\n"
   ]
  }
 ],
 "metadata": {
  "kernelspec": {
   "display_name": "Python 3",
   "language": "python",
   "name": "python3"
  },
  "language_info": {
   "codemirror_mode": {
    "name": "ipython",
    "version": 3
   },
   "file_extension": ".py",
   "mimetype": "text/x-python",
   "name": "python",
   "nbconvert_exporter": "python",
   "pygments_lexer": "ipython3",
   "version": "3.13.5"
  }
 },
 "nbformat": 4,
 "nbformat_minor": 5
}
