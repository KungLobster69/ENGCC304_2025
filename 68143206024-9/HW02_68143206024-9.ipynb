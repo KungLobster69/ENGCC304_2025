{
 "cells": [
  {
   "cell_type": "code",
   "execution_count": null,
   "id": "f4485316",
   "metadata": {},
   "outputs": [],
   "source": [
    "# HW02_01 สร้างโปรแกรมง่ายๆ เพื่อทักทายผู้ใช้\n",
    "\n",
    "nickname = input(\"ชื่อเล่นของผู้ใช้: \")\n",
    "birth_year_str = input(\"ปีเกิด (พ.ศ.): \")\n",
    "birth_year = int(birth_year_str)\n",
    "\n",
    "current_year = 2568\n",
    "age = current_year - birth_year\n",
    "\n",
    "print(f\"สวัสดี ! {nickname} ปีนี้คุณอายุ {age} ปี\")"
   ]
  },
  {
   "cell_type": "code",
   "execution_count": null,
   "id": "df4fb2f0",
   "metadata": {},
   "outputs": [],
   "source": [
    "# HW02_02 คำนวณค่าอาหาร\n",
    "\n",
    "total_cost = float(input(\"ราคารวมของอาหาร (บาท): \"))\n",
    "tip_pct = float(input(\"เปอร์เซ็นต์ทิป ที่ต้องการให้ (เช่น 10 หรือ 15): \"))\n",
    "num_people = int(input(\"จำนวนคน ที่จะหาร: \"))\n",
    "\n",
    "tip_amount = total_cost * (tip_pct / 100)\n",
    "bill = total_cost + tip_amount\n",
    "cost_per_person = round(bill / num_people, 2)\n",
    "\n",
    "print(f\"\\nยอดรวมทั้งหมด (รวมทิป): {bill:.2f} บาท\")\n",
    "print(f\"ค่าใช้จ่ายต่อคน: {cost_per_person:.2f} บาท\")"
   ]
  },
  {
   "cell_type": "code",
   "execution_count": null,
   "id": "289bb5f9",
   "metadata": {},
   "outputs": [],
   "source": [
    "# HW02_03 โปรแกรมสร้างชื่อเล่นเท่ๆ\n",
    "\n",
    "first_name = input(\"ใส่ชื่อจริง: \")\n",
    "birth_month = input(\"ใส่เดือนเกิด: \")\n",
    "name_part = first_name[0:3].upper()\n",
    "\n",
    "month_part = str(len(birth_month))\n",
    "\n",
    "nickname = name_part + month_part\n",
    "\n",
    "print(f\"ชื่อเล่นของคุณคือ: {nickname}\")"
   ]
  },
  {
   "cell_type": "code",
   "execution_count": null,
   "id": "338165d6",
   "metadata": {},
   "outputs": [],
   "source": [
    "# HW02_04 โปรแกรมแปลงวินาที\n",
    "\n",
    "total_seconds = int(input(\"ใส่จำนวนวินาทีทั้งหมด: \"))\n",
    "\n",
    "hours = total_seconds // 3600\n",
    "\n",
    "remaining_seconds = total_seconds % 3600\n",
    "\n",
    "minutes = remaining_seconds // 60\n",
    "\n",
    "seconds = remaining_seconds % 60\n",
    "\n",
    "print(f\"{hours} ชั่วโมง {minutes} นาที {seconds} วินาที\")"
   ]
  },
  {
   "cell_type": "code",
   "execution_count": null,
   "id": "976df615",
   "metadata": {},
   "outputs": [],
   "source": [
    "# HW02_05 โปรแกรมตรวจสอบคะแนนสอบ\n",
    "\n",
    "score_input = input(\"ใส่คะแนนสอบ: \")\n",
    "\n",
    "try:\n",
    "    \n",
    "    score = float(score_input)\n",
    "\n",
    "    passed = score >= 50\n",
    "\n",
    "\n",
    "    print(f\"ผ่านการสอบ: {passed}\")\n",
    "\n",
    "except ValueError:\n",
    "\n",
    "    print(\"ใส่ตัวเลขเท่านั้น:\", is_eligble)"
   ]
  },
  {
   "cell_type": "code",
   "execution_count": null,
   "id": "401ad3ed",
   "metadata": {},
   "outputs": [],
   "source": [
    "# HW02_06 โปรแกรมคํานวณดัชนีมวลกาย (BMI)\n",
    "\n",
    "try:\n",
    "    weight_kg = float(input(\"กรุณาป้อนน้ำหนัก (kg): \"))\n",
    "    height_cm = float(input(\"กรุณาป้อนส่วนสูง (cm): \"))\n",
    "    \n",
    "    height_m = height_cm / 100\n",
    "    BMI = weight_kg/ (height_m *height_m)\n",
    "\n",
    "    print(f\"ค่าดัชนีมวลกาย (BMI) ของคุณคือ:{BMI:.1f}\")\n",
    "\n",
    "except ValueError:\n",
    "\n",
    "    print (\"กรุณาป้อนเป็นตัวเลขเท่านั้น\")"
   ]
  },
  {
   "cell_type": "code",
   "execution_count": null,
   "id": "9c1e9a49",
   "metadata": {},
   "outputs": [],
   "source": [
    "# HW03_07 โปรแกรมสร้างรหัสผ่านแนะนํา\n",
    "\n",
    "pet_name = input(\"กรุณาใส่ชื่อสัตว์เลี้ยงของคุณ: \")\n",
    "\n",
    "phone_digits = input(\"กรุณาป้อนเลข 2 ตัวสุดท้ายของเบอร์โทรศัพท์: \")\n",
    "\n",
    "if len(pet_name) >= 4:\n",
    "    password_part_name = pet_name[0:4]\n",
    "    password = password_part_name + phone_digits + \"_X\"\n",
    "\n",
    "    print(f\"รหัสผ่านแนะนำของคุณคือ: {password}\")\n",
    "else:\n",
    "    print(\"ชื่อสัตว์เลี้ยงสั้นเกินไป กรุณาป้อนชื่อที่มีความยาวอย่างน้อย 4 ตัวอักษร\")"
   ]
  },
  {
   "cell_type": "code",
   "execution_count": null,
   "id": "99cc30d0",
   "metadata": {},
   "outputs": [],
   "source": [
    "# HW02_08 โปรแกรมวิเคราะห์ประโยค\n",
    "\n",
    "sentence = input(\"กรุณาป้อนประโยคที่ต้องการวิเคราะห์: \")\n",
    "\n",
    "char_count = len(sentence)\n",
    "\n",
    "words = sentence.split()\n",
    "\n",
    "word_count = len(words)\n",
    "\n",
    "print(\"\\n--- ผลการวิเคราะห์ ---\")\n",
    "print(f\"ประโยคที่คุณป้อน: \\\"{sentence}\\\"\")\n",
    "print(f\"จำนวนอักขระทั้งหมด: {char_count}\")\n",
    "print(f\"จำนวนคำทั้งหมด: {word_count}\")"
   ]
  },
  {
   "cell_type": "code",
   "execution_count": null,
   "id": "37c4fea8",
   "metadata": {},
   "outputs": [],
   "source": [
    "# HW02_09\n",
    "\n",
    "price = float(input(\"กรุณาป้อนราคารวมของสินค้า: \"))\n",
    "\n",
    "if price >= 500:\n",
    "    discount_rate = 0.10\n",
    "    discount_amount = price * discount_rate\n",
    "    final_price = price - discount_amount\n",
    "    print(f\"คุณได้รับส่วนลด 10% ({discount_amount:.2f} บาท)\")\n",
    "else:\n",
    "    final_price = price\n",
    "    print(\"ราคายังไม่ถึง 500 บาท ไม่ได้รับส่วนลด\")\n",
    "\n",
    "print(f\"ราคาสุทธิที่ต้องจ่าย: {final_price:.2f} บาท\")"
   ]
  },
  {
   "cell_type": "code",
   "execution_count": null,
   "id": "af726eb5",
   "metadata": {},
   "outputs": [],
   "source": [
    "# HW03_10 โปรแกรมสลับชื่อนามสกุล\n",
    "\n",
    "full_name = input(\"ใส่ชื่อ นามสกุล: \")\n",
    "\n",
    "name_parts = full_name.split()\n",
    "\n",
    "\n",
    "if len(name_parts) >= 2:\n",
    "    first_name = name_parts[0]\n",
    "    last_name = name_parts[-1]\n",
    "\n",
    "    formatted_name = f\"{last_name} {first_name}\"\n",
    "\n",
    "    print(f\"ชื่อแบบใหม่: {formatted_name}\")\n",
    "\n",
    "else:\n",
    "\n",
    "    print(\"ชื่อไม่ถูกต้อง ใส่ชื่อ นามสกุล\")"
   ]
  }
 ],
 "metadata": {
  "kernelspec": {
   "display_name": "Python 3",
   "language": "python",
   "name": "python3"
  },
  "language_info": {
   "codemirror_mode": {
    "name": "ipython",
    "version": 3
   },
   "file_extension": ".py",
   "mimetype": "text/x-python",
   "name": "python",
   "nbconvert_exporter": "python",
   "pygments_lexer": "ipython3",
   "version": "3.13.5"
  }
 },
 "nbformat": 4,
 "nbformat_minor": 5
}
