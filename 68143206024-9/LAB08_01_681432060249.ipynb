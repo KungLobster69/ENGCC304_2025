{
 "cells": [
  {
   "cell_type": "code",
   "execution_count": 2,
   "id": "8f4964f2",
   "metadata": {},
   "outputs": [
    {
     "name": "stdout",
     "output_type": "stream",
     "text": [
      "['keyboard', 500, 10]\n",
      "['mouse', 300, 15]\n",
      "['monitor', 4500, 8]\n"
     ]
    }
   ],
   "source": [
    "product = [\n",
    "    [\"keyboard\", 500, 10],\n",
    "    [\"mouse\", 300, 15],\n",
    "    [\"monitor\", 4500, 8],\n",
    "]\n",
    "\n",
    "keyborad = product[0]\n",
    "print(keyborad)\n",
    "\n",
    "mouse = product[1]\n",
    "print(mouse)\n",
    "\n",
    "monitor = product[2]\n",
    "print(monitor)"
   ]
  }
 ],
 "metadata": {
  "kernelspec": {
   "display_name": "Python 3",
   "language": "python",
   "name": "python3"
  },
  "language_info": {
   "codemirror_mode": {
    "name": "ipython",
    "version": 3
   },
   "file_extension": ".py",
   "mimetype": "text/x-python",
   "name": "python",
   "nbconvert_exporter": "python",
   "pygments_lexer": "ipython3",
   "version": "3.13.7"
  }
 },
 "nbformat": 4,
 "nbformat_minor": 5
}
