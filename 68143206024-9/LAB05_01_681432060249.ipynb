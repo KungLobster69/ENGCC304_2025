{
 "cells": [
  {
   "cell_type": "code",
   "execution_count": null,
   "id": "53041f37",
   "metadata": {},
   "outputs": [
    {
     "name": "stdout",
     "output_type": "stream",
     "text": [
      "กรุณาป้อนคะแนนที่เป็นตัวเลขเท่านั้น\n",
      "คะแนนต้องอยู่ในช่วง 0 ถึง 100 เท่านั้น\n"
     ]
    }
   ],
   "source": [
    "# Workshop 01: โปรแกรมคํานวณเกรด\n",
    "\n",
    "# ส่วนที่ 1: รับข้อมูลและแปลงชนิดข้อมูล\n",
    "# ใช้ float() เพื่อให้สามรถรับคะแนนที่เป็นค่าทศนิยมได้\n",
    "\n",
    "score_input = float(input(\"กรุณาป้อนคะแนนของคุณ (0-100): \"))\n",
    "\n",
    "\n",
    "# ส่วนที่ 2: การคำนวณเกรด\n",
    "# สร้างตัวแปรเปล่าสำหรับเก็บเกรด\n",
    "\n",
    "if score_input >= 0 and score_input <= 100:\n",
    "\n",
    "    grade = \"\"\n",
    "\n",
    "try:\n",
    "# ใช้ if-elif-else เพื่อกำหนดเกรดตามเกณฑ์\n",
    "    if score_input < 0 or score_input > 100:\n",
    "        raise ValueError(\"คะแนนต้องอยู่ในช่วง 0 ถึง 100 เท่านั้น\") # ตรวจสอบคะแนน\n",
    "    \n",
    "    if score_input >= 90:\n",
    "        grade = \"A+\"\n",
    "\n",
    "    elif score_input >= 80:\n",
    "        grade = \"A\"\n",
    "\n",
    "    elif score_input >= 70:\n",
    "        grade = \"B\"\n",
    "\n",
    "    elif score_input >= 60:\n",
    "        grade = \"C\"\n",
    "\n",
    "    elif score_input >= 50:\n",
    "        grade = \"D\"\n",
    "\n",
    "    else:\n",
    "        grade = \"F\"\n",
    "\n",
    "# ส่วนที่ 3: แสดงผลลัพธ์\n",
    "    print(f\"คะแนน {score_input} เกรด: {grade  }\")\n",
    "\n",
    "except ValueError: \n",
    "    print(\"กรุณาป้อนคะแนนที่เป็นตัวเลขเท่านั้น\")\n",
    "    print(\"คะแนนต้องอยู่ในช่วง 0 ถึง 100 เท่านั้น\")\n"
   ]
  }
 ],
 "metadata": {
  "kernelspec": {
   "display_name": "Python 3",
   "language": "python",
   "name": "python3"
  },
  "language_info": {
   "codemirror_mode": {
    "name": "ipython",
    "version": 3
   },
   "file_extension": ".py",
   "mimetype": "text/x-python",
   "name": "python",
   "nbconvert_exporter": "python",
   "pygments_lexer": "ipython3",
   "version": "3.13.5"
  }
 },
 "nbformat": 4,
 "nbformat_minor": 5
}
