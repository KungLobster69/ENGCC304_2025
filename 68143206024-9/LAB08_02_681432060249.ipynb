{
 "cells": [
  {
   "cell_type": "code",
   "execution_count": 4,
   "id": "27b8c1f6",
   "metadata": {},
   "outputs": [
    {
     "name": "stdout",
     "output_type": "stream",
     "text": [
      "Name\tHours\tRate\tHourly_Money\n",
      "Alice\t40\t150\t6000\n",
      "Bob\t35\t160\t5600\n",
      "Charlie\t45\t155\t6975\n",
      "David\t50\t150\t7500\n",
      "Eve\t38\t175\t6650\n",
      "Frank\t42\t165\t6930\n"
     ]
    }
   ],
   "source": [
    "employees = [\n",
    "    [\"Alice\", 40, 150],\n",
    "    [\"Bob\", 35, 160],\n",
    "    [\"Charlie\", 45, 155],\n",
    "    [\"David\", 50, 150],\n",
    "    [\"Eve\", 38, 175],\n",
    "    [\"Frank\", 42, 165],\n",
    "]\n",
    "\n",
    "print(\"Name\\tHours\\tRate\\tHourly_Money\")\n",
    "for employees in employees:\n",
    "    name = employees[0]\n",
    "    hours = employees[1]\n",
    "    rate = employees[2]\n",
    "    hoursly_money = hours * rate\n",
    "    print(f\"{name}\\t{hours}\\t{rate}\\t{hoursly_money}\")"
   ]
  }
 ],
 "metadata": {
  "kernelspec": {
   "display_name": "Python 3",
   "language": "python",
   "name": "python3"
  },
  "language_info": {
   "codemirror_mode": {
    "name": "ipython",
    "version": 3
   },
   "file_extension": ".py",
   "mimetype": "text/x-python",
   "name": "python",
   "nbconvert_exporter": "python",
   "pygments_lexer": "ipython3",
   "version": "3.13.7"
  }
 },
 "nbformat": 4,
 "nbformat_minor": 5
}
