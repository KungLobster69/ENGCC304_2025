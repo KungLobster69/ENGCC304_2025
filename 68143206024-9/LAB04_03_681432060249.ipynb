{
 "cells": [
  {
   "cell_type": "code",
   "execution_count": 4,
   "id": "08bfb427",
   "metadata": {},
   "outputs": [
    {
     "name": "stdout",
     "output_type": "stream",
     "text": [
      "ค่า BMI ของคุณคือ 0.03\n",
      "น้ำหนักน้อยเกินไป\n"
     ]
    }
   ],
   "source": [
    "# Workshop 03: โปรแกรมคํา นวณ BMI\n",
    "\n",
    "weight = float(input(\"ใส่น้ำหนัก(กิโลกรัม):\"))\n",
    "height = float(input(\"ใส่ส่วนสูง(เมตร): \"))\n",
    "\n",
    "bmi = weight / (height ** 2)\n",
    "print(f\"ค่า BMI ของคุณคือ {bmi:.2f}\")\n",
    "\n",
    "if bmi < 18.5:\n",
    "    print(result := \"น้ำหนักน้อยเกินไป\")\n",
    "elif bmi < 23:\n",
    "    print(result := \"น้ำหนักปกติ\")\n",
    "elif bmi < 25:\n",
    "    print(result := \"น้ำหนักมากเกินไป\")\n",
    "else:\n",
    "    print(result := \"อ้วนเกินไป\")"
   ]
  }
 ],
 "metadata": {
  "kernelspec": {
   "display_name": "Python 3",
   "language": "python",
   "name": "python3"
  },
  "language_info": {
   "codemirror_mode": {
    "name": "ipython",
    "version": 3
   },
   "file_extension": ".py",
   "mimetype": "text/x-python",
   "name": "python",
   "nbconvert_exporter": "python",
   "pygments_lexer": "ipython3",
   "version": "3.13.5"
  }
 },
 "nbformat": 4,
 "nbformat_minor": 5
}
