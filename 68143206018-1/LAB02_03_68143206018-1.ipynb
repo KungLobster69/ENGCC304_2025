{
 "cells": [
  {
   "cell_type": "code",
   "execution_count": 1,
   "id": "0e6b1c7b",
   "metadata": {},
   "outputs": [
    {
     "name": "stdout",
     "output_type": "stream",
     "text": [
      "ผลลัพธ์:1.0\n"
     ]
    }
   ],
   "source": [
    "try:\n",
    "    X_str = input(\"X\")\n",
    "    Y_str = input(\"หารด้วย Y\")\n",
    "\n",
    "    X = float(X_str)\n",
    "    Y = float(Y_str)\n",
    "\n",
    "    ผลลัพธ์ = X / Y\n",
    "    print(f\"ผลลัพธ์:{ผลลัพธ์}\")\n",
    "\n",
    "except ValueError:\n",
    "    print(\"ใส่แค่ตัวเลขเท่านั้น\")\n",
    "\n",
    "except ZeroDivisionError:\n",
    "    print(\"ไม่สามารถหารด้วยศูนย์ได้\")\n",
    "\n",
    "except Exception as e:\n",
    "    print(f\"เกิดข้อผิดพลาด: {e}\")"
   ]
  }
 ],
 "metadata": {
  "kernelspec": {
   "display_name": "Python 3",
   "language": "python",
   "name": "python3"
  },
  "language_info": {
   "codemirror_mode": {
    "name": "ipython",
    "version": 3
   },
   "file_extension": ".py",
   "mimetype": "text/x-python",
   "name": "python",
   "nbconvert_exporter": "python",
   "pygments_lexer": "ipython3",
   "version": "3.13.5"
  }
 },
 "nbformat": 4,
 "nbformat_minor": 5
}
