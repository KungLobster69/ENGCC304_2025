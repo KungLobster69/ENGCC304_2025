{
 "cells": [
  {
   "cell_type": "code",
   "execution_count": null,
   "id": "3ff967ea",
   "metadata": {},
   "outputs": [],
   "source": [
    "try:\n",
    "    price_str = input(\"ถามราคาสินค้าต่อชิ้น และเก็บในตัวแปร: \")\n",
    "    price = float(price_str)\n",
    "    quantity_str = input(\"ถามจำนวนสินค้าที่ต้องการซื้อ และเก็บในตัวแปร: \")\n",
    "    quantity = int(price_str)\n",
    "    total_price = price * quantity\n",
    "    print(f\"ราคาสินค้าทั้งหมดคือ {total_price} บาท\")\n",
    "except ValueError :\n",
    "    print(\"ข้อมูลที่ไม่ถูกต้อง กรุณาป้อนเป็นตัวเลขเท่านั้น\")"
   ]
  },
  {
   "cell_type": "code",
   "execution_count": null,
   "id": "6b888931",
   "metadata": {},
   "outputs": [],
   "source": [
    "try:\n",
    "    price_str = input(\"ถามราคาสินค้าต่อชิ้น และเก็บในตัวแปร: \")\n",
    "    quantity_str = input(\"ถามจำนวนสินค้าที่ต้องการซื้อ และเก็บในตัวแปร: \")\n",
    "    \n",
    "    price = float(price_str)\n",
    "    quantity = int(price_str)\n",
    "\n",
    "    total_price = price * quantity\n",
    "    print(f\"ราคาสินค้าทั้งหมดคือ {total_price} บาท\")\n",
    "except ValueError :\n",
    "    print(\"ข้อมูลที่ไม่ถูกต้อง กรุณาป้อนเป็นตัวเลขเท่านั้น\")"
   ]
  }
 ],
 "metadata": {
  "kernelspec": {
   "display_name": "Python 3",
   "language": "python",
   "name": "python3"
  },
  "language_info": {
   "codemirror_mode": {
    "name": "ipython",
    "version": 3
   },
   "file_extension": ".py",
   "mimetype": "text/x-python",
   "name": "python",
   "nbconvert_exporter": "python",
   "pygments_lexer": "ipython3",
   "version": "3.13.5"
  }
 },
 "nbformat": 4,
 "nbformat_minor": 5
}
