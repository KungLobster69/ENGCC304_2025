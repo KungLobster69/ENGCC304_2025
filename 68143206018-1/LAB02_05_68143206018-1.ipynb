{
 "cells": [
  {
   "cell_type": "code",
   "execution_count": null,
   "id": "e1d501f9",
   "metadata": {},
   "outputs": [
    {
     "name": "stdout",
     "output_type": "stream",
     "text": [
      "\n",
      "--- ผลลัพธ์ Workshop 5\n",
      "Usernaem ที่จัดรูปแบบแล้วคือ: WARAPAT SRISUWANPORN\n",
      "สถานะ: Usernaem นี้ใช้ได้\n",
      "----------------------------------------\n",
      "\n",
      "กด Enter เพื่อทำ Workshop ต่อไป...\n"
     ]
    }
   ],
   "source": [
    "user_input = input(\"ชื่อผู้ใช้งาน\")\n",
    "\n",
    "formatted_username = user_input.strip().upper().replace('-', '_')\n",
    "\n",
    "print(\"\\n--- ผลลัพธ์ Workshop 5\")\n",
    "print(f\"Usernaem ที่จัดรูปแบบแล้วคือ: {formatted_username}\")\n",
    "\n",
    "username_length = len(formatted_username)\n",
    "\n",
    "if 5 <= username_length <= 20:\n",
    "    print(\"สถานะ: Username นี้ใช้ได้\")\n",
    "    \n",
    "else:  \n",
    "    print(f\"สถานะ: Username นี้ใช้ไม่ได้ (ต้องมีความยาว 5-20 ตัวอักษร แต่ตอนนี้ยาว {username_length} ตัวอักษร)\")\n",
    "\n",
    "print(\"-\" * 40)            \n",
    "print(\"\\nกด Enter เพื่อทำ Workshop ต่อไป...\")     "
   ]
  }
 ],
 "metadata": {
  "kernelspec": {
   "display_name": "Python 3",
   "language": "python",
   "name": "python3"
  },
  "language_info": {
   "codemirror_mode": {
    "name": "ipython",
    "version": 3
   },
   "file_extension": ".py",
   "mimetype": "text/x-python",
   "name": "python",
   "nbconvert_exporter": "python",
   "pygments_lexer": "ipython3",
   "version": "3.13.5"
  }
 },
 "nbformat": 4,
 "nbformat_minor": 5
}
