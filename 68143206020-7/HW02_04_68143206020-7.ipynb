{
 "cells": [
  {
   "cell_type": "code",
   "execution_count": 2,
   "id": "4b699f83",
   "metadata": {},
   "outputs": [
    {
     "name": "stdout",
     "output_type": "stream",
     "text": [
      "*** โปรแกรมแปลงหน่วยเวลาจากวินาที ***\n",
      "hours = 4 minutes = 10 seconds = 0 \n"
     ]
    }
   ],
   "source": [
    "try: \n",
    " print(\"*** โปรแกรมแปลงหน่วยเวลาจากวินาที ***\")\n",
    " total_seconds = int(input(\"กรอกจำนวนวินาที: \"))\n",
    " minutes = total_seconds//60\n",
    " seconds = total_seconds%60\n",
    " hours = minutes//60\n",
    " minutes_ = minutes%60\n",
    "\n",
    " print(f\"hours = {hours:.0f} minutes = {minutes_:.0f} seconds = {seconds} \")\n",
    "except ValueError:\n",
    " print(\"error\")"
   ]
  }
 ],
 "metadata": {
  "kernelspec": {
   "display_name": "Python 3",
   "language": "python",
   "name": "python3"
  },
  "language_info": {
   "codemirror_mode": {
    "name": "ipython",
    "version": 3
   },
   "file_extension": ".py",
   "mimetype": "text/x-python",
   "name": "python",
   "nbconvert_exporter": "python",
   "pygments_lexer": "ipython3",
   "version": "3.13.9"
  }
 },
 "nbformat": 4,
 "nbformat_minor": 5
}
