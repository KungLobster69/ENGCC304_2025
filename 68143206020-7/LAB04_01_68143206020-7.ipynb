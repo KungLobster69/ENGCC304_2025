{
 "cells": [
  {
   "cell_type": "code",
   "execution_count": null,
   "id": "496ee401",
   "metadata": {},
   "outputs": [],
   "source": [
    "#START\n",
    " #PRINT(Enterscore_math: )\n",
    " #READ score_math\n",
    " #PRINT(Enterscore_science: )\n",
    " #READ score_science\n",
    " #PRINT(Enterscore_eng: )\n",
    " #READ score_eng\n",
    " #Total_Score = score_math + score_science + score_eng\n",
    " #AverageTotal_Score = Total_Score/3\n",
    " #PRINT(\"Average score is :\" ,AverageTotal_Score)\n",
    "#END\n",
    "score_math = int(input(\"ป้อนคะแนนของคุณ: \"))\n",
    "score_science = int(input(\"ป้อนคะแนนของคุณ: \"))\n",
    "score_eng = int(input(\"ป้อนคะแนนของคุณ: \"))\n",
    "Total_Score = int(score_math) + int(score_science) + int(score_eng)\n",
    "AverageTotal_Score = Total_Score/3\n",
    "print(\"Average score is :\" ,AverageTotal_Score)"
   ]
  }
 ],
 "metadata": {
  "language_info": {
   "name": "python"
  }
 },
 "nbformat": 4,
 "nbformat_minor": 5
}
