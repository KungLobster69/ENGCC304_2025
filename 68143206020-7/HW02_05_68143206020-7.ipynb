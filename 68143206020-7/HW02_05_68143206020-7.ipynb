{
 "cells": [
  {
   "cell_type": "code",
   "execution_count": 1,
   "id": "94159919",
   "metadata": {},
   "outputs": [
    {
     "name": "stdout",
     "output_type": "stream",
     "text": [
      "คะแนนของคุณคือ: 88.0\n",
      "ผลการสอบ ผ่าน: True\n"
     ]
    }
   ],
   "source": [
    "try:\n",
    "    while(1):\n",
    "     score = float(input(\"score: \"))   \n",
    "     if score >= 50 and score <= 100 :\n",
    "       T = bool(1)\n",
    "       print(\"คะแนนของคุณคือ:\",score)\n",
    "       print(\"ผลการสอบ ผ่าน:\",T)\n",
    "       break\n",
    "     elif score < 50 and score > 0 :\n",
    "       F = bool(0)\n",
    "       print(\"คะแนนของคุณคือ:\",score)\n",
    "       print(\"ผลการสอบ ไม่ผ่าน:\",F)\n",
    "       break\n",
    "     else:\n",
    "      print(\"คุณกรอกไม่ถูก\")  \n",
    "except ValueError:\n",
    "    print(\"error\")"
   ]
  }
 ],
 "metadata": {
  "kernelspec": {
   "display_name": "Python 3",
   "language": "python",
   "name": "python3"
  },
  "language_info": {
   "codemirror_mode": {
    "name": "ipython",
    "version": 3
   },
   "file_extension": ".py",
   "mimetype": "text/x-python",
   "name": "python",
   "nbconvert_exporter": "python",
   "pygments_lexer": "ipython3",
   "version": "3.13.9"
  }
 },
 "nbformat": 4,
 "nbformat_minor": 5
}
