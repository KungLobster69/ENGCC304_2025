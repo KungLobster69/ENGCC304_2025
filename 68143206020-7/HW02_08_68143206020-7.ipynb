{
 "cells": [
  {
   "cell_type": "code",
   "execution_count": 1,
   "id": "8b9d2f9f",
   "metadata": {},
   "outputs": [
    {
     "name": "stdout",
     "output_type": "stream",
     "text": [
      "gdfgdg\n",
      "จำนวนตัวอักษรทั้งหมด:  6 ตัว\n",
      "มีจำนวนคำทั้งหมด: 1 คำ\n"
     ]
    }
   ],
   "source": [
    "sentence = input(\"กรอกประโยค: \")\n",
    "char_cout = len(sentence)\n",
    "word = sentence.split()\n",
    "word_count = len(word)\n",
    "print(f\"{sentence}\")\n",
    "print(\"จำนวนตัวอักษรทั้งหมด: \",char_cout,\"ตัว\")\n",
    "print(\"มีจำนวนคำทั้งหมด:\",word_count,\"คำ\")"
   ]
  }
 ],
 "metadata": {
  "kernelspec": {
   "display_name": "Python 3",
   "language": "python",
   "name": "python3"
  },
  "language_info": {
   "codemirror_mode": {
    "name": "ipython",
    "version": 3
   },
   "file_extension": ".py",
   "mimetype": "text/x-python",
   "name": "python",
   "nbconvert_exporter": "python",
   "pygments_lexer": "ipython3",
   "version": "3.13.9"
  }
 },
 "nbformat": 4,
 "nbformat_minor": 5
}
