{
 "cells": [
  {
   "cell_type": "code",
   "execution_count": null,
   "id": "4892b0ac",
   "metadata": {},
   "outputs": [],
   "source": [
    "print(\"68143206020-7_อภิรักษ์ พุทธัง\")"
   ]
  }
 ],
 "metadata": {
  "language_info": {
   "name": "python"
  }
 },
 "nbformat": 4,
 "nbformat_minor": 5
}
