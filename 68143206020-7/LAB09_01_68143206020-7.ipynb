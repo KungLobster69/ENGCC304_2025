{
 "cells": [
  {
   "cell_type": "code",
   "execution_count": 1,
   "id": "8e279f49",
   "metadata": {},
   "outputs": [
    {
     "name": "stdout",
     "output_type": "stream",
     "text": [
      "calculate_rectangle_area = 25\n"
     ]
    }
   ],
   "source": [
    "width = int(input(\"ป้อนความกว้าง: \"))\n",
    "height = int(input(\"ป้อนความยาว: \"))\n",
    "def area():\n",
    "    rectangle_area = width * height   \n",
    "    print(f\"calculate_rectangle_area = {rectangle_area}\")\n",
    "area()"
   ]
  }
 ],
 "metadata": {
  "kernelspec": {
   "display_name": "Python 3",
   "language": "python",
   "name": "python3"
  },
  "language_info": {
   "codemirror_mode": {
    "name": "ipython",
    "version": 3
   },
   "file_extension": ".py",
   "mimetype": "text/x-python",
   "name": "python",
   "nbconvert_exporter": "python",
   "pygments_lexer": "ipython3",
   "version": "3.13.9"
  }
 },
 "nbformat": 4,
 "nbformat_minor": 5
}
