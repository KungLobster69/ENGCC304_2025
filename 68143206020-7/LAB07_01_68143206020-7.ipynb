{
 "cells": [
  {
   "cell_type": "code",
   "execution_count": 1,
   "id": "c0d5869b",
   "metadata": {},
   "outputs": [
    {
     "name": "stdout",
     "output_type": "stream",
     "text": [
      "all score:  [90.0, 50.0, 66.0, 70.0, 80.0]\n",
      "คะแนนต่ำสุด:  50.0\n",
      "คะแนนสูงสุด:  90.0\n",
      "คะแนนเฉลี่ย:  71.2\n"
     ]
    }
   ],
   "source": [
    "score_ = []\n",
    "for i in range(5):\n",
    "    score = float(input(\"EnterScore: \"))\n",
    "    score_.append(score)\n",
    "score_min = min(score_)   \n",
    "score_max = max(score_) \n",
    "score_avg = sum(score_)/len(score_)\n",
    "print(\"all score: \",score_)\n",
    "print(\"คะแนนต่ำสุด: \",score_min)\n",
    "print(\"คะแนนสูงสุด: \",score_max)\n",
    "print(\"คะแนนเฉลี่ย: \",score_avg)"
   ]
  }
 ],
 "metadata": {
  "kernelspec": {
   "display_name": "Python 3",
   "language": "python",
   "name": "python3"
  },
  "language_info": {
   "codemirror_mode": {
    "name": "ipython",
    "version": 3
   },
   "file_extension": ".py",
   "mimetype": "text/x-python",
   "name": "python",
   "nbconvert_exporter": "python",
   "pygments_lexer": "ipython3",
   "version": "3.13.9"
  }
 },
 "nbformat": 4,
 "nbformat_minor": 5
}
