{
 "cells": [
  {
   "cell_type": "code",
   "execution_count": 1,
   "id": "65880463",
   "metadata": {},
   "outputs": [
    {
     "name": "stdout",
     "output_type": "stream",
     "text": [
      "ชื่อในรูปแบบ 'นามสกุล ชื่อ' คือ: Puttang Apirak\n"
     ]
    }
   ],
   "source": [
    "full_name = input(\"กรอกชื่อจริง-นามสกุล: \")\n",
    "name_parts = full_name.split()\n",
    "first_name = name_parts[0]\n",
    "last_name = name_parts[1]\n",
    "formatte_name = last_name +\" \" + first_name\n",
    "print(f\"ชื่อในรูปแบบ 'นามสกุล ชื่อ' คือ: {formatte_name}\")"
   ]
  }
 ],
 "metadata": {
  "kernelspec": {
   "display_name": "Python 3",
   "language": "python",
   "name": "python3"
  },
  "language_info": {
   "codemirror_mode": {
    "name": "ipython",
    "version": 3
   },
   "file_extension": ".py",
   "mimetype": "text/x-python",
   "name": "python",
   "nbconvert_exporter": "python",
   "pygments_lexer": "ipython3",
   "version": "3.13.9"
  }
 },
 "nbformat": 4,
 "nbformat_minor": 5
}
