{
 "cells": [
  {
   "cell_type": "code",
   "execution_count": 3,
   "id": "917dbda9",
   "metadata": {},
   "outputs": [
    {
     "name": "stdout",
     "output_type": "stream",
     "text": [
      "สวัสดีคุณ Rak \n",
      "คุณอายุ 21 ปีแล้ว\n"
     ]
    }
   ],
   "source": [
    "try:\n",
    " nickname = input(\"กรอกชื่่อของคุณ: \")\n",
    " birth_year = int(input(\"กรอกปีเกิดของคุณ: \"))\n",
    " currnt_year = int(input(\"กรอกปีพ.ศ. ปัจจุบัน: \"))\n",
    " age = currnt_year-birth_year\n",
    " print(f\"สวัสดีคุณ {nickname} \\nคุณอายุ {age} ปีแล้ว\"  )\n",
    "\n",
    "except ValueError:\n",
    " print(\"error \")"
   ]
  }
 ],
 "metadata": {
  "kernelspec": {
   "display_name": "Python 3",
   "language": "python",
   "name": "python3"
  },
  "language_info": {
   "codemirror_mode": {
    "name": "ipython",
    "version": 3
   },
   "file_extension": ".py",
   "mimetype": "text/x-python",
   "name": "python",
   "nbconvert_exporter": "python",
   "pygments_lexer": "ipython3",
   "version": "3.13.9"
  }
 },
 "nbformat": 4,
 "nbformat_minor": 5
}
