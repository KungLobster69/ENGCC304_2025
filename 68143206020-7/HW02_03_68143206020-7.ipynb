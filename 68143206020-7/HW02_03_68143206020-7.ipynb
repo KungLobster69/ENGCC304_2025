{
 "cells": [
  {
   "cell_type": "code",
   "execution_count": 1,
   "id": "6ade2039",
   "metadata": {},
   "outputs": [
    {
     "name": "stdout",
     "output_type": "stream",
     "text": [
      "ชื่อเล่นสุดเท่ของคุณคือ: API1\n"
     ]
    }
   ],
   "source": [
    "try:\n",
    " first_name = input(\"กรอกชื่อจริง: \")\n",
    " birth_month = input(\"กรอกเดือนเกิด: \")\n",
    " name_part = (first_name[0:3].upper())\n",
    " month_part = len(birth_month)\n",
    " cool_nickname = name_part + str(month_part)\n",
    " print(f\"ชื่อเล่นสุดเท่ของคุณคือ: {cool_nickname}\")\n",
    "except ValueError:\n",
    " print(\"error\")"
   ]
  }
 ],
 "metadata": {
  "kernelspec": {
   "display_name": "Python 3",
   "language": "python",
   "name": "python3"
  },
  "language_info": {
   "codemirror_mode": {
    "name": "ipython",
    "version": 3
   },
   "file_extension": ".py",
   "mimetype": "text/x-python",
   "name": "python",
   "nbconvert_exporter": "python",
   "pygments_lexer": "ipython3",
   "version": "3.13.9"
  }
 },
 "nbformat": 4,
 "nbformat_minor": 5
}
