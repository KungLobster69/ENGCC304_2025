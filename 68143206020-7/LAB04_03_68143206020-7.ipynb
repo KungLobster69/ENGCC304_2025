{
 "cells": [
  {
   "cell_type": "code",
   "execution_count": 1,
   "id": "3f33d80a",
   "metadata": {},
   "outputs": [
    {
     "name": "stdout",
     "output_type": "stream",
     "text": [
      "Your BMI is: 0.0016326530612244899\n",
      "Result: Underweight\n"
     ]
    }
   ],
   "source": [
    "weight = float (input(\"Enter weight (kg): \"))\n",
    "height = float (input(\"Enter height (m): \"))\n",
    "bmi = weight / (height ** 2)\n",
    "print (\"Your BMI is:\", bmi)\n",
    "if bmi < 18.5:\n",
    "   print (\"Result: Underweight\")\n",
    "elif bmi < 23:\n",
    "   print (\"Result: Normal weight\")\n",
    "elif bmi < 25:\n",
    "   print (\"Result: Overweight\")\n",
    "else:\n",
    "   print( \"Result: Obesity\")"
   ]
  }
 ],
 "metadata": {
  "kernelspec": {
   "display_name": "Python 3",
   "language": "python",
   "name": "python3"
  },
  "language_info": {
   "codemirror_mode": {
    "name": "ipython",
    "version": 3
   },
   "file_extension": ".py",
   "mimetype": "text/x-python",
   "name": "python",
   "nbconvert_exporter": "python",
   "pygments_lexer": "ipython3",
   "version": "3.13.9"
  }
 },
 "nbformat": 4,
 "nbformat_minor": 5
}
