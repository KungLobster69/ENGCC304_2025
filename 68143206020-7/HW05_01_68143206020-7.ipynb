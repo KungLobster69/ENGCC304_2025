{
 "cells": [
  {
   "cell_type": "code",
   "execution_count": 2,
   "id": "2d60e156",
   "metadata": {},
   "outputs": [
    {
     "name": "stdout",
     "output_type": "stream",
     "text": [
      "Error:คะแนน :155.0 ไม่ถูกต้อง กรุณาป้อนเลข 0-100 เท่านั้น\n"
     ]
    }
   ],
   "source": [
    "score = float(input(\"ป้อนคะแนน 0 - 100 :\"))\n",
    "if score >= 0 and score <= 100 :\n",
    " if score >= 80 :\n",
    "    print(f\"score :{score} grade A\")\n",
    " elif score >= 70 :\n",
    "        print(f\"score :{score} grade B\")\n",
    " elif score >= 60 :\n",
    "        print(f\"score :{score} grade C\")\n",
    " elif score >= 50 :\n",
    "        print(f\"score :{score} grade D\")\n",
    " else :\n",
    "    print(f\"score :{score} grade F\")\n",
    "else :\n",
    "    print(f\"Error:คะแนน :{score} ไม่ถูกต้อง กรุณาป้อนเลข 0-100 เท่านั้น\")"
   ]
  }
 ],
 "metadata": {
  "kernelspec": {
   "display_name": "Python 3",
   "language": "python",
   "name": "python3"
  },
  "language_info": {
   "codemirror_mode": {
    "name": "ipython",
    "version": 3
   },
   "file_extension": ".py",
   "mimetype": "text/x-python",
   "name": "python",
   "nbconvert_exporter": "python",
   "pygments_lexer": "ipython3",
   "version": "3.13.9"
  }
 },
 "nbformat": 4,
 "nbformat_minor": 5
}
