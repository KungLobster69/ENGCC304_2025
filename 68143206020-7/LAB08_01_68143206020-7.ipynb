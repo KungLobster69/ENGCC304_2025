{
 "cells": [
  {
   "cell_type": "code",
   "execution_count": 1,
   "id": "a5edce6c",
   "metadata": {},
   "outputs": [
    {
     "name": "stdout",
     "output_type": "stream",
     "text": [
      "keyboard 10\n",
      "mouse 300\n",
      "monitor\n"
     ]
    }
   ],
   "source": [
    "product = [\n",
    "    [\"keyboard\",500,10],\n",
    "    [\"mouse\",300,15],\n",
    "    [\"monitor\",4500,8]\n",
    "]\n",
    "print(product[0][0],product[0][2])\n",
    "print(product[1][0],product[1][1])\n",
    "print(product[2][0])"
   ]
  }
 ],
 "metadata": {
  "kernelspec": {
   "display_name": "Python 3",
   "language": "python",
   "name": "python3"
  },
  "language_info": {
   "codemirror_mode": {
    "name": "ipython",
    "version": 3
   },
   "file_extension": ".py",
   "mimetype": "text/x-python",
   "name": "python",
   "nbconvert_exporter": "python",
   "pygments_lexer": "ipython3",
   "version": "3.13.9"
  }
 },
 "nbformat": 4,
 "nbformat_minor": 5
}
