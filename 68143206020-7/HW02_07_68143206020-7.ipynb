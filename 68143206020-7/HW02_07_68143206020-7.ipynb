{
 "cells": [
  {
   "cell_type": "code",
   "execution_count": 1,
   "id": "d7f5b11f",
   "metadata": {},
   "outputs": [
    {
     "name": "stdout",
     "output_type": "stream",
     "text": [
      "รหัสผ่านที่แนะนำสำหรับคุณคือ:  FUJI17_X\n"
     ]
    }
   ],
   "source": [
    "pet_name = input(\"กรอกชือสัตว์เลี้ยง: \")\n",
    "phone_digits = input(\"กรอกเบอร์โทรเลขท้าย2ตัว: \")\n",
    "pet_ = (pet_name[0:4].upper())\n",
    "Password = pet_ + phone_digits + \"_X\"\n",
    "print(\"รหัสผ่านที่แนะนำสำหรับคุณคือ: \",Password)"
   ]
  }
 ],
 "metadata": {
  "kernelspec": {
   "display_name": "Python 3",
   "language": "python",
   "name": "python3"
  },
  "language_info": {
   "codemirror_mode": {
    "name": "ipython",
    "version": 3
   },
   "file_extension": ".py",
   "mimetype": "text/x-python",
   "name": "python",
   "nbconvert_exporter": "python",
   "pygments_lexer": "ipython3",
   "version": "3.13.9"
  }
 },
 "nbformat": 4,
 "nbformat_minor": 5
}
