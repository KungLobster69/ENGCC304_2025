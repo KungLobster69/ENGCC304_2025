{
 "cells": [
  {
   "cell_type": "code",
   "execution_count": 8,
   "id": "2c8d6228",
   "metadata": {},
   "outputs": [
    {
     "name": "stdout",
     "output_type": "stream",
     "text": [
      "คะแนนทั้งหมดที่รับเข้ามา =  5\n",
      "คะแนนสูงสุด =  90\n",
      "คะแนนต่ำสุด =  25\n",
      "คะแนนรวม =  63.0\n"
     ]
    }
   ],
   "source": [
    "scores = []\n",
    "for i in range (1,6) :\n",
    "    new_score = int(input(\"ใส่คะแนน\"))\n",
    "    scores.append(new_score)\n",
    "mean = sum(scores) / len(scores)\n",
    "print (f\"คะแนนทั้งหมดที่รับเข้ามา = \",len(scores))\n",
    "print (f\"คะแนนสูงสุด = \",max(scores))\n",
    "print (f\"คะแนนต่ำสุด = \",min(scores))\n",
    "print (f\"คะแนนรวม = \",mean)\n"
   ]
  }
 ],
 "metadata": {
  "kernelspec": {
   "display_name": "Python 3",
   "language": "python",
   "name": "python3"
  },
  "language_info": {
   "codemirror_mode": {
    "name": "ipython",
    "version": 3
   },
   "file_extension": ".py",
   "mimetype": "text/x-python",
   "name": "python",
   "nbconvert_exporter": "python",
   "pygments_lexer": "ipython3",
   "version": "3.13.5"
  }
 },
 "nbformat": 4,
 "nbformat_minor": 5
}
