{
 "cells": [
  {
   "cell_type": "code",
   "execution_count": 1,
   "id": "2a599487",
   "metadata": {},
   "outputs": [
    {
     "name": "stdout",
     "output_type": "stream",
     "text": [
      "too low\n",
      "too high\n",
      "too low\n",
      "too high\n",
      "too low\n",
      "too low\n",
      "corrected\n"
     ]
    }
   ],
   "source": [
    "import random\n",
    "answer =  random.randint(1,100)\n",
    "while True:\n",
    "    cor = int(input(\"number1-100\"))\n",
    "    if cor > answer :\n",
    "        print(\"too high\")\n",
    "    elif cor < answer :\n",
    "        print(\"too low\")\n",
    "    elif  cor == answer :\n",
    "        print(\"corrected\")\n",
    "        break   "
   ]
  }
 ],
 "metadata": {
  "kernelspec": {
   "display_name": "Python 3",
   "language": "python",
   "name": "python3"
  },
  "language_info": {
   "codemirror_mode": {
    "name": "ipython",
    "version": 3
   },
   "file_extension": ".py",
   "mimetype": "text/x-python",
   "name": "python",
   "nbconvert_exporter": "python",
   "pygments_lexer": "ipython3",
   "version": "3.13.5"
  }
 },
 "nbformat": 4,
 "nbformat_minor": 5
}
