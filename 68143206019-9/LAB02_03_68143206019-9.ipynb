{
 "cells": [
  {
   "cell_type": "code",
   "execution_count": null,
   "id": "5331ef94",
   "metadata": {},
   "outputs": [
    {
     "name": "stdout",
     "output_type": "stream",
     "text": [
      "ผลลัพธ์=10.0\n"
     ]
    }
   ],
   "source": [
    "try :\n",
    "    number = input(\"จำนวนต้น\")\n",
    "    divide = input(\"หารด้วย\")\n",
    "    numflt = float(number)\n",
    "    dvz = float(divide)\n",
    "    result = numflt / dvz\n",
    "    print(f\"ผลลัพธ์={result}\")\n",
    "except ValueError :\n",
    "    print(\"กรุณาใส่ตัวเลขเท่านั้น\")\n",
    "except (ZeroDivisionError) :\n",
    "    print(\"ไม่สามารถหารด้วยศูนย์ได้\")"
   ]
  }
 ],
 "metadata": {
  "kernelspec": {
   "display_name": "Python 3",
   "language": "python",
   "name": "python3"
  },
  "language_info": {
   "codemirror_mode": {
    "name": "ipython",
    "version": 3
   },
   "file_extension": ".py",
   "mimetype": "text/x-python",
   "name": "python",
   "nbconvert_exporter": "python",
   "pygments_lexer": "ipython3",
   "version": "3.13.5"
  }
 },
 "nbformat": 4,
 "nbformat_minor": 5
}
