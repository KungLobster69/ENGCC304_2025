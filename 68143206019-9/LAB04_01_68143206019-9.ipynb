{
 "cells": [
  {
   "cell_type": "code",
   "execution_count": null,
   "id": "d1fe4aaf",
   "metadata": {},
   "outputs": [],
   "source": [
    "#START\n",
    "#    print \"เกรดวิชาคณิตศาสตร์\"\n",
    "#    read  math\n",
    "#    print \"เกรดวิชาวิทยาศาสตร์\"\n",
    "#    read  science\n",
    "#    print \"เกรดวิชาภาษาอังกฤษ\"\n",
    "#    read english\n",
    "#    average = (math+science+english)/3\n",
    "#    print   \"คะแนนเฉลี่ย = average\""
   ]
  },
  {
   "cell_type": "code",
   "execution_count": null,
   "id": "558a7868",
   "metadata": {},
   "outputs": [],
   "source": [
    "math    = int(input(\"เกรดวิชาคณิตศาสตร์\"))\n",
    "science = int(input(\"เกรดวิชาวิทยาศาสตร์\"))\n",
    "english = int(input(\"เกรดวิชาภาษาอังกฤษ\"))\n",
    "\n",
    "mean = (math + science + english)/3\n",
    "\n",
    "print(f\"คะแนนเฉลี่ย = ({math}+{science}+{english})/3 = {mean}\")"
   ]
  }
 ],
 "metadata": {
  "kernelspec": {
   "display_name": "Python 3",
   "language": "python",
   "name": "python3"
  },
  "language_info": {
   "codemirror_mode": {
    "name": "ipython",
    "version": 3
   },
   "file_extension": ".py",
   "mimetype": "text/x-python",
   "name": "python",
   "nbconvert_exporter": "python",
   "pygments_lexer": "ipython3",
   "version": "3.13.5"
  }
 },
 "nbformat": 4,
 "nbformat_minor": 5
}
