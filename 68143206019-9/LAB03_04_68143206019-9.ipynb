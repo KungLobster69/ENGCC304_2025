{
 "cells": [
  {
   "cell_type": "code",
   "execution_count": 6,
   "id": "64aaece3",
   "metadata": {},
   "outputs": [
    {
     "name": "stdout",
     "output_type": "stream",
     "text": [
      "asd          45.0\n",
      "ยอดรรวมสุทธิ:2070.0\n"
     ]
    }
   ],
   "source": [
    "name = input(\"ชื่อสินค้า\")\n",
    "price = float(input(\"ราคาสินค้าต่อชิ้น\"))\n",
    "quantity = int(input(\"จำนวนที่ซื้อ\"))\n",
    "\n",
    "total_price = price * quantity\n",
    "print(f\"{name}          {price}\")\n",
    "print(f\"ยอดรรวมสุทธิ:{total_price}\")"
   ]
  }
 ],
 "metadata": {
  "kernelspec": {
   "display_name": "Python 3",
   "language": "python",
   "name": "python3"
  },
  "language_info": {
   "codemirror_mode": {
    "name": "ipython",
    "version": 3
   },
   "file_extension": ".py",
   "mimetype": "text/x-python",
   "name": "python",
   "nbconvert_exporter": "python",
   "pygments_lexer": "ipython3",
   "version": "3.13.5"
  }
 },
 "nbformat": 4,
 "nbformat_minor": 5
}
