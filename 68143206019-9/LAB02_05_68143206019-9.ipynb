{
 "cells": [
  {
   "cell_type": "code",
   "execution_count": 9,
   "id": "5331ef94",
   "metadata": {},
   "outputs": [
    {
     "name": "stdout",
     "output_type": "stream",
     "text": [
      "7770วินาที = 2ชั่วโมง9นาที30วินาที\n"
     ]
    }
   ],
   "source": [
    "try :\n",
    "    sec = input(\"วินาที\")\n",
    "    secint = int(sec)\n",
    "    min = secint // 60\n",
    "    rm_sec = secint % 60\n",
    "    hour = min // 60\n",
    "    rm_min = min % 60\n",
    "    print(f\"{sec}วินาที = {hour}ชั่วโมง{rm_min}นาที{rm_sec}วินาที\")\n",
    "except ValueError :\n",
    "    print (\"ValueError\")\n"
   ]
  },
  {
   "cell_type": "code",
   "execution_count": 14,
   "id": "d52b9b2d",
   "metadata": {},
   "outputs": [
    {
     "name": "stdout",
     "output_type": "stream",
     "text": [
      "2ชั่วโมง9นาที30วินาที = 7770 วินาที \n"
     ]
    }
   ],
   "source": [
    "try :\n",
    "    hour = input(\"ชั่วโมง\")\n",
    "    min = input(\"นาที\")\n",
    "    sec = input(\"วินาที\")\n",
    "    hi = int(hour)\n",
    "    mi = int(min)\n",
    "    si = int(sec)\n",
    "    sum = (((hi*60)+(mi))*60)+si\n",
    "    print(f\"{hour}ชั่วโมง{min}นาที{sec}วินาที = {sum} วินาที \")\n",
    "except ValueError :\n",
    "    print (\"ValueError\")\n"
   ]
  }
 ],
 "metadata": {
  "kernelspec": {
   "display_name": "Python 3",
   "language": "python",
   "name": "python3"
  },
  "language_info": {
   "codemirror_mode": {
    "name": "ipython",
    "version": 3
   },
   "file_extension": ".py",
   "mimetype": "text/x-python",
   "name": "python",
   "nbconvert_exporter": "python",
   "pygments_lexer": "ipython3",
   "version": "3.13.5"
  }
 },
 "nbformat": 4,
 "nbformat_minor": 5
}
