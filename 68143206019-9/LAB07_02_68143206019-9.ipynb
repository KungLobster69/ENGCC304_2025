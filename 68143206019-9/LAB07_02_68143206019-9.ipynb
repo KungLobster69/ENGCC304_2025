{
 "cells": [
  {
   "cell_type": "code",
   "execution_count": 15,
   "id": "4dc74d00",
   "metadata": {},
   "outputs": [
    {
     "name": "stdout",
     "output_type": "stream",
     "text": [
      "--- Current Inventory ---\n",
      "ID       Name        Stock\n",
      "-------------------------\n",
      "P001     Keyboard    50\n",
      "P002     Mouse       75\n",
      "P003     Monitor     30\n"
     ]
    }
   ],
   "source": [
    "ivt = (\"P001\",\"Keyboard\",50,\"P002\",\"Mouse   \",75,\"P003\",\"Monitor \",30)\n",
    "id = (ivt[0: :3])\n",
    "p_name =(ivt[1: :3])\n",
    "stock =(ivt[2: :3])\n",
    "print(\"--- Current Inventory ---\")\n",
    "print(\"ID       Name        Stock\")\n",
    "print(\"-------------------------\")\n",
    "for i in range (0,3) :\n",
    "    print   (f\"{id[i]}     {p_name[i]}    {stock[i]}\")"
   ]
  }
 ],
 "metadata": {
  "kernelspec": {
   "display_name": "Python 3",
   "language": "python",
   "name": "python3"
  },
  "language_info": {
   "codemirror_mode": {
    "name": "ipython",
    "version": 3
   },
   "file_extension": ".py",
   "mimetype": "text/x-python",
   "name": "python",
   "nbconvert_exporter": "python",
   "pygments_lexer": "ipython3",
   "version": "3.13.5"
  }
 },
 "nbformat": 4,
 "nbformat_minor": 5
}
