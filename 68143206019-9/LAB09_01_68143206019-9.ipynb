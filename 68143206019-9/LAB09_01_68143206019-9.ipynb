{
 "cells": [
  {
   "cell_type": "code",
   "execution_count": 4,
   "id": "727eb9c5",
   "metadata": {},
   "outputs": [
    {
     "name": "stdout",
     "output_type": "stream",
     "text": [
      "round1\n",
      "20\n",
      "round2\n",
      "54\n"
     ]
    }
   ],
   "source": [
    "def cal(w,h) :\n",
    "    a = w * h\n",
    "    print(a)\n",
    "\n",
    "print(\"round1\")\n",
    "WW = int(input(\"กว้าง\"))\n",
    "HH = int(input(\"สูง\"))\n",
    "cal(w=WW,h=HH)\n",
    "print(\"round2\")\n",
    "WW = int(input(\"กว้าง\"))\n",
    "HH = int(input(\"สูง\"))\n",
    "cal(w=WW,h=HH)"
   ]
  }
 ],
 "metadata": {
  "kernelspec": {
   "display_name": "Python 3",
   "language": "python",
   "name": "python3"
  },
  "language_info": {
   "codemirror_mode": {
    "name": "ipython",
    "version": 3
   },
   "file_extension": ".py",
   "mimetype": "text/x-python",
   "name": "python",
   "nbconvert_exporter": "python",
   "pygments_lexer": "ipython3",
   "version": "3.13.5"
  }
 },
 "nbformat": 4,
 "nbformat_minor": 5
}
