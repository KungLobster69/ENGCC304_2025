{
 "cells": [
  {
   "cell_type": "code",
   "execution_count": 13,
   "id": "fe815693",
   "metadata": {},
   "outputs": [
    {
     "name": "stdout",
     "output_type": "stream",
     "text": [
      "your BMI = 19.48696145124717\n",
      "normal weight\n"
     ]
    }
   ],
   "source": [
    "weight = float(input(\"weight\"))\n",
    "height = float(input(\"height\"))\n",
    "bmi = (weight / (height ** 2))\n",
    "print(f\"your BMI = {bmi}\")\n",
    "if      bmi < 18.5 :\n",
    "        print(\"under weight\")\n",
    "elif bmi < 23:\n",
    "        print(\"normal weight\")\n",
    "elif bmi < 25 :\n",
    "        print(\"over weight\")\n",
    "else :\n",
    "        print(\"Obesity\")"
   ]
  }
 ],
 "metadata": {
  "kernelspec": {
   "display_name": "Python 3",
   "language": "python",
   "name": "python3"
  },
  "language_info": {
   "codemirror_mode": {
    "name": "ipython",
    "version": 3
   },
   "file_extension": ".py",
   "mimetype": "text/x-python",
   "name": "python",
   "nbconvert_exporter": "python",
   "pygments_lexer": "ipython3",
   "version": "3.13.5"
  }
 },
 "nbformat": 4,
 "nbformat_minor": 5
}
