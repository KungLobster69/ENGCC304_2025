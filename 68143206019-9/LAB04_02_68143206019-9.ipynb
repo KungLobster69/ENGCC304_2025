{
 "cells": [
  {
   "cell_type": "code",
   "execution_count": null,
   "id": "96b80326",
   "metadata": {},
   "outputs": [],
   "source": [
    "#START\n",
    "#   input \"อายุของท่าน\"\n",
    "#   read  age\n",
    "#   if age <=18 then\n",
    "#   print ท่านมีสิทธิ์เลือกตั้ง\n",
    "#   else\n",
    "#   print ท่านไม่มีสิทธิ์เลือกตั้ง"
   ]
  },
  {
   "cell_type": "code",
   "execution_count": 10,
   "id": "ace6b054",
   "metadata": {},
   "outputs": [
    {
     "name": "stdout",
     "output_type": "stream",
     "text": [
      "ท่านจะมีสิทธิ์เลือกตั้งในอีก3ปี\n"
     ]
    }
   ],
   "source": [
    "age = int(input(\"อายุของท่าน\"))\n",
    "if 18 <= age :\n",
    "    print(\"ท่านมีสิทธิ์เลือกตั้ง\")\n",
    "elif age <= 18:\n",
    "    need = 18-age\n",
    "    print(f\"ท่านจะมีสิทธิ์เลือกตั้งในอีก{need}ปี\")"
   ]
  }
 ],
 "metadata": {
  "kernelspec": {
   "display_name": "Python 3",
   "language": "python",
   "name": "python3"
  },
  "language_info": {
   "codemirror_mode": {
    "name": "ipython",
    "version": 3
   },
   "file_extension": ".py",
   "mimetype": "text/x-python",
   "name": "python",
   "nbconvert_exporter": "python",
   "pygments_lexer": "ipython3",
   "version": "3.13.5"
  }
 },
 "nbformat": 4,
 "nbformat_minor": 5
}
