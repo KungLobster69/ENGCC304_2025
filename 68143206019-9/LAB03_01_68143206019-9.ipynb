{
 "cells": [
  {
   "cell_type": "code",
   "execution_count": 5,
   "id": "0bddf72f",
   "metadata": {},
   "outputs": [
    {
     "name": "stdout",
     "output_type": "stream",
     "text": [
      "ค่าดัชนีมวลกายของคุณคือ: 19.48696145124717\n"
     ]
    }
   ],
   "source": [
    "weight = float(input(\"กรุณาป้อนน้ำหนัก(kg):\"))\n",
    "height = float(input(\"กรุณาป้อนส่วนสูง(cm):\"))\n",
    "\n",
    "height_m = height/100\n",
    "bmi = weight/(height_m**2)\n",
    "\n",
    "print(f\"ค่าดัชนีมวลกายของคุณคือ:\",(bmi))"
   ]
  }
 ],
 "metadata": {
  "kernelspec": {
   "display_name": "Python 3",
   "language": "python",
   "name": "python3"
  },
  "language_info": {
   "codemirror_mode": {
    "name": "ipython",
    "version": 3
   },
   "file_extension": ".py",
   "mimetype": "text/x-python",
   "name": "python",
   "nbconvert_exporter": "python",
   "pygments_lexer": "ipython3",
   "version": "3.13.5"
  }
 },
 "nbformat": 4,
 "nbformat_minor": 5
}
