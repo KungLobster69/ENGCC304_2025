{
 "cells": [
  {
   "cell_type": "code",
   "execution_count": 10,
   "id": "5d36b0ba",
   "metadata": {},
   "outputs": [
    {
     "name": "stdout",
     "output_type": "stream",
     "text": [
      "คะแนน45.0ได้เกรดF\n"
     ]
    }
   ],
   "source": [
    "score = float(input(\"โปรดใส่คะแนนของคุณ\"))\n",
    "if score <50 :\n",
    "    grade = \"F\"\n",
    "elif 70 >score >= 60 :\n",
    "    grade = \"D\"\n",
    "elif 80 >score >= 70 :\n",
    "    grade = \"C\"\n",
    "elif 90 >score >= 80 :\n",
    "    grade = \"B\"\n",
    "elif score >= 90 :\n",
    "    grade = \"A\"\n",
    "print(f\"คะแนน{score}ได้เกรด{grade}\")"
   ]
  }
 ],
 "metadata": {
  "kernelspec": {
   "display_name": "Python 3",
   "language": "python",
   "name": "python3"
  },
  "language_info": {
   "codemirror_mode": {
    "name": "ipython",
    "version": 3
   },
   "file_extension": ".py",
   "mimetype": "text/x-python",
   "name": "python",
   "nbconvert_exporter": "python",
   "pygments_lexer": "ipython3",
   "version": "3.13.5"
  }
 },
 "nbformat": 4,
 "nbformat_minor": 5
}
