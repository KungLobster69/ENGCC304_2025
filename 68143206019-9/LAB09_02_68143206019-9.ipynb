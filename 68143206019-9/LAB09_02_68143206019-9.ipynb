{
 "cells": [
  {
   "cell_type": "code",
   "execution_count": 5,
   "id": "02b3e404",
   "metadata": {},
   "outputs": [
    {
     "name": "stdout",
     "output_type": "stream",
     "text": [
      "พื้นที่วงกลม : 78.53975\n",
      "พื้นที่สามเหลี่ยม : 25.0\n"
     ]
    }
   ],
   "source": [
    "def circle(r) :\n",
    "    return 3.14159 * (r ** 2)\n",
    "def triangle(b,h) :\n",
    "    return (b * h) / 2\n",
    "R = float(input(\"รัศมี\"))\n",
    "area = circle(r=R)\n",
    "print(f\"พื้นที่วงกลม : {area}\")\n",
    "B = float(input(\"ฐาน\"))\n",
    "H = float(input(\"สูง\"))\n",
    "area = triangle(b=B,h=H)\n",
    "print(f\"พื้นที่สามเหลี่ยม : {area}\")"
   ]
  }
 ],
 "metadata": {
  "kernelspec": {
   "display_name": "Python 3",
   "language": "python",
   "name": "python3"
  },
  "language_info": {
   "codemirror_mode": {
    "name": "ipython",
    "version": 3
   },
   "file_extension": ".py",
   "mimetype": "text/x-python",
   "name": "python",
   "nbconvert_exporter": "python",
   "pygments_lexer": "ipython3",
   "version": "3.13.5"
  }
 },
 "nbformat": 4,
 "nbformat_minor": 5
}
