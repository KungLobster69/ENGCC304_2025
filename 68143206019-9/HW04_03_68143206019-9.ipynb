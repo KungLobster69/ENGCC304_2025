{
 "cells": [
  {
   "cell_type": "code",
   "execution_count": null,
   "id": "409c9164",
   "metadata": {},
   "outputs": [],
   "source": [
    "#start\n",
    "#print \"ชั่วโมงที่จอด\"\n",
    "#read t\n",
    "#if t=1\n",
    "#   p = t*0\n",
    "#elif 2 <= t <= 4\n",
    "#   p = (t-1)*20\n",
    "#elif t >= 5\n",
    "#   p = ((t-4)*30)+60\n",
    "#print \"ค่าจอดรถ = \" ,p\n",
    "#end"
   ]
  },
  {
   "cell_type": "code",
   "execution_count": null,
   "id": "43666142",
   "metadata": {},
   "outputs": [
    {
     "name": "stdout",
     "output_type": "stream",
     "text": [
      "ค่าจอดรถ =  120\n"
     ]
    }
   ],
   "source": [
    "t = int (input(\"ชั่วโมงที่จอด\"))\n",
    "if t == 1 :\n",
    "    p = t*0\n",
    "elif 2 <= t <= 4 :\n",
    "    p = (t-1)*20\n",
    "elif t >= 5 :\n",
    "    p = ((t-4)*30)+60\n",
    "print(\"ค่าจอดรถ = \" ,p)"
   ]
  }
 ],
 "metadata": {
  "kernelspec": {
   "display_name": "Python 3",
   "language": "python",
   "name": "python3"
  },
  "language_info": {
   "codemirror_mode": {
    "name": "ipython",
    "version": 3
   },
   "file_extension": ".py",
   "mimetype": "text/x-python",
   "name": "python",
   "nbconvert_exporter": "python",
   "pygments_lexer": "ipython3",
   "version": "3.13.5"
  }
 },
 "nbformat": 4,
 "nbformat_minor": 5
}
