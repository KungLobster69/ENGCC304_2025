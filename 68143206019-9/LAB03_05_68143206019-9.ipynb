{
 "cells": [
  {
   "cell_type": "code",
   "execution_count": null,
   "id": "94f21433",
   "metadata": {},
   "outputs": [],
   "source": [
    "first_name = input(\"ป้อนชื่อจริง (ภาษาอังกฤษ):\")\n",
    "birth_year = input(\"ป้อนปีเกิด (ค.ศ):\")\n",
    "\n",
    "userfirstname = first_name[0:3].lower()\n",
    "useryear = birth_year[2:4]\n",
    "username = first_name + birth_year\n",
    "\n",
    "print(f\"ชื่อผู้ใช้ที่แนะนำสำหรับคุณคือ: {username}\")"
   ]
  }
 ],
 "metadata": {
  "kernelspec": {
   "display_name": "Python 3",
   "language": "python",
   "name": "python3"
  },
  "language_info": {
   "name": "python",
   "version": "3.13.5"
  }
 },
 "nbformat": 4,
 "nbformat_minor": 5
}
