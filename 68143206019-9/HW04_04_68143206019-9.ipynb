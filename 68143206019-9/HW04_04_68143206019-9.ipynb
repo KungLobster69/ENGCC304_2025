{
 "cells": [
  {
   "cell_type": "code",
   "execution_count": null,
   "id": "59948752",
   "metadata": {},
   "outputs": [],
   "source": [
    "#start\n",
    "#   print \"n = ?\"\n",
    "#   read n\n",
    "#   t = 1\n",
    "#   for i from 1 to n\n",
    "#       t = t * i\n",
    "#   endfor\n",
    "#   print t\n",
    "#end"
   ]
  },
  {
   "cell_type": "code",
   "execution_count": 6,
   "id": "d46bc855",
   "metadata": {},
   "outputs": [
    {
     "name": "stdout",
     "output_type": "stream",
     "text": [
      "120\n"
     ]
    }
   ],
   "source": [
    "n = int(input(\"n=?\"))\n",
    "t = 1\n",
    "for i in range(1,n+1) :\n",
    "    t = t * i\n",
    "print(t)"
   ]
  }
 ],
 "metadata": {
  "kernelspec": {
   "display_name": "Python 3",
   "language": "python",
   "name": "python3"
  },
  "language_info": {
   "codemirror_mode": {
    "name": "ipython",
    "version": 3
   },
   "file_extension": ".py",
   "mimetype": "text/x-python",
   "name": "python",
   "nbconvert_exporter": "python",
   "pygments_lexer": "ipython3",
   "version": "3.13.5"
  }
 },
 "nbformat": 4,
 "nbformat_minor": 5
}
