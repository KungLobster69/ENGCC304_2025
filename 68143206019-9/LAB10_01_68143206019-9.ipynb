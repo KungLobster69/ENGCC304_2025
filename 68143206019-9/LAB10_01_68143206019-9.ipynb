{
 "cells": [
  {
   "cell_type": "code",
   "execution_count": null,
   "id": "0f5acbd6",
   "metadata": {},
   "outputs": [],
   "source": [
    "scores = [78 , 55 , 64 , 88 , 45 , 95 , 72 , 49 , 81 , 60]\n",
    "mean = sum(scores) / len(scores)"
   ]
  },
  {
   "cell_type": "code",
   "execution_count": 50,
   "id": "6a6173f5",
   "metadata": {},
   "outputs": [],
   "source": [
    "def count_passed() :\n",
    "    passed = 0\n",
    "    for c in range (0,len(scores)) :\n",
    "        if scores[c] >= 50 :\n",
    "            passed = passed + 1\n",
    "    return  passed"
   ]
  },
  {
   "cell_type": "code",
   "execution_count": 65,
   "id": "f85e6acf",
   "metadata": {},
   "outputs": [],
   "source": [
    "def get_grades():\n",
    "    grades = []\n",
    "    for r in range (0,len(scores)) :\n",
    "        score = scores[r]\n",
    "        if score <50 :\n",
    "            grades.append(\"F\")\n",
    "        elif 54 >score >= 50 :\n",
    "            grades.append(\"D\")\n",
    "        elif 59 >score >= 55 :\n",
    "            grades.append(\"D+\")\n",
    "        elif 64 >score >= 60 :\n",
    "            grades.append(\"C\")\n",
    "        elif 69 >score >= 65 :\n",
    "            grades.append(\"C+\")\n",
    "        elif 74 >score >= 70 :\n",
    "            grades.append(\"B\")\n",
    "        elif 79 >score >= 75 :\n",
    "            grades.append(\"B+\")\n",
    "        elif score >= 80 :\n",
    "            grades.append(\"A\")\n",
    "    return grades"
   ]
  },
  {
   "cell_type": "code",
   "execution_count": 67,
   "id": "7a6ec78d",
   "metadata": {},
   "outputs": [
    {
     "name": "stdout",
     "output_type": "stream",
     "text": [
      "คะแนนทั้งหมด =  [78, 55, 64, 88, 45, 95, 72, 49, 81, 60]\n",
      "คะแนนสูงสุด =  95\n",
      "คะแนนต่ำสุด =  45\n",
      "คะแนนเฉลี่ย =  68.7\n",
      "--------------------\n",
      "จำนวนนักเรียนที่คะแนนเกิน 50 (ผ่าน) : 8\n",
      "เกรดที่นักเรียนแต่ละคน : ['B+', 'D+', 'A', 'F', 'A', 'B', 'F', 'A', 'C']\n"
     ]
    }
   ],
   "source": [
    "passed = count_passed()\n",
    "print (f\"คะแนนทั้งหมด = \",scores)\n",
    "print (f\"คะแนนสูงสุด = \",max(scores))\n",
    "print (f\"คะแนนต่ำสุด = \",min(scores))\n",
    "print (f\"คะแนนเฉลี่ย = \",mean)\n",
    "print (\"--------------------\")\n",
    "grades = get_grades()\n",
    "print(f\"จำนวนนักเรียนที่คะแนนเกิน 50 (ผ่าน) : {passed}\")\n",
    "print(f\"เกรดที่นักเรียนแต่ละคน : {grades}\")"
   ]
  }
 ],
 "metadata": {
  "kernelspec": {
   "display_name": "Python 3",
   "language": "python",
   "name": "python3"
  },
  "language_info": {
   "codemirror_mode": {
    "name": "ipython",
    "version": 3
   },
   "file_extension": ".py",
   "mimetype": "text/x-python",
   "name": "python",
   "nbconvert_exporter": "python",
   "pygments_lexer": "ipython3",
   "version": "3.13.5"
  }
 },
 "nbformat": 4,
 "nbformat_minor": 5
}
