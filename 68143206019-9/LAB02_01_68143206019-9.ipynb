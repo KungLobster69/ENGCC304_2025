{
 "cells": [
  {
   "cell_type": "code",
   "execution_count": 1,
   "id": "5331ef94",
   "metadata": {},
   "outputs": [
    {
     "name": "stdout",
     "output_type": "stream",
     "text": [
      "สวัสดีครับ ผมชื่อืnaชอบกินfoเวลาว่างชอบhoและหนังที่ชอบคือmoครับ\n"
     ]
    }
   ],
   "source": [
    "name = input(\"ชื่อ...\")\n",
    "food = input(\"อาหารที่ชอบ\")\n",
    "hobby = input(\"งานอดิเรก\")\n",
    "movie = input(\"หนังที่ชอบ\")\n",
    "print(f\"สวัสดีครับ ผมชื่อ{name}ชอบกิน{food}เวลาว่างชอบ{hobby}และหนังที่ชอบคือ{movie}ครับ\")"
   ]
  }
 ],
 "metadata": {
  "kernelspec": {
   "display_name": "Python 3",
   "language": "python",
   "name": "python3"
  },
  "language_info": {
   "codemirror_mode": {
    "name": "ipython",
    "version": 3
   },
   "file_extension": ".py",
   "mimetype": "text/x-python",
   "name": "python",
   "nbconvert_exporter": "python",
   "pygments_lexer": "ipython3",
   "version": "3.13.5"
  }
 },
 "nbformat": 4,
 "nbformat_minor": 5
}
