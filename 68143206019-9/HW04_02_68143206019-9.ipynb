{
 "cells": [
  {
   "cell_type": "code",
   "execution_count": null,
   "id": "6fa8687d",
   "metadata": {},
   "outputs": [],
   "source": [
    "#start\n",
    "#print \"ส่วนสูง\"\n",
    "#read h\n",
    "#if h >= 140\n",
    "#   print \"เข้าเล่นได้\"\n",
    "#else\n",
    "#   print \"เข้าเล่นไม่ได้\"\n",
    "#end"
   ]
  },
  {
   "cell_type": "code",
   "execution_count": 5,
   "id": "dbb73429",
   "metadata": {},
   "outputs": [
    {
     "name": "stdout",
     "output_type": "stream",
     "text": [
      "เข้าเล่นไม่ได้\n"
     ]
    }
   ],
   "source": [
    "h = int (input(\"ส่วนสูง\"))\n",
    "if h >= 140 :\n",
    "    print(\"เข้าเล่นได้\")\n",
    "else :\n",
    "    print(\"เข้าเล่นไม่ได้\")"
   ]
  }
 ],
 "metadata": {
  "kernelspec": {
   "display_name": "Python 3",
   "language": "python",
   "name": "python3"
  },
  "language_info": {
   "codemirror_mode": {
    "name": "ipython",
    "version": 3
   },
   "file_extension": ".py",
   "mimetype": "text/x-python",
   "name": "python",
   "nbconvert_exporter": "python",
   "pygments_lexer": "ipython3",
   "version": "3.13.5"
  }
 },
 "nbformat": 4,
 "nbformat_minor": 5
}
