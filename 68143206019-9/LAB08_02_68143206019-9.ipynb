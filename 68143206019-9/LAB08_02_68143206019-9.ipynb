{
 "cells": [
  {
   "cell_type": "code",
   "execution_count": null,
   "id": "73691d81",
   "metadata": {},
   "outputs": [
    {
     "name": "stdout",
     "output_type": "stream",
     "text": [
      "Alice : 6000\n",
      "Bob : 5600\n",
      "Charlie : 6975\n",
      "David : 7000\n",
      "Eve : 6650\n",
      "Frank : 6930\n"
     ]
    }
   ],
   "source": [
    "employee = [\n",
    "    [\"Alice\"   ,40, 150],\n",
    "    [\"Bob\"     ,35, 160],\n",
    "    [\"Charlie\" ,45, 155],\n",
    "    [\"David\"   ,50, 140],\n",
    "    [\"Eve\"     ,38, 175],\n",
    "    [\"Frank\"   ,42, 165],\n",
    "]\n",
    "row = len(employee)\n",
    "for r in range (0,row) :\n",
    "    print(employee[r][0],end=\" : \")\n",
    "    salary = employee[r][1] * employee[r][2]\n",
    "    print(salary)"
   ]
  }
 ],
 "metadata": {
  "kernelspec": {
   "display_name": "Python 3",
   "language": "python",
   "name": "python3"
  },
  "language_info": {
   "codemirror_mode": {
    "name": "ipython",
    "version": 3
   },
   "file_extension": ".py",
   "mimetype": "text/x-python",
   "name": "python",
   "nbconvert_exporter": "python",
   "pygments_lexer": "ipython3",
   "version": "3.13.5"
  }
 },
 "nbformat": 4,
 "nbformat_minor": 5
}
