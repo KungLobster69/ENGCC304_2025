{
 "cells": [
  {
   "cell_type": "code",
   "execution_count": null,
   "id": "f171635a",
   "metadata": {},
   "outputs": [],
   "source": [
    "#start\n",
    "#print \"target\"\n",
    "#read t\n",
    "#print \"savin per month\"\n",
    "#read s\n",
    "#if t%s > 0\n",
    "#   m = (int(t/s))+1\n",
    "#else\n",
    "#   m = (t/s)\n",
    "#print m\n",
    "#end"
   ]
  },
  {
   "cell_type": "code",
   "execution_count": null,
   "id": "c499b7ae",
   "metadata": {},
   "outputs": [
    {
     "name": "stdout",
     "output_type": "stream",
     "text": [
      "4\n"
     ]
    }
   ],
   "source": [
    "t = int(input(\"target\"))\n",
    "s = int(input(\"saving per month\"))\n",
    "if t%s > 0 : \n",
    "    m = (int(t/s))+1\n",
    "else :\n",
    "    m = (t/s)\n",
    "print(m)"
   ]
  }
 ],
 "metadata": {
  "kernelspec": {
   "display_name": "Python 3",
   "language": "python",
   "name": "python3"
  },
  "language_info": {
   "codemirror_mode": {
    "name": "ipython",
    "version": 3
   },
   "file_extension": ".py",
   "mimetype": "text/x-python",
   "name": "python",
   "nbconvert_exporter": "python",
   "pygments_lexer": "ipython3",
   "version": "3.13.5"
  }
 },
 "nbformat": 4,
 "nbformat_minor": 5
}
