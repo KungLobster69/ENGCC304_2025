{
 "cells": [
  {
   "cell_type": "code",
   "execution_count": 6,
   "id": "5331ef94",
   "metadata": {},
   "outputs": [
    {
     "name": "stdout",
     "output_type": "stream",
     "text": [
      "50.0 <class 'float'>\n",
      "4 <class 'int'>\n",
      "200.0 <class 'float'>\n"
     ]
    }
   ],
   "source": [
    "try :\n",
    "    price = float(input(\"ราคาต่อชิ้น\"))\n",
    "    print(price,type(price))\n",
    "    try  :\n",
    "        buying = int(input(\"จำนวนที่ซื้อ\"))\n",
    "        print(buying,type(buying))\n",
    "        total_price = price*buying\n",
    "        print(total_price,type(total_price)) \n",
    "    except ValueError :\n",
    "        print(\"โปรดใส่แค่ตัวเลข\")\n",
    "except ValueError :\n",
    "    print(\"โปรดใส่แค่ตัวเลข\")"
   ]
  }
 ],
 "metadata": {
  "kernelspec": {
   "display_name": "Python 3",
   "language": "python",
   "name": "python3"
  },
  "language_info": {
   "codemirror_mode": {
    "name": "ipython",
    "version": 3
   },
   "file_extension": ".py",
   "mimetype": "text/x-python",
   "name": "python",
   "nbconvert_exporter": "python",
   "pygments_lexer": "ipython3",
   "version": "3.13.5"
  }
 },
 "nbformat": 4,
 "nbformat_minor": 5
}
