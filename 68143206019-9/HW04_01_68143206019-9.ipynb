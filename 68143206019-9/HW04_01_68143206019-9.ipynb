{
 "cells": [
  {
   "cell_type": "code",
   "execution_count": null,
   "id": "914b6636",
   "metadata": {},
   "outputs": [],
   "source": [
    "#start\n",
    "#print \"อุณภูมิ ํC\"\n",
    "#read tempc\n",
    "#tempf = ((tempc*(9/5))+32)\n",
    "#print tempf\n",
    "#end"
   ]
  },
  {
   "cell_type": "code",
   "execution_count": null,
   "id": "9b22ad32",
   "metadata": {},
   "outputs": [
    {
     "name": "stdout",
     "output_type": "stream",
     "text": [
      "(30.0*(9/5))+32 = 86.0 ํF\n"
     ]
    }
   ],
   "source": [
    "tempc = int(input(\"อุณภูมิ ํC\"))\n",
    "tempf = int((tempc*(9/5))+32)\n",
    "print(f\"({tempc}*(9/5))+32 = {tempf} ํF\")"
   ]
  }
 ],
 "metadata": {
  "kernelspec": {
   "display_name": "Python 3",
   "language": "python",
   "name": "python3"
  },
  "language_info": {
   "codemirror_mode": {
    "name": "ipython",
    "version": 3
   },
   "file_extension": ".py",
   "mimetype": "text/x-python",
   "name": "python",
   "nbconvert_exporter": "python",
   "pygments_lexer": "ipython3",
   "version": "3.13.5"
  }
 },
 "nbformat": 4,
 "nbformat_minor": 5
}
