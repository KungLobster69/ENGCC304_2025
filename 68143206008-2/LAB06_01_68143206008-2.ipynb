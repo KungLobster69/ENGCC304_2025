{
 "cells": [
  {
   "cell_type": "code",
   "execution_count": 1,
   "id": "52e2ee9a",
   "metadata": {},
   "outputs": [
    {
     "name": "stdout",
     "output_type": "stream",
     "text": [
      "I'm thinking of a number between 1 and 100.\n",
      "Too low!\n",
      "Too low!\n",
      "Too high!\n",
      "Too high!\n",
      "Too high!\n",
      "Too high!\n",
      "Congratulations! You guessed it right.\n"
     ]
    }
   ],
   "source": [
    "import random\n",
    "\n",
    "# สุ่มตัวเลขระหว่าง 1 ถึง 100\n",
    "answer = random.randint(1, 100)\n",
    "\n",
    "print(\"I'm thinking of a number between 1 and 100.\")\n",
    "\n",
    "# วนรับค่าจากผู้เล่น\n",
    "while True:\n",
    "    guess = int(input(\"Guess the number: \"))  # รับค่าทายตัวเลขจากผู้เล่น\n",
    "\n",
    "    if guess == answer:\n",
    "        print(\"Congratulations! You guessed it right.\")\n",
    "        break  # ออกจาก loop เมื่อทายถูก\n",
    "    elif guess < answer:\n",
    "        print(\"Too low!\")  # ทายน้อยไป\n",
    "    else:\n",
    "        print(\"Too high!\")  # ทายมากไป\n"
   ]
  }
 ],
 "metadata": {
  "kernelspec": {
   "display_name": ".venv",
   "language": "python",
   "name": "python3"
  },
  "language_info": {
   "codemirror_mode": {
    "name": "ipython",
    "version": 3
   },
   "file_extension": ".py",
   "mimetype": "text/x-python",
   "name": "python",
   "nbconvert_exporter": "python",
   "pygments_lexer": "ipython3",
   "version": "3.13.5"
  }
 },
 "nbformat": 4,
 "nbformat_minor": 5
}
