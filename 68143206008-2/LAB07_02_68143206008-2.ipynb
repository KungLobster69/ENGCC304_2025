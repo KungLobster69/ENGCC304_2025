{
 "cells": [
  {
   "cell_type": "code",
   "execution_count": 1,
   "id": "dbd31497",
   "metadata": {},
   "outputs": [
    {
     "name": "stdout",
     "output_type": "stream",
     "text": [
      "ข้อมูลสินค้าทั้งหมดในคลัง:\n",
      "\n",
      "รหัสสินค้า ชื่อสินค้า      จำนวนคงเหลือ\n",
      "-----------------------------------\n",
      "P001       Keyboard        50        \n",
      "P002       Mouse           75        \n",
      "P003       Monitor         30        \n"
     ]
    }
   ],
   "source": [
    "# สร้าง List ที่ชื่อว่า inventory โดยแต่ละสินค้าจะเป็น Tuple (รหัส, ชื่อสินค้า, จำนวนคงเหลือ)\n",
    "inventory = [\n",
    "    (\"P001\", \"Keyboard\", 50),\n",
    "    (\"P002\", \"Mouse\", 75),\n",
    "    (\"P003\", \"Monitor\", 30)\n",
    "]\n",
    "\n",
    "# แสดงผลข้อมูลสินค้า\n",
    "print(\"ข้อมูลสินค้าทั้งหมดในคลัง:\\n\")\n",
    "print(\"{:<10} {:<15} {:<10}\".format(\"รหัสสินค้า\", \"ชื่อสินค้า\", \"จำนวนคงเหลือ\"))\n",
    "print(\"-\" * 35)\n",
    "\n",
    "for item in inventory:\n",
    "    code, name, qty = item\n",
    "    print(\"{:<10} {:<15} {:<10}\".format(code, name, qty))\n"
   ]
  }
 ],
 "metadata": {
  "kernelspec": {
   "display_name": ".venv",
   "language": "python",
   "name": "python3"
  },
  "language_info": {
   "codemirror_mode": {
    "name": "ipython",
    "version": 3
   },
   "file_extension": ".py",
   "mimetype": "text/x-python",
   "name": "python",
   "nbconvert_exporter": "python",
   "pygments_lexer": "ipython3",
   "version": "3.13.5"
  }
 },
 "nbformat": 4,
 "nbformat_minor": 5
}
