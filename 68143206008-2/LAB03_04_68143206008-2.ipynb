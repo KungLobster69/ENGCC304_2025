{
 "cells": [
  {
   "cell_type": "code",
   "execution_count": 9,
   "id": "6ddb3467",
   "metadata": {},
   "outputs": [
    {
     "name": "stdout",
     "output_type": "stream",
     "text": [
      "\n",
      "--- ใบเสร็จอย่างย่อ ---\n",
      "รายการ: กล้วย\n",
      "ยอดรวมสุทธิ: 100.00 บาท\n"
     ]
    }
   ],
   "source": [
    "# รับชื่อสินค้า (item_name), ราคา (price), และจานวน (quantity)\n",
    "#  คำนวณราคารวม (total = price * quantity)\n",
    "#  ใช f-string เพื่อแสดงผลใบเสร็จอย่างย่อให้สวยงาม\n",
    "\n",
    "item_name = input(\"ชื่อสินค้า: \") \n",
    "price = float(input(\"ราคาสินค้าต่อชิ้น: \")) \n",
    "quantity = int(input(\"จำนวน: \")) \n",
    "\n",
    "total = price * quantity \n",
    "\n",
    "print(f\"\\n--- ใบเสร็จอย่างย่อ ---\") \n",
    "print(f\"รายการ: {item_name}\") \n",
    "print(f\"ยอดรวมสุทธิ: {total:.2f} บาท\")"
   ]
  }
 ],
 "metadata": {
  "kernelspec": {
   "display_name": ".venv",
   "language": "python",
   "name": "python3"
  },
  "language_info": {
   "codemirror_mode": {
    "name": "ipython",
    "version": 3
   },
   "file_extension": ".py",
   "mimetype": "text/x-python",
   "name": "python",
   "nbconvert_exporter": "python",
   "pygments_lexer": "ipython3",
   "version": "3.13.5"
  }
 },
 "nbformat": 4,
 "nbformat_minor": 5
}
