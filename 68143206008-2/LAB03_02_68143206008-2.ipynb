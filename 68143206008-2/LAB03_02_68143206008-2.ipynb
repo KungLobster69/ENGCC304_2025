{
 "cells": [
  {
   "cell_type": "code",
   "execution_count": 1,
   "id": "6ddb3467",
   "metadata": {},
   "outputs": [
    {
     "name": "stdout",
     "output_type": "stream",
     "text": [
      "เช่ารถได้: True\n",
      "มีส่วนลด: False\n"
     ]
    }
   ],
   "source": [
    "age = 25 \n",
    "has_license = True \n",
    "\n",
    "can_rent_car = (age >= 21) and (has_license == True) \n",
    "print(\"เช่ารถได้:\", can_rent_car) # Output: True\n",
    "\n",
    "is_student = False \n",
    "is_senior = age >= 60 \n",
    "has_discount = is_student or is_senior \n",
    "print(\"มีส่วนลด:\", has_discount) # Output: False"
   ]
  }
 ],
 "metadata": {
  "kernelspec": {
   "display_name": ".venv",
   "language": "python",
   "name": "python3"
  },
  "language_info": {
   "codemirror_mode": {
    "name": "ipython",
    "version": 3
   },
   "file_extension": ".py",
   "mimetype": "text/x-python",
   "name": "python",
   "nbconvert_exporter": "python",
   "pygments_lexer": "ipython3",
   "version": "3.13.5"
  }
 },
 "nbformat": 4,
 "nbformat_minor": 5
}
