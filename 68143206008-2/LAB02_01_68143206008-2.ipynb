{
 "cells": [
  {
   "cell_type": "code",
   "execution_count": null,
   "id": "66643545",
   "metadata": {},
   "outputs": [],
   "source": [
    "name = input(\"ป้อนชื่อคุณ: \") \n",
    "favorite_food = input(\"อาหารที่ชอบ: \") \n",
    "favorite_movie = input(\"หนังที่ชอบ: \") \n",
    "hobby = input(\"งานอดิเรก: \") \n",
    "print(f\"สวัสดีครับ ผมชื่อ {name} ชอบกิน {favorite_food} เวลาว่างชอบ {hobby} เรื่องโปรดคือ {favorite_movie}\")"
   ]
  }
 ],
 "metadata": {
  "kernelspec": {
   "display_name": ".venv",
   "language": "python",
   "name": "python3"
  },
  "language_info": {
   "codemirror_mode": {
    "name": "ipython",
    "version": 3
   },
   "file_extension": ".py",
   "mimetype": "text/x-python",
   "name": "python",
   "nbconvert_exporter": "python",
   "pygments_lexer": "ipython3",
   "version": "3.13.5"
  }
 },
 "nbformat": 4,
 "nbformat_minor": 5
}
