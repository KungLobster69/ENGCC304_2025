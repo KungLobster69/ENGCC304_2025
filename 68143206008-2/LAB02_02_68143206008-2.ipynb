{
 "cells": [
  {
   "cell_type": "code",
   "execution_count": null,
   "id": "705b8148",
   "metadata": {},
   "outputs": [
    {
     "name": "stdout",
     "output_type": "stream",
     "text": [
      "ราคารวมทั้งหมด 1000.00 บาท\n"
     ]
    }
   ],
   "source": [
    "try:\n",
    "    price_p = input(\"ใส่ราคาสินค้าต่อชิ้น: \")\n",
    "    quantity_p = input(\"ใส่จำนวนสินค้าที่ต้องการซื้อ: \")\n",
    "\n",
    "    float_price_p = float(price_p) \n",
    "    int_quantity_p = int(quantity_p)\n",
    "\n",
    "    total_p = float_price_p * int_quantity_p\n",
    "    print(f\"ราคารวมทั้งหมด {total_p:.2f} บาท\")\n",
    "\n",
    "except ValueError:\n",
    "    print(\"กรุณาใส่ตัวเลขที่ถูกต้อง\")\n",
    "\n"
   ]
  }
 ],
 "metadata": {
  "kernelspec": {
   "display_name": ".venv",
   "language": "python",
   "name": "python3"
  },
  "language_info": {
   "codemirror_mode": {
    "name": "ipython",
    "version": 3
   },
   "file_extension": ".py",
   "mimetype": "text/x-python",
   "name": "python",
   "nbconvert_exporter": "python",
   "pygments_lexer": "ipython3",
   "version": "3.13.5"
  }
 },
 "nbformat": 4,
 "nbformat_minor": 5
}
