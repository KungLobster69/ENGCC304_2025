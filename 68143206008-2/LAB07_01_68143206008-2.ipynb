{
 "cells": [
  {
   "cell_type": "code",
   "execution_count": 1,
   "id": "d30cdcab",
   "metadata": {},
   "outputs": [
    {
     "name": "stdout",
     "output_type": "stream",
     "text": [
      "\n",
      "คะแนนทั้งหมด: [1.0, 2.0, 3.0, 4.0, 5.0]\n",
      "คะแนนสูงสุด: 5.0\n",
      "คะแนนต่ำสุด: 1.0\n",
      "คะแนนเฉลี่ย: 3.0\n"
     ]
    }
   ],
   "source": [
    "# โปรแกรมจัดการคะแนนนักศึกษา 5 คน\n",
    "\n",
    "# สร้าง List ว่างสำหรับเก็บคะแนน\n",
    "scores = []\n",
    "\n",
    "# รับค่าคะแนนจากผู้ใช้ 5 รอบ\n",
    "for i in range(5):\n",
    "    score = float(input(f\"ป้อนคะแนนนักศึกษาคนที่ {i+1}: \"))\n",
    "    scores.append(score)\n",
    "\n",
    "# แสดงผลคะแนนทั้งหมด\n",
    "print(\"\\nคะแนนทั้งหมด:\", scores)\n",
    "\n",
    "# หาคะแนนสูงสุด\n",
    "print(\"คะแนนสูงสุด:\", max(scores))\n",
    "\n",
    "# หาคะแนนต่ำสุด\n",
    "print(\"คะแนนต่ำสุด:\", min(scores))\n",
    "\n",
    "# หาคะแนนเฉลี่ย\n",
    "average = sum(scores) / len(scores)\n",
    "print(\"คะแนนเฉลี่ย:\", average)\n"
   ]
  }
 ],
 "metadata": {
  "kernelspec": {
   "display_name": ".venv",
   "language": "python",
   "name": "python3"
  },
  "language_info": {
   "codemirror_mode": {
    "name": "ipython",
    "version": 3
   },
   "file_extension": ".py",
   "mimetype": "text/x-python",
   "name": "python",
   "nbconvert_exporter": "python",
   "pygments_lexer": "ipython3",
   "version": "3.13.5"
  }
 },
 "nbformat": 4,
 "nbformat_minor": 5
}
