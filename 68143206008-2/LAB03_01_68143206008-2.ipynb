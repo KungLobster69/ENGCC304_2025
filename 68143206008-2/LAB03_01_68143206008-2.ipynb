{
 "cells": [
  {
   "cell_type": "code",
   "execution_count": null,
   "id": "6ddb3467",
   "metadata": {},
   "outputs": [
    {
     "name": "stdout",
     "output_type": "stream",
     "text": [
      "ค่าดัชนีมวลกาย (BMI) ของคุณคือ: 21.604938271604937\n"
     ]
    }
   ],
   "source": [
    "# เขียนโปรแกรมเพื่อคำนวณดัชนีมวลกาย (BMI)\n",
    "#  สูตร: BMI = น้ำหนัก (kg) / (ส่วนสูง (m))^2\n",
    "\n",
    "weight_kg = float(input(\"กรุณาป้อนน้ำหนัก (kg): \")) \n",
    "height_cm = float(input(\"กรุณาป้อนส่วนสูง (cm): \")) \n",
    "\n",
    "height_m = height_cm / 100\n",
    "bmi = weight_kg / (height_m ** 2)\n",
    "\n",
    "print(\"ค่าดัชนีมวลกาย (BMI) ของคุณคือ:\", bmi)\n"
   ]
  }
 ],
 "metadata": {
  "kernelspec": {
   "display_name": ".venv",
   "language": "python",
   "name": "python3"
  },
  "language_info": {
   "codemirror_mode": {
    "name": "ipython",
    "version": 3
   },
   "file_extension": ".py",
   "mimetype": "text/x-python",
   "name": "python",
   "nbconvert_exporter": "python",
   "pygments_lexer": "ipython3",
   "version": "3.13.5"
  }
 },
 "nbformat": 4,
 "nbformat_minor": 5
}
