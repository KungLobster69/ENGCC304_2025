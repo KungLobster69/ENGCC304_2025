{
 "cells": [
  {
   "cell_type": "code",
   "execution_count": 1,
   "id": "52e2ee9a",
   "metadata": {},
   "outputs": [
    {
     "name": "stdout",
     "output_type": "stream",
     "text": [
      "The average score is: 10.0\n"
     ]
    }
   ],
   "source": [
    "# START\n",
    "#     PRINT \"Enter score for Math\":\n",
    "#     READ math_score\n",
    "\n",
    "#     PRINT \"Enter score for Science\"\n",
    "#     READ science_score\n",
    "\n",
    "#     PRINT \"Enter score for English\"\n",
    "#     READ english_score\n",
    "\n",
    "#     sum_score = math_score + science_score + english_score \n",
    "#     average_score = sum_score / 3\n",
    "\n",
    "#     PRINT \"The average_score is:\", average_score\n",
    "# END\n",
    "\n",
    "# รับคะแนนทั้ง 3 วิชา\n",
    "math_score = float(input(\"Enter score for Math: \"))\n",
    "science_score = float(input(\"Enter score for Science: \"))\n",
    "english_score = float(input(\"Enter score for English: \"))\n",
    "\n",
    "# คำนวณผลรวมและค่าเฉลี่ย\n",
    "sum_score = math_score + science_score + english_score\n",
    "average_score = sum_score / 3\n",
    "\n",
    "# แสดงผลลัพธ์\n",
    "print(\"The average score is:\", average_score)"
   ]
  }
 ],
 "metadata": {
  "kernelspec": {
   "display_name": ".venv",
   "language": "python",
   "name": "python3"
  },
  "language_info": {
   "codemirror_mode": {
    "name": "ipython",
    "version": 3
   },
   "file_extension": ".py",
   "mimetype": "text/x-python",
   "name": "python",
   "nbconvert_exporter": "python",
   "pygments_lexer": "ipython3",
   "version": "3.13.5"
  }
 },
 "nbformat": 4,
 "nbformat_minor": 5
}
