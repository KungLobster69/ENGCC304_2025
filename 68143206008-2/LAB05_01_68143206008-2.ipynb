{
 "cells": [
  {
   "cell_type": "code",
   "execution_count": 1,
   "id": "52e2ee9a",
   "metadata": {},
   "outputs": [
    {
     "name": "stdout",
     "output_type": "stream",
     "text": [
      "คะแนน 80.0 ได้เกรด A\n"
     ]
    }
   ],
   "source": [
    "score_input = float(input(\"กรุณาป้อนคะแนนของคุณ (0-100): \"))\n",
    "\n",
    "grade = \"\"\n",
    "\n",
    "if score_input >= 80:\n",
    "    grade = \"A\"\n",
    "elif score_input >= 70:\n",
    "    grade = \"B\"   \n",
    "elif score_input >= 60:\n",
    "    grade = \"C\"\n",
    "elif score_input >= 50:\n",
    "    grade = \"D\"\n",
    "else:    \n",
    "    grade = \"F\"\n",
    "\n",
    "print(f\"คะแนน {score_input} ได้เกรด {grade}\") "
   ]
  },
  {
   "cell_type": "code",
   "execution_count": 2,
   "id": "6873b811",
   "metadata": {},
   "outputs": [
    {
     "name": "stdout",
     "output_type": "stream",
     "text": [
      "คะแนน 50.0 ได้เกรด D\n"
     ]
    }
   ],
   "source": [
    "score_input = float(input(\"กรุณาป้อนคะแนนของคุณ (0-100): \"))\n",
    "\n",
    "if score_input >= 0 and score_input <= 100:\n",
    "\n",
    "    grade = \"\"\n",
    "\n",
    "    if score_input >= 80:\n",
    "        grade = \"A\"\n",
    "    elif score_input >= 70:\n",
    "        grade = \"B\"   \n",
    "    elif score_input >= 60:\n",
    "        grade = \"C\"\n",
    "    elif score_input >= 50:\n",
    "        grade = \"D\"\n",
    "    else:    \n",
    "        grade = \"F\"\n",
    "\n",
    "    print(f\"คะแนน {score_input} ได้เกรด {grade}\")\n",
    "else:\n",
    "    print(f\"คะแนน '{score_input}' ไม่ถูกต้อง กรุณาป้อนคะแนนในช่วง 0-100 เท่านั้น\")\n"
   ]
  }
 ],
 "metadata": {
  "kernelspec": {
   "display_name": ".venv",
   "language": "python",
   "name": "python3"
  },
  "language_info": {
   "codemirror_mode": {
    "name": "ipython",
    "version": 3
   },
   "file_extension": ".py",
   "mimetype": "text/x-python",
   "name": "python",
   "nbconvert_exporter": "python",
   "pygments_lexer": "ipython3",
   "version": "3.13.5"
  }
 },
 "nbformat": 4,
 "nbformat_minor": 5
}
