{
 "cells": [
  {
   "cell_type": "code",
   "execution_count": 1,
   "id": "52e2ee9a",
   "metadata": {},
   "outputs": [
    {
     "name": "stdout",
     "output_type": "stream",
     "text": [
      "You are eligible to vote. \n"
     ]
    }
   ],
   "source": [
    "# START\n",
    "#     PRINT \"Please enter  your age:\"\n",
    "#     READ age\n",
    "\n",
    "#     IF age >= 18 THEN\n",
    "#         PRINT \"You are eligible to vote.\"\n",
    "#     ELSE\n",
    "#         PRINT \"You are not eligible to vote\"\n",
    "#     ENDIF\n",
    "# END\n",
    "\n",
    "# รับอายุจากผู้ใช้\n",
    "\n",
    "age_str = input(\"Please enter your age: \")\n",
    "age = int(age_str)\n",
    "\n",
    "# ตรวจสอบเงื่อนไขตามที่กำหนด\n",
    "if age >= 18:\n",
    "    print(\"You are eligible to vote. \")\n",
    "else:\n",
    "    print(\"You are not eligible to vote. \")\n"
   ]
  },
  {
   "cell_type": "code",
   "execution_count": 2,
   "id": "2e84ef10",
   "metadata": {},
   "outputs": [
    {
     "name": "stdout",
     "output_type": "stream",
     "text": [
      "You are eligible to vote.\n"
     ]
    }
   ],
   "source": [
    "# START\n",
    "#     PRINT \"Please enter your age:\"\n",
    "#     READ age\n",
    "\n",
    "#     IF age >= 18 THEN\n",
    "#         PRINT \"You are eligible to vote.\"\n",
    "#     ELSE\n",
    "#         years_left = 18 - age\n",
    "#         PRINT \"You are not eligible to vote.\"\n",
    "#         PRINT \"You will be eligible in\", years_left, \"years.\"\n",
    "#         ENDIF\n",
    "#     END\n",
    "\n",
    "# รับอายุจากผู้ใช้\n",
    "\n",
    "age_str = input(\"Please enter your age: \")\n",
    "age = int(age_str)\n",
    "\n",
    "# ตรวจสอบเงื่อนไขตามที่กำหนด\n",
    "if age >= 18:\n",
    "    print(\"You are eligible to vote.\")\n",
    "else:\n",
    "    # คำนวณจำนวนปีที่เหลือ\n",
    "    years_left = 18 - age\n",
    "    print(\"You are not eligible to vote.\")\n",
    "    print(\"You will be eligible in\", years_left, \"years.\")"
   ]
  }
 ],
 "metadata": {
  "kernelspec": {
   "display_name": ".venv",
   "language": "python",
   "name": "python3"
  },
  "language_info": {
   "codemirror_mode": {
    "name": "ipython",
    "version": 3
   },
   "file_extension": ".py",
   "mimetype": "text/x-python",
   "name": "python",
   "nbconvert_exporter": "python",
   "pygments_lexer": "ipython3",
   "version": "3.13.5"
  }
 },
 "nbformat": 4,
 "nbformat_minor": 5
}
