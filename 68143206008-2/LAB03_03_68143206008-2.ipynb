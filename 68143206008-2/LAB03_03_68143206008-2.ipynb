{
 "cells": [
  {
   "cell_type": "code",
   "execution_count": 3,
   "id": "6ddb3467",
   "metadata": {},
   "outputs": [
    {
     "name": "stdout",
     "output_type": "stream",
     "text": [
      "ราคาตั๋วของคุณคือ: 100.0 บาท\n"
     ]
    }
   ],
   "source": [
    "#  รับ อายุ (age) จากผู้ใช้\n",
    "#  เงื่อนไข: เด็ก (อายุ <= 12 ปี): 50 บาท, ผู้ใหญ่: 100 บาท\n",
    "#  ค่าใบ้: True มีค่าเท่ากับ 1, False มีค่าเท่ากับ 0\n",
    "\n",
    "# ตรงนี้ใช้ Boolean Arithmetic (การคำนวณด้วยค่า True/False ที่ถูกแปลงเป็นตัวเลข True = 1, False = 0)\n",
    "\n",
    "# not is_child จะให้ True ถ้าไม่ใช่เด็ก → ค่าคือ 1 ถ้าเป็นผู้ใหญ่, 0 ถ้าเป็นเด็ก\n",
    "\n",
    "# ดังนั้น:\n",
    "\n",
    "# ถ้า เด็ก:\n",
    "# not is_child = False (0), is_child = True (1)\n",
    "# ⇒ price = 0 * 100 + 1 * 50 = 50\n",
    "\n",
    "# ถ้า ไม่ใช่เด็ก:\n",
    "# not is_child = True (1), is_child = False (0)\n",
    "# ⇒ price = 1 * 100 + 0 * 50 = 100\n",
    "\n",
    "age = int(input(\"กรุณาป้อนอายุของคุณ: \")) \n",
    "is_child = age <= 12 \n",
    "price = (not is_child) * 100 + is_child * 50 \n",
    "print(\"ราคาตั๋วของคุณคือ:\", int(price), \"บาท\")"
   ]
  }
 ],
 "metadata": {
  "kernelspec": {
   "display_name": ".venv",
   "language": "python",
   "name": "python3"
  },
  "language_info": {
   "codemirror_mode": {
    "name": "ipython",
    "version": 3
   },
   "file_extension": ".py",
   "mimetype": "text/x-python",
   "name": "python",
   "nbconvert_exporter": "python",
   "pygments_lexer": "ipython3",
   "version": "3.13.5"
  }
 },
 "nbformat": 4,
 "nbformat_minor": 5
}
