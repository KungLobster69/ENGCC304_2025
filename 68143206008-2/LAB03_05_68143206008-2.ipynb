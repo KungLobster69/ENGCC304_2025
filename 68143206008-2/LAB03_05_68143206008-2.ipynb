{
 "cells": [
  {
   "cell_type": "code",
   "execution_count": 8,
   "id": "6ddb3467",
   "metadata": {},
   "outputs": [
    {
     "name": "stdout",
     "output_type": "stream",
     "text": [
      "ชื่อผู้ใช้ที่แนะนำสำหรับคุณคือ: kan04\n"
     ]
    }
   ],
   "source": [
    "first_name = input(\"ป้อนชื่อจริง (ภาษาอังกฤษ): \") \n",
    "birth_year = input(\"ป้อนปีเกิด (ค.ศ.): \")\n",
    "\n",
    "# ตัดชื่อจริง (first_name) มาเฉพาะ 3 ตัวอักษรแรก ([0:3])\n",
    "# จากนั้นแปลงให้เป็น ตัวพิมพ์เล็ก ด้วย .lower()\n",
    "# เช่น:\n",
    "# first_name = \"Michael\" → name_part = \"mic\"\n",
    "# first_name = \"Anna\" → name_part = \"ann\"\n",
    "name_part = first_name[0:3].lower() \n",
    "\n",
    "# ตัดปีเกิดเอา 2 ตัวท้าย (หลักสิบและหลักหน่วยของปี ค.ศ.)\n",
    "# เช่น:\n",
    "# birth_year = \"2005\" → year_part = \"05\"\n",
    "# birth_year = \"1999\" → year_part = \"99\"\n",
    "year_part = birth_year[2:4] \n",
    "username = name_part + year_part \n",
    "\n",
    "print(f\"ชื่อผู้ใช้ที่แนะนำสำหรับคุณคือ: {username}\")"
   ]
  }
 ],
 "metadata": {
  "kernelspec": {
   "display_name": ".venv",
   "language": "python",
   "name": "python3"
  },
  "language_info": {
   "codemirror_mode": {
    "name": "ipython",
    "version": 3
   },
   "file_extension": ".py",
   "mimetype": "text/x-python",
   "name": "python",
   "nbconvert_exporter": "python",
   "pygments_lexer": "ipython3",
   "version": "3.13.5"
  }
 },
 "nbformat": 4,
 "nbformat_minor": 5
}
