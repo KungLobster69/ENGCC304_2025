{
 "cells": [
  {
   "cell_type": "code",
   "execution_count": 3,
   "id": "11393411",
   "metadata": {},
   "outputs": [
    {
     "name": "stdout",
     "output_type": "stream",
     "text": [
      "9000วินาที=2ชั่วโมง30นาที0วินาที\n"
     ]
    }
   ],
   "source": [
    "try:\n",
    "    เวลา_str = input(\"วินาที: \")\n",
    "    เวลา_int = int(เวลา_str)\n",
    "    \n",
    "    นาที = เวลา_int // 60\n",
    "    วินาทีที่เหลือ = เวลา_int % 60\n",
    "    ชั่วโมง = นาที // 60\n",
    "    นาทีที่เหลือ = นาที % 60\n",
    "    print (f\"{เวลา_int}วินาที={ชั่วโมง}ชั่วโมง{นาทีที่เหลือ}นาที{วินาทีที่เหลือ}วินาที\")\n",
    "except ValueError:\n",
    "    print (\"กรุณาป้อนเป็นตัวเลขเท่านั้น\")\n",
    "except ZeroDivisionError:\n",
    "    print (\"ข้อผิดพลาด:ไม่สามารถหารด้วยศูนย์ได้\")\n",
    "\n",
    "\n"
   ]
  }
 ],
 "metadata": {
  "kernelspec": {
   "display_name": "Python 3",
   "language": "python",
   "name": "python3"
  },
  "language_info": {
   "codemirror_mode": {
    "name": "ipython",
    "version": 3
   },
   "file_extension": ".py",
   "mimetype": "text/x-python",
   "name": "python",
   "nbconvert_exporter": "python",
   "pygments_lexer": "ipython3",
   "version": "3.13.5"
  }
 },
 "nbformat": 4,
 "nbformat_minor": 5
}
