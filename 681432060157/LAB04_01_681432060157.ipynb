{
 "cells": [
  {
   "cell_type": "code",
   "execution_count": null,
   "id": "843f4148",
   "metadata": {},
   "outputs": [],
   "source": [
    "#start\n",
    "#   print \"Eater Score for math\"\n",
    "#   read math_score\n",
    "\n",
    "#   print \"Eater Score for science\"\n",
    "#   read science_score\n",
    "\n",
    "#   print \"Eater Score for english\"\n",
    "#   read english_score\n",
    "\n",
    "#   sum_score = Math_score + science_score + english_score\n",
    "#   average_score = sum / 3\n",
    "\n",
    "#   print \"the average score is:\",average_score\n",
    "\n",
    "#END\n",
    "\n",
    "math_score = float(input(\"Eater Score For Math:\"))\n",
    "science_score = float(input(\"Eater Score For Science:\"))\n",
    "english_score = float(input(\"Eater Score For English:\"))\n",
    "\n",
    "sum_score = math_score + science_score + english_score\n",
    "average_score = sum / 3\n",
    "\n",
    "print (\"the average score is:\",average_score)"
   ]
  }
 ],
 "metadata": {
  "kernelspec": {
   "display_name": "Python 3",
   "language": "python",
   "name": "python3"
  },
  "language_info": {
   "codemirror_mode": {
    "name": "ipython",
    "version": 3
   },
   "file_extension": ".py",
   "mimetype": "text/x-python",
   "name": "python",
   "nbconvert_exporter": "python",
   "pygments_lexer": "ipython3",
   "version": "3.13.5"
  }
 },
 "nbformat": 4,
 "nbformat_minor": 5
}
