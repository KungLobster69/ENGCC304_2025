{
 "cells": [
  {
   "cell_type": "code",
   "execution_count": 1,
   "id": "7ec2baab",
   "metadata": {},
   "outputs": [
    {
     "name": "stdout",
     "output_type": "stream",
     "text": [
      "ใส่อายุของคุณ:\n",
      "มีสิทธิ์เลือกตั้ง\n"
     ]
    }
   ],
   "source": [
    "# Workshop 02: โปรแกรมตรวจสอบสิทธิ์เลือกตั้งสําหรับหน่วยเลือกตั้ง\n",
    "\n",
    "print (\"ใส่อายุของคุณ:\")\n",
    "age = int(input())\n",
    "\n",
    "if age >= 18 and age <= 60:\n",
    "    print(\"มีสิทธิ์เลือกตั้ง\")\n",
    "else:\n",
    "    print(\"ไม่มีสิทธิ์เลือกตั้ง\")\n",
    "    print(\"ต้องมีอายุระหว่าง 18 ถึง 60 ปีเพื่อมีสิทธิ์เลือกตั้ง\")"
   ]
  }
 ],
 "metadata": {
  "kernelspec": {
   "display_name": "Python 3",
   "language": "python",
   "name": "python3"
  },
  "language_info": {
   "codemirror_mode": {
    "name": "ipython",
    "version": 3
   },
   "file_extension": ".py",
   "mimetype": "text/x-python",
   "name": "python",
   "nbconvert_exporter": "python",
   "pygments_lexer": "ipython3",
   "version": "3.13.5"
  }
 },
 "nbformat": 4,
 "nbformat_minor": 5
}
