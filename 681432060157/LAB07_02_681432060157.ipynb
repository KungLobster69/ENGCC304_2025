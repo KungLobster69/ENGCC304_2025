{
 "cells": [
  {
   "cell_type": "code",
   "execution_count": 2,
   "id": "843f4148",
   "metadata": {},
   "outputs": [
    {
     "name": "stdout",
     "output_type": "stream",
     "text": [
      "ข้อมูลสินค้าคงคลัง:\n",
      "--------------------\n",
      "รหัสสินค้า: P001, ชื่อสินค้า: Keyboard, จำนวนคงเหลือ: 50\n",
      "รหัสสินค้า: P002, ชื่อสินค้า: Mouse, จำนวนคงเหลือ: 75\n",
      "รหัสสินค้า: P003, ชื่อสินค้า: Monitor, จำนวนคงเหลือ: 30\n"
     ]
    }
   ],
   "source": [
    "inventory = [\n",
    "    (\"P001\", \"Keyboard\", 50),\n",
    "    (\"P002\", \"Mouse\", 75),\n",
    "    (\"P003\", \"Monitor\", 30)\n",
    "]\n",
    "print(\"ข้อมูลสินค้าคงคลัง:\")\n",
    "print(\"--------------------\")\n",
    "for item in inventory:\n",
    "    product_code, product_name, stock_quantity = item\n",
    "    print(f\"รหัสสินค้า: {product_code}, ชื่อสินค้า: {product_name}, จำนวนคงเหลือ: {stock_quantity}\")\n"
   ]
  }
 ],
 "metadata": {
  "kernelspec": {
   "display_name": "Python 3",
   "language": "python",
   "name": "python3"
  },
  "language_info": {
   "codemirror_mode": {
    "name": "ipython",
    "version": 3
   },
   "file_extension": ".py",
   "mimetype": "text/x-python",
   "name": "python",
   "nbconvert_exporter": "python",
   "pygments_lexer": "ipython3",
   "version": "3.13.5"
  }
 },
 "nbformat": 4,
 "nbformat_minor": 5
}
