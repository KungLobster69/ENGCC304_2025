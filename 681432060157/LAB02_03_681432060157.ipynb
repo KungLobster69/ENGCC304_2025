{
 "cells": [
  {
   "cell_type": "code",
   "execution_count": 9,
   "id": "410c7a6d",
   "metadata": {},
   "outputs": [
    {
     "name": "stdout",
     "output_type": "stream",
     "text": [
      "ผลลัพธ์ที่ได้:15.0\n"
     ]
    }
   ],
   "source": [
    "try:\n",
    "    X_str = input(\"X\")\n",
    "    Y_str = input(\"หารด้วย Y\")\n",
    "\n",
    "    x = float(X_str)\n",
    "    y = float(Y_str)\n",
    "    ผลลัพธ์ = x / y\n",
    "    print (f\"ผลลัพธ์ที่ได้:{ผลลัพธ์}\")\n",
    "except ValueError:\n",
    "    print (\"กรุณาป้อนเป็นตัวเลขเท่านั้น\")\n",
    "except ZeroDivisionError:\n",
    "    print (\"ข้อผิดพลาด:ไม่สามารถหารด้วยศูนย์ได้\")\n",
    "\n",
    "\n"
   ]
  }
 ],
 "metadata": {
  "kernelspec": {
   "display_name": "Python 3",
   "language": "python",
   "name": "python3"
  },
  "language_info": {
   "codemirror_mode": {
    "name": "ipython",
    "version": 3
   },
   "file_extension": ".py",
   "mimetype": "text/x-python",
   "name": "python",
   "nbconvert_exporter": "python",
   "pygments_lexer": "ipython3",
   "version": "3.13.5"
  }
 },
 "nbformat": 4,
 "nbformat_minor": 5
}
