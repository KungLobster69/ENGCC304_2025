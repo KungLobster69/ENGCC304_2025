{
 "cells": [
  {
   "cell_type": "code",
   "execution_count": 2,
   "id": "843f4148",
   "metadata": {},
   "outputs": [
    {
     "name": "stdout",
     "output_type": "stream",
     "text": [
      "Let's go gambling\n",
      "Now let's me roll d100 \n",
      "5\n",
      "เยอะไปพี่\n"
     ]
    }
   ],
   "source": [
    "import random\n",
    "answer= random.randint(1, 100)\n",
    "print (\"Let's go gambling\")\n",
    "print (\"Now let's me roll d100 \")\n",
    "print (answer)\n",
    "while True:\n",
    "    try :\n",
    "        guess= int(input(\"youคำตอบ\"))\n",
    "        if 100> guess <=0 :            \n",
    "            print (f\"d100มีแค่1-100 {guess}มายังไง!!!\")\n",
    "        else:\n",
    "            if guess > answer :\n",
    "                print(\"เยอะไปพี่\")\n",
    "            elif guess < answer :\n",
    "                print(\"น้อยไปหน่อย\")\n",
    "            else:\n",
    "                 print(\"เก่งมากBroเอาไป1gp\")\n",
    "            break\n",
    "    except ValueError:\n",
    "        print (\"กรุณาป้อนเป็นตัวเลขเท่านั้น\")"
   ]
  }
 ],
 "metadata": {
  "kernelspec": {
   "display_name": "Python 3",
   "language": "python",
   "name": "python3"
  },
  "language_info": {
   "codemirror_mode": {
    "name": "ipython",
    "version": 3
   },
   "file_extension": ".py",
   "mimetype": "text/x-python",
   "name": "python",
   "nbconvert_exporter": "python",
   "pygments_lexer": "ipython3",
   "version": "3.13.5"
  }
 },
 "nbformat": 4,
 "nbformat_minor": 5
}
