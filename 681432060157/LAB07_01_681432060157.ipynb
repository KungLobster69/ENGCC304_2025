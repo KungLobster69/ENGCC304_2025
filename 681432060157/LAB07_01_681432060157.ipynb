{
 "cells": [
  {
   "cell_type": "code",
   "execution_count": 10,
   "id": "843f4148",
   "metadata": {},
   "outputs": [
    {
     "name": "stdout",
     "output_type": "stream",
     "text": [
      "results\n",
      "All Scores: [5.0, 4.0, 3.0, 2.0, 1.0]\n",
      "highest score: 5.0\n",
      "lowest score: 1.0\n",
      "Average score: 3.0\n"
     ]
    }
   ],
   "source": [
    "scores = []\n",
    "for i in range(5):\n",
    "    score = float(input(f\"ใส่คะแนนนักเรียน{i+1}\"))\n",
    "    scores.append(score)\n",
    "\n",
    "print(\"results\")\n",
    "print(f\"All Scores: {scores}\")\n",
    "print(f\"highest score: {max(scores)}\")\n",
    "print(f\"lowest score: {min(scores)}\")\n",
    "print(f\"Average score: {sum(scores)/len(scores)}\")"
   ]
  }
 ],
 "metadata": {
  "kernelspec": {
   "display_name": "Python 3",
   "language": "python",
   "name": "python3"
  },
  "language_info": {
   "codemirror_mode": {
    "name": "ipython",
    "version": 3
   },
   "file_extension": ".py",
   "mimetype": "text/x-python",
   "name": "python",
   "nbconvert_exporter": "python",
   "pygments_lexer": "ipython3",
   "version": "3.13.5"
  }
 },
 "nbformat": 4,
 "nbformat_minor": 5
}
