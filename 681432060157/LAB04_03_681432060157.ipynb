{
 "cells": [
  {
   "cell_type": "code",
   "execution_count": 3,
   "id": "843f4148",
   "metadata": {},
   "outputs": [
    {
     "name": "stdout",
     "output_type": "stream",
     "text": [
      "ค่าดัชนีมวลกาย (BMI) ของคุณคือ: 17.301038062283737\n",
      "น้ำหนักน้อยกว่าเกณฑ์\n"
     ]
    }
   ],
   "source": [
    "try:\n",
    "    weight_kg = float(input(\"กรุณาป้อนน้ำหนัก (kg): \"))\n",
    "    height_cm = float(input(\"กรุณาป้อนส่วนสูง (cm): \"))\n",
    "\n",
    "\n",
    "    height_m = height_cm / 100\n",
    "    BMI = weight_kg / (height_m **2)\n",
    "    print(\"ค่าดัชนีมวลกาย (BMI) ของคุณคือ:\", BMI)\n",
    "    if BMI >25: \n",
    "        print(\"โรคอ้วน\")\n",
    "    elif BMI >23:\n",
    "        print(\"น้ำหนักเกิน\")\n",
    "    elif BMI >18.5:\n",
    "        print(\"น้ำหนักปกติ\")\n",
    "    else:\n",
    "        print(\"น้ำหนักน้อยกว่าเกณฑ์\")\n",
    "except ValueError:\n",
    "    print (\"กรุณาป้อนเป็นตัวเลขเท่านั้น\")"
   ]
  }
 ],
 "metadata": {
  "kernelspec": {
   "display_name": "Python 3",
   "language": "python",
   "name": "python3"
  },
  "language_info": {
   "codemirror_mode": {
    "name": "ipython",
    "version": 3
   },
   "file_extension": ".py",
   "mimetype": "text/x-python",
   "name": "python",
   "nbconvert_exporter": "python",
   "pygments_lexer": "ipython3",
   "version": "3.13.5"
  }
 },
 "nbformat": 4,
 "nbformat_minor": 5
}
