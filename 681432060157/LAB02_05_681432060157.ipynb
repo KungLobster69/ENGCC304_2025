{
 "cells": [
  {
   "cell_type": "code",
   "execution_count": null,
   "id": "b1eeeff3",
   "metadata": {},
   "outputs": [],
   "source": [
    "Username = input (\"Username\")\n",
    "US = Username.strip().lower().replace(' ', '_')\n",
    "\n",
    "num_us = len(US)\n",
    "if 5 <= num_us <=20:\n",
    "    print(f\"สถานะ:{US} นี้ใช้ได้\")\n",
    "else:\n",
    "    print(f\"สถานะ:{US} ใช้ไม่ได้ (ต้องมีความยาว 5-20 ตัวอักษร แต่ตอนนี้ยาว {num_us}ตัวอักษร)\")\n"
   ]
  }
 ],
 "metadata": {
  "kernelspec": {
   "display_name": "Python 3",
   "language": "python",
   "name": "python3"
  },
  "language_info": {
   "codemirror_mode": {
    "name": "ipython",
    "version": 3
   },
   "file_extension": ".py",
   "mimetype": "text/x-python",
   "name": "python",
   "nbconvert_exporter": "python",
   "pygments_lexer": "ipython3",
   "version": "3.13.5"
  }
 },
 "nbformat": 4,
 "nbformat_minor": 5
}
