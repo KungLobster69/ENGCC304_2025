{
 "cells": [
  {
   "cell_type": "code",
   "execution_count": 21,
   "id": "843f4148",
   "metadata": {},
   "outputs": [
    {
     "name": "stdout",
     "output_type": "stream",
     "text": [
      "คะแนนติดลบไม่สามารถคำนวนได้เกรด=Super F \n"
     ]
    }
   ],
   "source": [
    "try:\n",
    "    score = float(input(\"กรอกคะแนน\"))\n",
    "    score2=score\n",
    "\n",
    "    if score >= 100:\n",
    "        grade= \"ไม่สามาคำนวนได้\"\n",
    "        score2= \"เกิน\"  \n",
    "    elif score >= 80:\n",
    "        grade= \"A\"\n",
    "    elif score >=70:\n",
    "        grade= \"B\"\n",
    "    elif score >= 60:\n",
    "        grade= \"C\"\n",
    "    elif score >=50:\n",
    "        grade= \"D\"\n",
    "    elif score <50 and score >=0:\n",
    "        grade= \"F\"\n",
    "    else:\n",
    "        grade=\"=Super F \"\n",
    "        score2= \"ติดลบไม่สามารถคำนวนได้\"\n",
    "\n",
    "\n",
    "    \n",
    "    print(f\"คะแนน{score2}เกรด{grade}\")\n",
    "\n",
    "except ValueError:\n",
    "    print (\"กรุณาป้อนเป็นตัวเลขเท่านั้น\")"
   ]
  }
 ],
 "metadata": {
  "kernelspec": {
   "display_name": "Python 3",
   "language": "python",
   "name": "python3"
  },
  "language_info": {
   "codemirror_mode": {
    "name": "ipython",
    "version": 3
   },
   "file_extension": ".py",
   "mimetype": "text/x-python",
   "name": "python",
   "nbconvert_exporter": "python",
   "pygments_lexer": "ipython3",
   "version": "3.13.5"
  }
 },
 "nbformat": 4,
 "nbformat_minor": 5
}
