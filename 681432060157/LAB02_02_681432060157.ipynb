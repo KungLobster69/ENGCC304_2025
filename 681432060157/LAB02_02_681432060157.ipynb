{
 "cells": [
  {
   "cell_type": "code",
   "execution_count": null,
   "id": "8ec6e942",
   "metadata": {},
   "outputs": [
    {
     "name": "stdout",
     "output_type": "stream",
     "text": [
      "ราคาสินค้าทั้งหมดคือ23892.00บาท\n"
     ]
    }
   ],
   "source": [
    "try:\n",
    "    ราคา_str = input(\"ราคาสินค้าต่อชิ้น\")\n",
    "    จำนวน_str = input(\"จำนวนสินค้าที่ต้องการซื้อ\")\n",
    "\n",
    "    ราคา = float(ราคา_str)\n",
    "    จํานวน = int(จำนวน_str)\n",
    "    ราคาทั้งหมด = ราคา * จํานวน\n",
    "    print (f\"ราคาสินค้าทั้งหมดคือ{ราคาทั้งหมด}บาท\")\n",
    "except ValueError:\n",
    "    print(\"ข้อมูลผิดใส่เลขเท่านั้น\")"
   ]
  }
 ],
 "metadata": {
  "kernelspec": {
   "display_name": "Python 3",
   "language": "python",
   "name": "python3"
  },
  "language_info": {
   "codemirror_mode": {
    "name": "ipython",
    "version": 3
   },
   "file_extension": ".py",
   "mimetype": "text/x-python",
   "name": "python",
   "nbconvert_exporter": "python",
   "pygments_lexer": "ipython3",
   "version": "3.13.5"
  }
 },
 "nbformat": 4,
 "nbformat_minor": 5
}
