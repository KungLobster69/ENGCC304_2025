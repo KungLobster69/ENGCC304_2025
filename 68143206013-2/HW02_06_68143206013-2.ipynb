{
 "cells": [
  {
   "cell_type": "code",
   "execution_count": null,
   "id": "9d4793d7",
   "metadata": {},
   "outputs": [
    {
     "name": "stdout",
     "output_type": "stream",
     "text": [
      "ค่าดัชนีมวลกาย (BMI) ของคุณคือ: 19.96\n"
     ]
    }
   ],
   "source": [
    "try:\n",
    "    weight_kg = float(input(\"ป้อนน้ําหนักของคุณ (kg): \"))\n",
    "    height_cm = float(input(\"ป้อนส่วนสูงของคุณ (cm): \"))\n",
    "    bmi = weight_kg / (height_cm/100)**2 \n",
    "    print(f\"ค่าดัชนีมวลกาย (BMI) ของคุณคือ: {bmi:.2f}\")\n",
    "except ValueError:\n",
    "    print(\"error\")"
   ]
  }
 ],
 "metadata": {
  "kernelspec": {
   "display_name": "Python 3",
   "language": "python",
   "name": "python3"
  },
  "language_info": {
   "codemirror_mode": {
    "name": "ipython",
    "version": 3
   },
   "file_extension": ".py",
   "mimetype": "text/x-python",
   "name": "python",
   "nbconvert_exporter": "python",
   "pygments_lexer": "ipython3",
   "version": "3.13.5"
  }
 },
 "nbformat": 4,
 "nbformat_minor": 5
}
