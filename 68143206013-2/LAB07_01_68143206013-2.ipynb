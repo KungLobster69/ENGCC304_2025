{
 "cells": [
  {
   "cell_type": "code",
   "execution_count": null,
   "id": "69c0c5f4",
   "metadata": {},
   "outputs": [
    {
     "name": "stdout",
     "output_type": "stream",
     "text": [
      "[78.0, 68.0, 77.0, 56.0, 99.0]\n",
      "คะแนนต่ำสุด:  56.0\n",
      "คะแนนสูงสุด:  99.0\n",
      "คะแนนเฉลี่ย:  75.6\n"
     ]
    }
   ],
   "source": [
    "score_ = []\n",
    "for i in range(5):\n",
    "    score = float(input(\"EnterScore: \"))\n",
    "    score_.append(score)\n",
    "score_min = min(score_)   \n",
    "score_max = max(score_) \n",
    "score_avg = sum(score_)/len(score_)\n",
    "print(\"all score: \",score_)\n",
    "print(\"คะแนนต่ำสุด: \",score_min)\n",
    "print(\"คะแนนสูงสุด: \",score_max)\n",
    "print(\"คะแนนเฉลี่ย: \",score_avg)\n"
   ]
  }
 ],
 "metadata": {
  "kernelspec": {
   "display_name": ".venv",
   "language": "python",
   "name": "python3"
  },
  "language_info": {
   "codemirror_mode": {
    "name": "ipython",
    "version": 3
   },
   "file_extension": ".py",
   "mimetype": "text/x-python",
   "name": "python",
   "nbconvert_exporter": "python",
   "pygments_lexer": "ipython3",
   "version": "3.13.5"
  }
 },
 "nbformat": 4,
 "nbformat_minor": 5
}
