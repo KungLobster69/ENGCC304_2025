{
 "cells": [
  {
   "cell_type": "code",
   "execution_count": 5,
   "id": "0af2ae59",
   "metadata": {},
   "outputs": [
    {
     "name": "stdout",
     "output_type": "stream",
     "text": [
      "ค่า BMI ของคุณคือ 19.96\n",
      "คุณมีน้ําหนักปกติ\n"
     ]
    }
   ],
   "source": [
    "kg = float(input(\"ป้อนน้ําหนักของคุณ (kg): \"))\n",
    "h = float(input(\"ป้อนส่วนสูงของคุณ (cm): \"))\n",
    "bmi = kg / (h/100)**2 \n",
    "print(f\"ค่า BMI ของคุณคือ {bmi:.2f}\")\n",
    "if bmi < 18.5:\n",
    "    print(\"คุณมีน้ําหนักน้อยกว่าค่าปกติ\")\n",
    "elif bmi < 23:\n",
    "    print(\"คุณมีน้ําหนักปกติ\")    \n",
    "elif bmi < 25:\n",
    "    print(\"คุณมีน้ําหนักเกิน\")\n",
    "else:\n",
    "    print(\"คุณมีน้ําหนักมากกว่าค่าปกติ\")"
   ]
  }
 ],
 "metadata": {
  "kernelspec": {
   "display_name": ".venv",
   "language": "python",
   "name": "python3"
  },
  "language_info": {
   "codemirror_mode": {
    "name": "ipython",
    "version": 3
   },
   "file_extension": ".py",
   "mimetype": "text/x-python",
   "name": "python",
   "nbconvert_exporter": "python",
   "pygments_lexer": "ipython3",
   "version": "3.13.5"
  }
 },
 "nbformat": 4,
 "nbformat_minor": 5
}
