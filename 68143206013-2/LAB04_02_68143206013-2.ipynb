{
 "cells": [
  {
   "cell_type": "code",
   "execution_count": 2,
   "id": "db033742",
   "metadata": {},
   "outputs": [
    {
     "name": "stdout",
     "output_type": "stream",
     "text": [
      "ท่านไม่มีสิทธิ์เลือกตั้ง\n",
      "คุณต้องรออีก 3 ปี\n"
     ]
    }
   ],
   "source": [
    "#START\n",
    " #PRINT \"EnterAge: \"\n",
    " #READ Age\n",
    " #IF Age>18 THEN\n",
    " #PRINT \"ท่านมีสิทธิ์เลือกตั้ง\"\n",
    " #ELSE \n",
    " #PRINT \"ท่านไม่มีสิทธิ์เลือกตั้ง\"\n",
    " #Age_ = 18 - Age\n",
    "#END\n",
    "\n",
    "Age = int(input(\"ป้อนอายุของคุณ: \"))\n",
    "if Age >= 18:\n",
    "   print(\"ท่านมีสิทธิ์เลือกตั้ง\")\n",
    "else:\n",
    "   print(\"ท่านไม่มีสิทธิ์เลือกตั้ง\")\n",
    "   Age_ = 18 - Age\n",
    "   print(\"คุณต้องรออีก\",Age_,\"ปี\")\n",
    "  "
   ]
  }
 ],
 "metadata": {
  "kernelspec": {
   "display_name": ".venv",
   "language": "python",
   "name": "python3"
  },
  "language_info": {
   "codemirror_mode": {
    "name": "ipython",
    "version": 3
   },
   "file_extension": ".py",
   "mimetype": "text/x-python",
   "name": "python",
   "nbconvert_exporter": "python",
   "pygments_lexer": "ipython3",
   "version": "3.13.5"
  }
 },
 "nbformat": 4,
 "nbformat_minor": 5
}
