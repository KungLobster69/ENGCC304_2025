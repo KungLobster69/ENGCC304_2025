{
 "cells": [
  {
   "cell_type": "code",
   "execution_count": 3,
   "id": "9f1de27f",
   "metadata": {},
   "outputs": [
    {
     "name": "stdout",
     "output_type": "stream",
     "text": [
      "ชื่อในรูปแบบ 'นามสกุล ชื่อ' คือ: jaikan witchakorn\n"
     ]
    }
   ],
   "source": [
    "full_name = input(\"กรอกชื่อจริง-นามสกุล: \")\n",
    "name_parts = full_name.split()\n",
    "first_name = name_parts[0]\n",
    "last_name = name_parts[1]\n",
    "formatte_name = last_name +\" \" + first_name\n",
    "print(f\"ชื่อในรูปแบบ 'นามสกุล ชื่อ' คือ: {formatte_name}\")\n"
   ]
  }
 ],
 "metadata": {
  "kernelspec": {
   "display_name": "Python 3",
   "language": "python",
   "name": "python3"
  },
  "language_info": {
   "codemirror_mode": {
    "name": "ipython",
    "version": 3
   },
   "file_extension": ".py",
   "mimetype": "text/x-python",
   "name": "python",
   "nbconvert_exporter": "python",
   "pygments_lexer": "ipython3",
   "version": "3.13.5"
  }
 },
 "nbformat": 4,
 "nbformat_minor": 5
}
