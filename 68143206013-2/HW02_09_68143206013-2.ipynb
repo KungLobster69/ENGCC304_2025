{
 "cells": [
  {
   "cell_type": "code",
   "execution_count": 2,
   "id": "93892854",
   "metadata": {},
   "outputs": [
    {
     "name": "stdout",
     "output_type": "stream",
     "text": [
      "คุณได้รับส่วนลด 10% เป็นเงิน 90.0 บาท\n",
      "ราคาสุทธิที่ต้องชำระคือ: 810.0 บาท\n"
     ]
    }
   ],
   "source": [
    "try:\n",
    " price = float(input(\"กรอกราคาสินค้า: \"))\n",
    " if price > 500:\n",
    "    price_ = price*0.10\n",
    "    final_price = price - price_\n",
    "    print(\"คุณได้รับส่วนลด 10% เป็นเงิน\",price_,\"บาท\")\n",
    "    print(\"ราคาสุทธิที่ต้องชำระคือ:\",final_price ,\"บาท\")\n",
    " else:\n",
    "    print(\"ราคาสุทธิที่ต้องชำระคือ:\",price,\"บาท\")\n",
    "except ValueError:\n",
    "    print(\"กรุณากรอกตัวเลข\")"
   ]
  }
 ],
 "metadata": {
  "kernelspec": {
   "display_name": "Python 3",
   "language": "python",
   "name": "python3"
  },
  "language_info": {
   "codemirror_mode": {
    "name": "ipython",
    "version": 3
   },
   "file_extension": ".py",
   "mimetype": "text/x-python",
   "name": "python",
   "nbconvert_exporter": "python",
   "pygments_lexer": "ipython3",
   "version": "3.13.5"
  }
 },
 "nbformat": 4,
 "nbformat_minor": 5
}
