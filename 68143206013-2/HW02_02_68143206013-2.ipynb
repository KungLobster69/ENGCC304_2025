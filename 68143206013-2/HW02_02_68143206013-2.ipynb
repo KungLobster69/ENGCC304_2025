{
 "cells": [
  {
   "cell_type": "code",
   "execution_count": 6,
   "id": "a6b5b0c3",
   "metadata": {},
   "outputs": [
    {
     "name": "stdout",
     "output_type": "stream",
     "text": [
      "ราคารวม: 1000.00 บาท \n",
      "ทิป 5%: 50.00 บาท  \n",
      "ยอดรวมสุทธิ: 1050.00 บาท  \n",
      "จ่ายคนละ: 105.00 บาท \n"
     ]
    }
   ],
   "source": [
    "try:\n",
    "   total_cost = float(input(\"กรอกราคารวมอาหาร: \"))\n",
    "   tip_pct = int(input(\"กรอก%ทิปที่อยากจะให้: \"))\n",
    "   num_people = int(input(\"กรอกจำนวนคน: \"))\n",
    "   tip_mount = float(total_cost*(tip_pct/100))\n",
    "   final_bill = float(total_cost + tip_mount)\n",
    "   cost_per_person = float(final_bill/num_people)\n",
    "   print(f\"ราคารวม: {total_cost:.2f} บาท \\nทิป {tip_pct}%: {tip_mount:.2f} บาท  \\nยอดรวมสุทธิ: {final_bill:.2f} บาท  \\nจ่ายคนละ: {cost_per_person:.2f} บาท \")\n",
    "except ValueError:\n",
    "    print(\"error \")"
   ]
  }
 ],
 "metadata": {
  "kernelspec": {
   "display_name": "Python 3",
   "language": "python",
   "name": "python3"
  },
  "language_info": {
   "codemirror_mode": {
    "name": "ipython",
    "version": 3
   },
   "file_extension": ".py",
   "mimetype": "text/x-python",
   "name": "python",
   "nbconvert_exporter": "python",
   "pygments_lexer": "ipython3",
   "version": "3.13.5"
  }
 },
 "nbformat": 4,
 "nbformat_minor": 5
}
