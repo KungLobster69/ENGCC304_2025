{
 "cells": [
  {
   "cell_type": "code",
   "execution_count": null,
   "id": "565c20db",
   "metadata": {},
   "outputs": [
    {
     "name": "stdout",
     "output_type": "stream",
     "text": [
      "Average score is : 90.0\n"
     ]
    }
   ],
   "source": [
    "#START\n",
    " #PRINT(Enterscore_math: )\n",
    " #READ score_math\n",
    " #PRINT(Enterscore_science: )\n",
    " #READ score_science\n",
    " #PRINT(Enterscore_eng: )\n",
    " #READ score_eng\n",
    " #Total_Score = score_math + score_science + score_eng\n",
    " #AverageTotal_Score = Total_Score/3\n",
    " #PRINT(\"Average score is :\" ,AverageTotal_Score)\n",
    "#END\n",
    "score_math = int(input(\"ป้อนคะแนนของคุณ: \"))\n",
    "score_science = int(input(\"ป้อนคะแนนของคุณ: \"))\n",
    "score_eng = int(input(\"ป้อนคะแนนของคุณ: \"))\n",
    "Total_Score = int(score_math) + int(score_science) + int(score_eng)\n",
    "AverageTotal_Score = Total_Score/3\n",
    "print(\"Average score is :\" ,AverageTotal_Score)"
   ]
  }
 ],
 "metadata": {
  "kernelspec": {
   "display_name": ".venv",
   "language": "python",
   "name": "python3"
  },
  "language_info": {
   "codemirror_mode": {
    "name": "ipython",
    "version": 3
   },
   "file_extension": ".py",
   "mimetype": "text/x-python",
   "name": "python",
   "nbconvert_exporter": "python",
   "pygments_lexer": "ipython3",
   "version": "3.13.5"
  }
 },
 "nbformat": 4,
 "nbformat_minor": 5
}
