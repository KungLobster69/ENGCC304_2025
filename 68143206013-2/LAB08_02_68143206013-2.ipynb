{
 "cells": [
  {
   "cell_type": "code",
   "execution_count": 10,
   "id": "1530cb2d",
   "metadata": {},
   "outputs": [
    {
     "name": "stdout",
     "output_type": "stream",
     "text": [
      "Alice: 6000 บาท\n",
      "Bob: 5600 บาท\n",
      "Charlie: 2475 บาท\n",
      "David: 7000 บาท\n",
      "Eve: 6650 บาท\n",
      "Frank: 6930 บาท\n"
     ]
    }
   ],
   "source": [
    "employees = [\n",
    "    [\"Alice\",40,150],\n",
    "    [\"Bob\",35,160],\n",
    "    [\"Charlie\",45,55],\n",
    "    [\"David\",50,140],\n",
    "    [\"Eve\",38,175],\n",
    "    [\"Frank\",42,165]\n",
    "]   \n",
    "\n",
    "for i in range(len(employees)):\n",
    "    total = employees[i][1] * employees[i][2]\n",
    "    print(f\"{employees[i][0]}: {total} บาท\")\n",
    "      "
   ]
  }
 ],
 "metadata": {
  "kernelspec": {
   "display_name": ".venv",
   "language": "python",
   "name": "python3"
  },
  "language_info": {
   "codemirror_mode": {
    "name": "ipython",
    "version": 3
   },
   "file_extension": ".py",
   "mimetype": "text/x-python",
   "name": "python",
   "nbconvert_exporter": "python",
   "pygments_lexer": "ipython3",
   "version": "3.13.5"
  }
 },
 "nbformat": 4,
 "nbformat_minor": 5
}
