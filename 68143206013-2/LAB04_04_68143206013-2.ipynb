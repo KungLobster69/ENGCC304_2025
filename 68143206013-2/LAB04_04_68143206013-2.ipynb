{
 "cells": [
  {
   "cell_type": "code",
   "execution_count": 11,
   "id": "21f300c2",
   "metadata": {},
   "outputs": [
    {
     "name": "stdout",
     "output_type": "stream",
     "text": [
      "SUM is : 6\n"
     ]
    }
   ],
   "source": [
    "N_ = int(input(\"EnterN : \"))\n",
    "total = 0\n",
    "\n",
    "for i in range(1, N_ + 1):\n",
    "    total += i\n",
    "\n",
    "print(\"SUM is :\",total)"
   ]
  }
 ],
 "metadata": {
  "kernelspec": {
   "display_name": ".venv",
   "language": "python",
   "name": "python3"
  },
  "language_info": {
   "codemirror_mode": {
    "name": "ipython",
    "version": 3
   },
   "file_extension": ".py",
   "mimetype": "text/x-python",
   "name": "python",
   "nbconvert_exporter": "python",
   "pygments_lexer": "ipython3",
   "version": "3.13.5"
  }
 },
 "nbformat": 4,
 "nbformat_minor": 5
}
