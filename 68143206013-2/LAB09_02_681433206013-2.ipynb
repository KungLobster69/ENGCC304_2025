{
 "cells": [
  {
   "cell_type": "code",
   "execution_count": 27,
   "id": "255bf532",
   "metadata": {},
   "outputs": [
    {
     "name": "stdout",
     "output_type": "stream",
     "text": [
      "12.5\n"
     ]
    }
   ],
   "source": [
    "mode = int(input(\"1 or 2: \"))\n",
    "def circle(radius):\n",
    "    total = 3.14159 * radius**2\n",
    "    return total \n",
    "def triangle(w,h):\n",
    "    total = 0.5 * w * h \n",
    "    return total      \n",
    "if mode == 1:\n",
    "    radius= int(input(\"ป้อนรัศมี: \"))\n",
    "    circle(radius)\n",
    "    print(circle(radius))\n",
    "if mode == 2:\n",
    "    w= int(input(\"ป้อนความฐาน: \"))\n",
    "    h= int(input(\"ป้อนความสูง: \"))    \n",
    "    triangle(w,h)\n",
    "    print(triangle(w,h))\n",
    "\n",
    "\n",
    "\n"
   ]
  }
 ],
 "metadata": {
  "kernelspec": {
   "display_name": ".venv",
   "language": "python",
   "name": "python3"
  },
  "language_info": {
   "codemirror_mode": {
    "name": "ipython",
    "version": 3
   },
   "file_extension": ".py",
   "mimetype": "text/x-python",
   "name": "python",
   "nbconvert_exporter": "python",
   "pygments_lexer": "ipython3",
   "version": "3.13.5"
  }
 },
 "nbformat": 4,
 "nbformat_minor": 5
}
