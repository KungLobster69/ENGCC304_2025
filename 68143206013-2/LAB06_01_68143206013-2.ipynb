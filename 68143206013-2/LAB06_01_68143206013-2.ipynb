{
 "cells": [
  {
   "cell_type": "code",
   "execution_count": 2,
   "id": "1e9b346e",
   "metadata": {},
   "outputs": [
    {
     "name": "stdout",
     "output_type": "stream",
     "text": [
      "กรุณาใส่ตัวเลข\n"
     ]
    }
   ],
   "source": [
    "import random\n",
    "try:\n",
    "  number = random.randint(1,101)\n",
    "  while(1):\n",
    "   random_num = int(input(\"ป้อนตัวเลข: \")) \n",
    "   if(random_num > number):\n",
    "    x = random_num - number\n",
    "    print(\"มากไป\",x)\n",
    "   elif(random_num < number):\n",
    "    x = number - random_num\n",
    "    print(\"น้อยไป\",x)\n",
    "    x = number - random_num \n",
    "   else:\n",
    "     print(\"ถูกต้อง คำตอบคือ\",number)\n",
    "     break\n",
    "except ValueError:\n",
    "    print(\"กรุณาใส่ตัวเลข\")\n",
    " "
   ]
  }
 ],
 "metadata": {
  "kernelspec": {
   "display_name": "Python 3",
   "language": "python",
   "name": "python3"
  },
  "language_info": {
   "codemirror_mode": {
    "name": "ipython",
    "version": 3
   },
   "file_extension": ".py",
   "mimetype": "text/x-python",
   "name": "python",
   "nbconvert_exporter": "python",
   "pygments_lexer": "ipython3",
   "version": "3.13.5"
  }
 },
 "nbformat": 4,
 "nbformat_minor": 5
}
