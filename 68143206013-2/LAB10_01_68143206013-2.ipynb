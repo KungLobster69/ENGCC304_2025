{
 "cells": [
  {
   "cell_type": "code",
   "execution_count": 5,
   "id": "38654202",
   "metadata": {},
   "outputs": [
    {
     "name": "stdout",
     "output_type": "stream",
     "text": [
      "คะแนนทั้งหมด: [78, 55, 64, 88, 45, 95, 72, 49, 81, 60]\n",
      "คะแนนเฉลี่ย: 68.7\n",
      "คะแนนสูงสุด: 95\n",
      "คะแนนต่ำสุด: 45\n",
      "จำนวนนักเรียนที่ผ่าน 50 คะแนน: 8\n",
      "เกรดของนักเรียนแต่ละคน: ['B', 'D', 'C', 'A', 'F', 'A', 'B', 'F', 'A', 'C']\n"
     ]
    }
   ],
   "source": [
    "score = [78,55,64,88,45,95,72,49,81,60]\n",
    "\n",
    "mean_score = sum(score) / len(score) \n",
    "max_score = max(score)\n",
    "min_score = min(score)\n",
    "\n",
    "def count_passed(score):\n",
    "    pass_score = 0\n",
    "    for i in score:\n",
    "        if i >= 50:\n",
    "            pass_score += 1\n",
    "    return pass_score\n",
    "\n",
    "def get_grade(s):\n",
    "    if s >= 80:\n",
    "        return \"A\"\n",
    "    elif s >= 70:\n",
    "        return \"B\"\n",
    "    elif s >= 60:\n",
    "        return \"C\"\n",
    "    elif s >= 50:\n",
    "        return \"D\"\n",
    "    else:\n",
    "        return \"F\"\n",
    "\n",
    "grade_list = [get_grade(s) for s in score]\n",
    "\n",
    "print(\"คะแนนทั้งหมด:\", score)\n",
    "print(\"คะแนนเฉลี่ย:\", mean_score)\n",
    "print(\"คะแนนสูงสุด:\", max_score)\n",
    "print(\"คะแนนต่ำสุด:\", min_score)\n",
    "print(\"จำนวนนักเรียนที่ผ่าน 50 คะแนน:\", count_passed(score))\n",
    "print(\"เกรดของนักเรียนแต่ละคน:\", grade_list)\n",
    "\n",
    "\n",
    "\n",
    "   "
   ]
  }
 ],
 "metadata": {
  "kernelspec": {
   "display_name": ".venv (3.13.7)",
   "language": "python",
   "name": "python3"
  },
  "language_info": {
   "codemirror_mode": {
    "name": "ipython",
    "version": 3
   },
   "file_extension": ".py",
   "mimetype": "text/x-python",
   "name": "python",
   "nbconvert_exporter": "python",
   "pygments_lexer": "ipython3",
   "version": "3.13.7"
  }
 },
 "nbformat": 4,
 "nbformat_minor": 5
}
