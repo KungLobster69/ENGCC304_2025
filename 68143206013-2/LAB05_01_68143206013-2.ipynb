{
 "cells": [
  {
   "cell_type": "code",
   "execution_count": 1,
   "id": "06375715",
   "metadata": {},
   "outputs": [
    {
     "name": "stdout",
     "output_type": "stream",
     "text": [
      "คะแนนไม่ถูกต้อง\n"
     ]
    }
   ],
   "source": [
    "try:\n",
    " score = float(input(\"ป้อนคะแนนของคุณ: \"))\n",
    " x = bool(1)\n",
    " if score >= 80 and score <= 100:\n",
    "    Grade =\"A\"\n",
    " elif score >= 70 and score <= 79:\n",
    "    Grade =\"B\"\n",
    " elif score >= 60 and score <= 69:\n",
    "    Grade =\"C\"\n",
    " elif score >= 50 and score <= 59:\n",
    "    Grade =\"D\"\n",
    " elif score >= 0 and score <= 49:\n",
    "    Grade =\"F\"\n",
    " else:\n",
    "    print(\"คะแนนไม่ถูกต้อง\")\n",
    "    x = bool(0)\n",
    "\n",
    " if x == True:\n",
    "    print(f\"คะแนนของคุณคือ {score} และเกรดของคุณคือ {Grade}\")\n",
    "except ValueError:\n",
    "    print(\"กรุณากรอกตัวเลขเท่านั้น\")\n"
   ]
  }
 ],
 "metadata": {
  "kernelspec": {
   "display_name": "Python 3",
   "language": "python",
   "name": "python3"
  },
  "language_info": {
   "codemirror_mode": {
    "name": "ipython",
    "version": 3
   },
   "file_extension": ".py",
   "mimetype": "text/x-python",
   "name": "python",
   "nbconvert_exporter": "python",
   "pygments_lexer": "ipython3",
   "version": "3.13.5"
  }
 },
 "nbformat": 4,
 "nbformat_minor": 5
}
