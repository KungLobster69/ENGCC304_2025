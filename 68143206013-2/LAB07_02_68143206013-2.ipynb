{
 "cells": [
  {
   "cell_type": "code",
   "execution_count": 11,
   "id": "6482f007",
   "metadata": {},
   "outputs": [
    {
     "name": "stdout",
     "output_type": "stream",
     "text": [
      "ID:    Name:   Stock: \n",
      "----------------------\n",
      "P001    Keyboard   50\n",
      "P002    Mouse   75\n",
      "P003    Monitor   30\n"
     ]
    }
   ],
   "source": [
    "inventory = [\n",
    "    (\"P001\",\"Keyboard\",50),\n",
    "    (\"P002\",\"Mouse\",75)\n",
    "    ,(\"P003\",\"Monitor\",30)]\n",
    "print(f\"ID:    Name:   Stock: \\n\"\n",
    "      \"----------------------\")\n",
    "for i in inventory:\n",
    "    (ID,name,Stock)= i\n",
    "    print(f\"{ID}    {name}   {Stock}\")"
   ]
  }
 ],
 "metadata": {
  "kernelspec": {
   "display_name": ".venv",
   "language": "python",
   "name": "python3"
  },
  "language_info": {
   "codemirror_mode": {
    "name": "ipython",
    "version": 3
   },
   "file_extension": ".py",
   "mimetype": "text/x-python",
   "name": "python",
   "nbconvert_exporter": "python",
   "pygments_lexer": "ipython3",
   "version": "3.13.5"
  }
 },
 "nbformat": 4,
 "nbformat_minor": 5
}
