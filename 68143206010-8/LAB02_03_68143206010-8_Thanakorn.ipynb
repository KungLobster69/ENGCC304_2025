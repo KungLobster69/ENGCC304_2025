{
 "cells": [
  {
   "cell_type": "code",
   "execution_count": null,
   "id": "02f9a7f8",
   "metadata": {},
   "outputs": [
    {
     "name": "stdout",
     "output_type": "stream",
     "text": [
      "กรุณาใส่ตัวเลขที่ถูกต้อง\n"
     ]
    }
   ],
   "source": [
    "\n",
    "try:\n",
    "\n",
    "   price_p= input(\"ถามราคาสิ้นค้าต่อชิ้น\")\n",
    "   quantity= input(\"จำนวนสิ้นค้า\")\n",
    "\n",
    "   A = int(price_p)\n",
    "   B = int(quantity)\n",
    "\n",
    "   total = A / B\n",
    "   print(f\"ราคารวม {total:.2f}\" )\n",
    "\n",
    "except ValueError:\n",
    "    print(\"กรุณาใส่ตัวเลขที่ถูกต้อง\")\n",
    "   \n",
    "except ZeroDivisionError:\n",
    "    print(\"ไม่สามารถหารด้วยศูนย์ได้\")"
   ]
  }
 ],
 "metadata": {
  "kernelspec": {
   "display_name": "Python 3",
   "language": "python",
   "name": "python3"
  },
  "language_info": {
   "codemirror_mode": {
    "name": "ipython",
    "version": 3
   },
   "file_extension": ".py",
   "mimetype": "text/x-python",
   "name": "python",
   "nbconvert_exporter": "python",
   "pygments_lexer": "ipython3",
   "version": "3.13.5"
  }
 },
 "nbformat": 4,
 "nbformat_minor": 5
}
