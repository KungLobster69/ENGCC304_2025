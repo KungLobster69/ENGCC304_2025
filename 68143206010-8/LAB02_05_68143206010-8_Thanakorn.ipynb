{
 "cells": [
  {
   "cell_type": "code",
   "execution_count": null,
   "id": "cc40c43b",
   "metadata": {},
   "outputs": [],
   "source": [
    "UM = input(\"กรุณาใส่ชื่อผู้ใช้: \")\n",
    "\n",
    "formatted = UM.strip().lower().replace(' ', '_')\n",
    "\n",
    "if 5 <= len(formatted) <= 20:\n",
    "    print(f\"ชื่อผู้ใช้ที่จัดรูปแบบแล้ว: {formatted}\")\n",
    "    print(\"ใช้ได้\")\n",
    "else:\n",
    "    print(f\"ชื่อผู้ใช้ที่จัดรูปแบบแล้ว: {formatted}\")\n",
    "    print(\"ใช้ไม่ได้เนื่องจากความยาวไม่ถูกต้อง\")"
   ]
  }
 ],
 "metadata": {
  "kernelspec": {
   "display_name": "Python 3",
   "language": "python",
   "name": "python3"
  },
  "language_info": {
   "codemirror_mode": {
    "name": "ipython",
    "version": 3
   },
   "file_extension": ".py",
   "mimetype": "text/x-python",
   "name": "python",
   "nbconvert_exporter": "python",
   "pygments_lexer": "ipython3",
   "version": "3.13.5"
  }
 },
 "nbformat": 4,
 "nbformat_minor": 5
}
