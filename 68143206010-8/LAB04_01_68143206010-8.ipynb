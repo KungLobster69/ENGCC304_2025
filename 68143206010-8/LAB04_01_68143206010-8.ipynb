{
 "cells": [
  {
   "cell_type": "code",
   "execution_count": 6,
   "id": "3c145b08",
   "metadata": {},
   "outputs": [
    {
     "name": "stdout",
     "output_type": "stream",
     "text": [
      "คะแนนเฉลี่ยอยู่ที่: 83.66666666666667\n"
     ]
    }
   ],
   "source": [
    "#รับคะแนน\n",
    "math_score = float(input(\"ป้อนคะแนนสำหรับวิชาคณิตศาสตร์: \"))\n",
    "science_score = float(input(\"ป้อนคะแนนสำหรับวิทยาศาสตร์: \"))\n",
    "english_score = float(input(\"กรอกคะแนนภาษาอังกฤษ: \"))\n",
    "\n",
    "sum_score = math_score + science_score + english_score\n",
    "average_score = sum_score / 3\n",
    "\n",
    "print(\"คะแนนเฉลี่ยอยู่ที่:\", average_score)\n"
   ]
  }
 ],
 "metadata": {
  "kernelspec": {
   "display_name": ".venv",
   "language": "python",
   "name": "python3"
  },
  "language_info": {
   "codemirror_mode": {
    "name": "ipython",
    "version": 3
   },
   "file_extension": ".py",
   "mimetype": "text/x-python",
   "name": "python",
   "nbconvert_exporter": "python",
   "pygments_lexer": "ipython3",
   "version": "3.13.5"
  }
 },
 "nbformat": 4,
 "nbformat_minor": 5
}
