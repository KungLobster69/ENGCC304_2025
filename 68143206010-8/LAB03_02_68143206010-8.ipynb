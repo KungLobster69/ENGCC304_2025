{
 "cells": [
  {
   "cell_type": "code",
   "execution_count": 8,
   "id": "4dc365cf",
   "metadata": {},
   "outputs": [
    {
     "name": "stdout",
     "output_type": "stream",
     "text": [
      "มีสิทธิ์ได้รับรางวัล : True\n"
     ]
    }
   ],
   "source": [
    "\n",
    "score = float(input(\"กรุณากรอกคะแนน (คะแนน): \"))\n",
    "homework_submitted = False\n",
    "\n",
    "is_eligible = (score > 80) and (homework_submitted == False)\n",
    "\n",
    "print(\"มีสิทธิ์ได้รับรางวัล :\", is_eligible)\n"
   ]
  }
 ],
 "metadata": {
  "kernelspec": {
   "display_name": ".venv",
   "language": "python",
   "name": "python3"
  },
  "language_info": {
   "codemirror_mode": {
    "name": "ipython",
    "version": 3
   },
   "file_extension": ".py",
   "mimetype": "text/x-python",
   "name": "python",
   "nbconvert_exporter": "python",
   "pygments_lexer": "ipython3",
   "version": "3.13.5"
  }
 },
 "nbformat": 4,
 "nbformat_minor": 5
}
