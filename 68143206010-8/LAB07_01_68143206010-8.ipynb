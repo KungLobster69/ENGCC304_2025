{
 "cells": [
  {
   "cell_type": "code",
   "execution_count": 5,
   "id": "3c8fbfe0",
   "metadata": {},
   "outputs": [
    {
     "name": "stdout",
     "output_type": "stream",
     "text": [
      "คะแนนทั้งหมด: [52.0, 85.0, 95.0, 55.0, 55.0]\n",
      "คะแนนสูงสุด: 95.0\n",
      "คะแนนต่ำสุด: 52.0\n",
      "ผลรวมคะแนน: 342.0\n",
      "จำนวนคะแนน: 5\n",
      "ค่าเฉลี่ย: 68.4\n"
     ]
    }
   ],
   "source": [
    "scores = []\n",
    "\n",
    "for i in range(5):\n",
    "    score = float(input(f\"กรอกคะแนนครั้งที่ {i+1}: \"))\n",
    "    scores.append(score)\n",
    "\n",
    "print(\"คะแนนทั้งหมด:\", scores)\n",
    "\n",
    "print(\"คะแนนสูงสุด:\", max(scores))\n",
    "print(\"คะแนนต่ำสุด:\", min(scores))\n",
    "print(\"ผลรวมคะแนน:\", sum(scores))\n",
    "print(\"จำนวนคะแนน:\", len(scores))\n",
    "print(\"ค่าเฉลี่ย:\", sum(scores) / len(scores))\n"
   ]
  }
 ],
 "metadata": {
  "language_info": {
   "name": "python"
  }
 },
 "nbformat": 4,
 "nbformat_minor": 5
}
