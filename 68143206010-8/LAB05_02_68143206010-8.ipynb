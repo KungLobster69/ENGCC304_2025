{
 "cells": [
  {
   "cell_type": "code",
   "execution_count": 4,
   "id": "dac6526d",
   "metadata": {},
   "outputs": [
    {
     "name": "stdout",
     "output_type": "stream",
     "text": [
      "คะแนน 45.0 ได้เกรด: F\n"
     ]
    }
   ],
   "source": [
    "score = float(input(\"ป้อนคะแนน (0-100 คะแนน): \"))\n",
    "\n",
    "if score >= 0 and score <= 100:\n",
    "    if score >= 80:\n",
    "        grade = \"A\"\n",
    "    elif score >= 70:\n",
    "        grade = \"B\"\n",
    "    elif score >= 60:\n",
    "        grade = \"C\"\n",
    "    elif score >= 50:\n",
    "        grade = \"D\"\n",
    "    else:\n",
    "        grade = \"F\"\n",
    "    print(f\"คะแนน {score} ได้เกรด: {grade}\")\n",
    "else:\n",
    "    print(f\"Error คะแนน {score} ไม่ถูกต้อง กรุณาป้อนคะแนนในช่วง 0-100 เท่านั้น\")"
   ]
  }
 ],
 "metadata": {
  "kernelspec": {
   "display_name": ".venv",
   "language": "python",
   "name": "python3"
  },
  "language_info": {
   "codemirror_mode": {
    "name": "ipython",
    "version": 3
   },
   "file_extension": ".py",
   "mimetype": "text/x-python",
   "name": "python",
   "nbconvert_exporter": "python",
   "pygments_lexer": "ipython3",
   "version": "3.13.5"
  }
 },
 "nbformat": 4,
 "nbformat_minor": 5
}
