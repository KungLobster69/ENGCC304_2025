{
 "cells": [
  {
   "cell_type": "code",
   "execution_count": 4,
   "id": "5feac4d9",
   "metadata": {},
   "outputs": [
    {
     "name": "stdout",
     "output_type": "stream",
     "text": [
      "\n",
      "--- ใบเสร็จอย่าย่อ---\n",
      "รายการ: ขนม\n",
      "ยอดรวมสุทธิ:24.0 บาท\n"
     ]
    }
   ],
   "source": [
    "item_name = input(\"ชื่อสินสินค้า: \")\n",
    "price = float(input(\"ราคาสินค้าต่อชิ้น : \"))\n",
    "quantity = int(input(\"จํานวน: \"))\n",
    "\n",
    "total = price * quantity\n",
    "print(f\"\\n--- ใบเสร็จอย่าย่อ---\")\n",
    "print(f\"รายการ: {item_name}\")\n",
    "print(f\"ยอดรวมสุทธิ:{total:} บาท\")"
   ]
  }
 ],
 "metadata": {
  "kernelspec": {
   "display_name": ".venv",
   "language": "python",
   "name": "python3"
  },
  "language_info": {
   "codemirror_mode": {
    "name": "ipython",
    "version": 3
   },
   "file_extension": ".py",
   "mimetype": "text/x-python",
   "name": "python",
   "nbconvert_exporter": "python",
   "pygments_lexer": "ipython3",
   "version": "3.13.5"
  }
 },
 "nbformat": 4,
 "nbformat_minor": 5
}
