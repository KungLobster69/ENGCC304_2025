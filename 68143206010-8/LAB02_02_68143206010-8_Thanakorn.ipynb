{
 "cells": [
  {
   "cell_type": "code",
   "execution_count": null,
   "id": "ce535f87",
   "metadata": {},
   "outputs": [
    {
     "name": "stdout",
     "output_type": "stream",
     "text": [
      "ราคารวม 144.00\n"
     ]
    }
   ],
   "source": [
    "try:\n",
    "\n",
    "   price_p= input(\"ถามราคาสิ้นค้าต่อชิ้น\")\n",
    "   quantity= input(\"จำนวนสิ้นค้า\")\n",
    "\n",
    "   A = float(price_p)\n",
    "   B = int(price_p)\n",
    "\n",
    "   total = A * B \n",
    "   print(f\"ราคารวม {total:.2f}\" )\n",
    "\n",
    "except ValueError:\n",
    "    print(\"กรุณาใส่ตัวเลขที่ถูกต้อง\")"
   ]
  }
 ],
 "metadata": {
  "kernelspec": {
   "display_name": "Python 3",
   "language": "python",
   "name": "python3"
  },
  "language_info": {
   "codemirror_mode": {
    "name": "ipython",
    "version": 3
   },
   "file_extension": ".py",
   "mimetype": "text/x-python",
   "name": "python",
   "nbconvert_exporter": "python",
   "pygments_lexer": "ipython3",
   "version": "3.13.5"
  }
 },
 "nbformat": 4,
 "nbformat_minor": 5
}
