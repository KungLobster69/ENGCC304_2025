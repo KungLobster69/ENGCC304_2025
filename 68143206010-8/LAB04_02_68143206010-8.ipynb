{
 "cells": [
  {
   "cell_type": "code",
   "execution_count": 4,
   "id": "bdfcc974",
   "metadata": {},
   "outputs": [
    {
     "name": "stdout",
     "output_type": "stream",
     "text": [
      "คุณไม่มีสิทธิ์ลงคะแนนเสียง.\n",
      "คุณจะมีสิทธิ์ใน 6 ปี.\n"
     ]
    }
   ],
   "source": [
    "# รับอายุจากผู้ใช้\n",
    "age_str = input(\"กรุณากรอกอายุของคุณ: \")\n",
    "age = int(age_str)\n",
    "\n",
    "# ตรวจสอบอายุ\n",
    "if age >= 18:\n",
    "    print(\"คุณมีสิทธิ์ลงคะแนนเสียง.\")\n",
    "else:\n",
    "    # คำนวณจำนวนปีที่เหลือ\n",
    "    years_left = 18 - age\n",
    "    print(\"คุณไม่มีสิทธิ์ลงคะแนนเสียง.\")\n",
    "    print(\"คุณจะมีสิทธิ์ใน\", years_left, \"ปี.\")"
   ]
  }
 ],
 "metadata": {
  "kernelspec": {
   "display_name": ".venv",
   "language": "python",
   "name": "python3"
  },
  "language_info": {
   "codemirror_mode": {
    "name": "ipython",
    "version": 3
   },
   "file_extension": ".py",
   "mimetype": "text/x-python",
   "name": "python",
   "nbconvert_exporter": "python",
   "pygments_lexer": "ipython3",
   "version": "3.13.5"
  }
 },
 "nbformat": 4,
 "nbformat_minor": 5
}
