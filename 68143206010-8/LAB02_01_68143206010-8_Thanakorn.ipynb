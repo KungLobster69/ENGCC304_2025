{
 "cells": [
  {
   "cell_type": "code",
   "execution_count": 2,
   "id": "790a5609",
   "metadata": {},
   "outputs": [
    {
     "name": "stdout",
     "output_type": "stream",
     "text": [
      "ป้อนชื่อของคุณ t , คุณอายุเท่าไหร์ t , อาหารที่คุณชอบ t , หนังที่คุณชอบ t , งานอดิเรกที่คุณชอบ t\n"
     ]
    }
   ],
   "source": [
    "name= input(\"ป้อนชื่อของคุณ\")\n",
    "age= input(\"คุณอายุเท่าไหร่\")\n",
    "\n",
    "favorite_food= input(\"อาหารที่คุณชอบ\")\n",
    "favorite_movie= input(\"หนังที่คุณชอบ\")\n",
    "hobby= input(\"งานอดิเรกที่คุณชอบ\")\n",
    "\n",
    "print(f\"ป้อนชื่อของคุณ {name} , คุณอายุเท่าไหร์ {age} , อาหารที่คุณชอบ {favorite_food} , หนังที่คุณชอบ {favorite_movie} , งานอดิเรกที่คุณชอบ {hobby}\")\n"
   ]
  }
 ],
 "metadata": {
  "kernelspec": {
   "display_name": "Python 3",
   "language": "python",
   "name": "python3"
  },
  "language_info": {
   "codemirror_mode": {
    "name": "ipython",
    "version": 3
   },
   "file_extension": ".py",
   "mimetype": "text/x-python",
   "name": "python",
   "nbconvert_exporter": "python",
   "pygments_lexer": "ipython3",
   "version": "3.13.5"
  }
 },
 "nbformat": 4,
 "nbformat_minor": 5
}
