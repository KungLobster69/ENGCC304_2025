{
 "cells": [
  {
   "cell_type": "code",
   "execution_count": 1,
   "id": "fe7683f2",
   "metadata": {},
   "outputs": [
    {
     "name": "stdout",
     "output_type": "stream",
     "text": [
      "ค่าดัชนีมวลกาย (BMI) ของคุณคือ: 23.661438615467823\n"
     ]
    }
   ],
   "source": [
    "weight_kg = float(input(\"กรุณาป้อนน้ำหนัก (kg): \"))\n",
    "height_cm = float(input(\"กรุณาป้องส่วนสูง (cm): \"))\n",
    "\n",
    "height_m = height_cm / 100\n",
    "bmi = weight_kg / (height_m ** 2)\n",
    "print(\"ค่าดัชนีมวลกาย (BMI) ของคุณคือ:\", bmi)"
   ]
  },
  {
   "cell_type": "code",
   "execution_count": null,
   "id": "398aa4cb",
   "metadata": {},
   "outputs": [],
   "source": []
  }
 ],
 "metadata": {
  "kernelspec": {
   "display_name": ".venv",
   "language": "python",
   "name": "python3"
  },
  "language_info": {
   "codemirror_mode": {
    "name": "ipython",
    "version": 3
   },
   "file_extension": ".py",
   "mimetype": "text/x-python",
   "name": "python",
   "nbconvert_exporter": "python",
   "pygments_lexer": "ipython3",
   "version": "3.13.5"
  }
 },
 "nbformat": 4,
 "nbformat_minor": 5
}
