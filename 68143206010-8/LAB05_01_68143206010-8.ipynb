{
 "cells": [
  {
   "cell_type": "code",
   "execution_count": 40,
   "id": "674982ce",
   "metadata": {},
   "outputs": [
    {
     "name": "stdout",
     "output_type": "stream",
     "text": [
      "คุณได้เกรด: F\n"
     ]
    }
   ],
   "source": [
    "score = float(input(\"ป้อนคะแนน (0-100 คะแนน): \"))\n",
    "grabe = \"\"\n",
    "if score >= 80:\n",
    "     grabe = \"A\"\n",
    "elif score >= 70:\n",
    "     grabe = \"B\"\n",
    "elif score >= 60:\n",
    "     grabe = \"C\"\n",
    "elif score >= 50:\n",
    "     grabe = \"D\"\n",
    "else: \n",
    "     grabe = \"F\"\n",
    "print(f\"คุณได้เกรด: {grabe}\")\n"
   ]
  }
 ],
 "metadata": {
  "kernelspec": {
   "display_name": ".venv",
   "language": "python",
   "name": "python3"
  },
  "language_info": {
   "codemirror_mode": {
    "name": "ipython",
    "version": 3
   },
   "file_extension": ".py",
   "mimetype": "text/x-python",
   "name": "python",
   "nbconvert_exporter": "python",
   "pygments_lexer": "ipython3",
   "version": "3.13.5"
  }
 },
 "nbformat": 4,
 "nbformat_minor": 5
}
