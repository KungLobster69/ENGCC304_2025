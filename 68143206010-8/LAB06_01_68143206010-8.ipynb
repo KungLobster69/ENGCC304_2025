{
 "cells": [
  {
   "cell_type": "code",
   "execution_count": 10,
   "id": "647cedb5",
   "metadata": {},
   "outputs": [
    {
     "name": "stdout",
     "output_type": "stream",
     "text": [
      "น้อยไป\n",
      "น้อยไป\n",
      "น้อยไป\n",
      "มากไป\n",
      "น้อยไป\n",
      "มากไป\n",
      "น้อยไป\n",
      "น้อยไป\n",
      "น้อยไป\n",
      "มากไป\n",
      "มากไป\n",
      "ยินดีด้วย! คุณทายถูกแล้ว\n"
     ]
    }
   ],
   "source": [
    "import random\n",
    "\n",
    "answer = random.randint(1, 100)\n",
    "while True:\n",
    "    guess = int(input(\"ทายตัวเลข (1-100): \"))\n",
    "    if guess < answer:\n",
    "        print(\"น้อยไป\")\n",
    "    elif guess > answer:\n",
    "        print(\"มากไป\")\n",
    "    else:\n",
    "        print(\"ยินดีด้วย! คุณทายถูกแล้ว\")\n",
    "        break  "
   ]
  }
 ],
 "metadata": {
  "kernelspec": {
   "display_name": ".venv",
   "language": "python",
   "name": "python3"
  },
  "language_info": {
   "codemirror_mode": {
    "name": "ipython",
    "version": 3
   },
   "file_extension": ".py",
   "mimetype": "text/x-python",
   "name": "python",
   "nbconvert_exporter": "python",
   "pygments_lexer": "ipython3",
   "version": "3.13.5"
  }
 },
 "nbformat": 4,
 "nbformat_minor": 5
}
