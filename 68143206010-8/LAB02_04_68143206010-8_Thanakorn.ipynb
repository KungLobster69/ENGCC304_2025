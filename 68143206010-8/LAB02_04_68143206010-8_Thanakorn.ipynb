{
 "cells": [
  {
   "cell_type": "code",
   "execution_count": 3,
   "id": "0dd8e024",
   "metadata": {},
   "outputs": [
    {
     "name": "stdout",
     "output_type": "stream",
     "text": [
      "129721 วินาที เท่ากับ 36 ชั่วโมง 2 นาที และ 1 วินาที\n"
     ]
    }
   ],
   "source": [
    "seconds = int(input(\"กรุณากรอกจำนวนวินาทีทั้งหมด: \"))\n",
    "\n",
    "minutes = seconds // 60\n",
    "remaining_seconds = seconds % 60\n",
    "hours = minutes // 60\n",
    "remaining_minutes = minutes % 60\n",
    "\n",
    "print(f\"{seconds} วินาที เท่ากับ {hours} ชั่วโมง {remaining_minutes} นาที และ {remaining_seconds} วินาที\")\n"
   ]
  }
 ],
 "metadata": {
  "kernelspec": {
   "display_name": "Python 3",
   "language": "python",
   "name": "python3"
  },
  "language_info": {
   "codemirror_mode": {
    "name": "ipython",
    "version": 3
   },
   "file_extension": ".py",
   "mimetype": "text/x-python",
   "name": "python",
   "nbconvert_exporter": "python",
   "pygments_lexer": "ipython3",
   "version": "3.13.5"
  }
 },
 "nbformat": 4,
 "nbformat_minor": 5
}
