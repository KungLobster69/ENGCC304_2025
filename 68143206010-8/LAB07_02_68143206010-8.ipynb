{
 "cells": [
  {
   "cell_type": "code",
   "execution_count": 7,
   "id": "79cebb51",
   "metadata": {},
   "outputs": [
    {
     "name": "stdout",
     "output_type": "stream",
     "text": [
      "\n",
      "รหัสสินค้า ชื่อสินค้า,,,,, จำนวนที่เหลือ\n",
      "\n",
      "P001       Keyboard,,,,,,, 50        \n",
      "P002       Mouse,,,,,,,,,, 75        \n",
      "P003       Monitor,,,,,,,, 30        \n"
     ]
    }
   ],
   "source": [
    "inventory = [\n",
    "(\"P001\",\"Keyboard\", 50),\n",
    "(\"P002\",\"Mouse\", 75),\n",
    "(\"P003\",\"Monitor\", 30)\n",
    "]\n",
    "print()\n",
    "print(\"{:<10} {:,<15} {:<10}\".format(\"รหัสสินค้า\", \"ชื่อสินค้า\",\"จำนวนที่เหลือ\"))\n",
    "print()\n",
    "\n",
    "for item in inventory:\n",
    "    code, name, qty= item\n",
    "    print(\"{:<10} {:,<15} {:<10}\".format(code, name, qty))"
   ]
  }
 ],
 "metadata": {
  "kernelspec": {
   "display_name": "Python 3",
   "language": "python",
   "name": "python3"
  },
  "language_info": {
   "codemirror_mode": {
    "name": "ipython",
    "version": 3
   },
   "file_extension": ".py",
   "mimetype": "text/x-python",
   "name": "python",
   "nbconvert_exporter": "python",
   "pygments_lexer": "ipython3",
   "version": "3.13.5"
  }
 },
 "nbformat": 4,
 "nbformat_minor": 5
}
