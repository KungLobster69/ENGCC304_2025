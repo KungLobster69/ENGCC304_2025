{
 "cells": [
  {
   "cell_type": "code",
   "execution_count": 2,
   "id": "7cce87fb",
   "metadata": {},
   "outputs": [
    {
     "name": "stdout",
     "output_type": "stream",
     "text": [
      "Total Score: [56, 67, 89, 67, 45]\n",
      "รายการ 5 รายการ\n",
      "คะแนนสูงสุด 89 คะแนน\n",
      "คะแนนต่ำสุด 45 คะแนน\n",
      "ผลรวม 324\n",
      "ค่าเฉลี่ย 64.8\n"
     ]
    }
   ],
   "source": [
    "list_score = []\n",
    "for i in range(5):\n",
    "    score = int(input('ป้อนคะแนน:'))\n",
    "    list_score.append(score)\n",
    "print(f'Total Score:',list_score)\n",
    "print(f'รายการ {len(list_score)} รายการ')\n",
    "print(f'คะแนนสูงสุด {max(list_score)} คะแนน')\n",
    "print(f'คะแนนต่ำสุด {min(list_score)} คะแนน')\n",
    "print(f'ผลรวม {sum(list_score)}')\n",
    "print(f'ค่าเฉลี่ย {sum(list_score)/len(list_score)}')\n"
   ]
  }
 ],
 "metadata": {
  "kernelspec": {
   "display_name": ".venv (3.10.0)",
   "language": "python",
   "name": "python3"
  },
  "language_info": {
   "codemirror_mode": {
    "name": "ipython",
    "version": 3
   },
   "file_extension": ".py",
   "mimetype": "text/x-python",
   "name": "python",
   "nbconvert_exporter": "python",
   "pygments_lexer": "ipython3",
   "version": "3.10.0"
  }
 },
 "nbformat": 4,
 "nbformat_minor": 5
}
