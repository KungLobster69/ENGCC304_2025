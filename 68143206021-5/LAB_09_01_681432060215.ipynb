{
 "cells": [
  {
   "cell_type": "code",
   "execution_count": 9,
   "id": "16b1684c",
   "metadata": {},
   "outputs": [
    {
     "name": "stdout",
     "output_type": "stream",
     "text": [
      "กว้าง 10 * ยาว 5 = 50\n",
      "กว้าง 20 * ยาว 8 = 160\n"
     ]
    }
   ],
   "source": [
    "def calculate_area(width,height):\n",
    "    result = width * height\n",
    "    print(f'กว้าง {width} * ยาว {height} = {result}')\n",
    "\n",
    "calculate_area(10,5)\n",
    "calculate_area(20,8)"
   ]
  }
 ],
 "metadata": {
  "kernelspec": {
   "display_name": "jupyter_env (3.12.3)",
   "language": "python",
   "name": "python3"
  },
  "language_info": {
   "codemirror_mode": {
    "name": "ipython",
    "version": 3
   },
   "file_extension": ".py",
   "mimetype": "text/x-python",
   "name": "python",
   "nbconvert_exporter": "python",
   "pygments_lexer": "ipython3",
   "version": "3.12.3"
  }
 },
 "nbformat": 4,
 "nbformat_minor": 5
}
