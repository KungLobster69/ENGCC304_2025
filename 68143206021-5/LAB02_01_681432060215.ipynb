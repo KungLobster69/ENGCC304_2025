{
 "cells": [
  {
   "cell_type": "code",
   "execution_count": null,
   "id": "eaad01db",
   "metadata": {},
   "outputs": [],
   "source": [
    "name = 'Jandee'\n",
    "favorite_food = 'แกงเขียวหวาน'\n",
    "favorite_movie = 'X-men'\n",
    "hobby = 'ดูหนัง'\n",
    "\n",
    "print('ชื่อ', name, \"ชอบกิน\", favorite_food, 'ชอบดูหนัง', favorite_movie, 'งานอดิเรก:', hobby)"
   ]
  }
 ],
 "metadata": {
  "kernelspec": {
   "display_name": "Python 3",
   "language": "python",
   "name": "python3"
  },
  "language_info": {
   "codemirror_mode": {
    "name": "ipython",
    "version": 3
   },
   "file_extension": ".py",
   "mimetype": "text/x-python",
   "name": "python",
   "nbconvert_exporter": "python",
   "pygments_lexer": "ipython3",
   "version": "3.13.5"
  }
 },
 "nbformat": 4,
 "nbformat_minor": 5
}
