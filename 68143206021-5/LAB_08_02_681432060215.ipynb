{
 "cells": [
  {
   "cell_type": "code",
   "execution_count": 14,
   "id": "f185276f",
   "metadata": {},
   "outputs": [
    {
     "name": "stdout",
     "output_type": "stream",
     "text": [
      "ชื่อพนักงาน: James เวลาทำงาน: 8ชั่วโมง ค่าจ้าง: 440บาท\n",
      "ชื่อพนักงาน: Dang เวลาทำงาน: 9ชั่วโมง ค่าจ้าง: 513บาท\n"
     ]
    }
   ],
   "source": [
    "stuff_data = [\n",
    "    ['James', 8, 55],\n",
    "    ['Dang', 9, 57]\n",
    "]\n",
    "\n",
    "for i in range(len(stuff_data)):\n",
    "    ค่าแรง = stuff_data[i][1] * stuff_data[i][2]\n",
    "    print(f'ชื่อพนักงาน: {stuff_data[i][0]} เวลาทำงาน: {stuff_data[i][1]}ชั่วโมง ค่าจ้าง: {ค่าแรง}บาท')"
   ]
  }
 ],
 "metadata": {
  "kernelspec": {
   "display_name": "jupyter_env (3.12.3)",
   "language": "python",
   "name": "python3"
  },
  "language_info": {
   "codemirror_mode": {
    "name": "ipython",
    "version": 3
   },
   "file_extension": ".py",
   "mimetype": "text/x-python",
   "name": "python",
   "nbconvert_exporter": "python",
   "pygments_lexer": "ipython3",
   "version": "3.12.3"
  }
 },
 "nbformat": 4,
 "nbformat_minor": 5
}
