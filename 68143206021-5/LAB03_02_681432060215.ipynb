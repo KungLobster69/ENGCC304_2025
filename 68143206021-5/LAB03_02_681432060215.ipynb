{
 "cells": [
  {
   "cell_type": "code",
   "execution_count": 1,
   "id": "9c7791c7",
   "metadata": {},
   "outputs": [
    {
     "name": "stdout",
     "output_type": "stream",
     "text": [
      "มีสิทธิ์ได้รับรางวัล True\n"
     ]
    }
   ],
   "source": [
    "score = 85\n",
    "homework_submitted = True\n",
    "\n",
    "is_eligible = (score>80) and(homework_submitted ==True)\n",
    "print(\"มีสิทธิ์ได้รับรางวัล\", is_eligible)"
   ]
  }
 ],
 "metadata": {
  "kernelspec": {
   "display_name": "Python 3",
   "language": "python",
   "name": "python3"
  },
  "language_info": {
   "codemirror_mode": {
    "name": "ipython",
    "version": 3
   },
   "file_extension": ".py",
   "mimetype": "text/x-python",
   "name": "python",
   "nbconvert_exporter": "python",
   "pygments_lexer": "ipython3",
   "version": "3.13.5"
  }
 },
 "nbformat": 4,
 "nbformat_minor": 5
}
