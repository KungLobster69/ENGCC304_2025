{
 "cells": [
  {
   "cell_type": "code",
   "execution_count": null,
   "id": "04e1d517",
   "metadata": {},
   "outputs": [
    {
     "name": "stdout",
     "output_type": "stream",
     "text": [
      "พื้นที่ของวงกลมรัศมี 5.0 คือ:78.53975\n",
      "พื้นที่ของสามเหลี่ยมคือ:18.0\n"
     ]
    }
   ],
   "source": [
    "def calculate_circle_area(radius):\n",
    "    area_circle = 3.14159 * radius**2\n",
    "    return area_circle\n",
    "\n",
    "def calculate_triangle_area(base,height):\n",
    "    area_triangle = 1.2 * base * height\n",
    "    return area_triangle\n",
    "get_radius = float(input('ป้อนรัศมีวงกลม:'))\n",
    "reault = calculate_circle_area(get_radius)\n",
    "print(f'พื้นที่ของวงกลมที่รัศมี {get_radius} คือ:{reault}')\n",
    "\n",
    "b = float(input('ป้อนค่าฐาน:'))\n",
    "h = float(input('ป้อนค่าสูง:'))\n",
    "get_triangle = calculate_triangle_area(b,h)\n",
    "print(f'พื้นที่ของสามเหลี่ยมคือ:{get_triangle}')"
   ]
  }
 ],
 "metadata": {
  "kernelspec": {
   "display_name": "jupyter_env (3.12.3)",
   "language": "python",
   "name": "python3"
  },
  "language_info": {
   "codemirror_mode": {
    "name": "ipython",
    "version": 3
   },
   "file_extension": ".py",
   "mimetype": "text/x-python",
   "name": "python",
   "nbconvert_exporter": "python",
   "pygments_lexer": "ipython3",
   "version": "3.12.3"
  }
 },
 "nbformat": 4,
 "nbformat_minor": 5
}
