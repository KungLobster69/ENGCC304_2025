{
 "cells": [
  {
   "cell_type": "code",
   "execution_count": 25,
   "id": "d58583f2",
   "metadata": {},
   "outputs": [
    {
     "name": "stdout",
     "output_type": "stream",
     "text": [
      "ID\tName\tStock\n",
      "-------------------------\n",
      "P001\tKeyboard\t50\n",
      "P002\tMouse\t75\n",
      "P003\tMonitor\t30\n"
     ]
    }
   ],
   "source": [
    "inventory = (\n",
    "    ['P001','Keyboard',50],\n",
    "    ['P002','Mouse',75],\n",
    "    ['P003','Monitor',30]\n",
    ")\n",
    "print('ID\\tName\\tStock')\n",
    "print('-' * 25)\n",
    "for item in inventory:\n",
    "    (id,name,stock) = item\n",
    "    print(f'{id}\\t{name}\\t{stock}')"
   ]
  }
 ],
 "metadata": {
  "kernelspec": {
   "display_name": ".venv (3.10.0)",
   "language": "python",
   "name": "python3"
  },
  "language_info": {
   "codemirror_mode": {
    "name": "ipython",
    "version": 3
   },
   "file_extension": ".py",
   "mimetype": "text/x-python",
   "name": "python",
   "nbconvert_exporter": "python",
   "pygments_lexer": "ipython3",
   "version": "3.10.0"
  }
 },
 "nbformat": 4,
 "nbformat_minor": 5
}
