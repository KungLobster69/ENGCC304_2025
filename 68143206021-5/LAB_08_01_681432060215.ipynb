{
 "cells": [
  {
   "cell_type": "code",
   "execution_count": 6,
   "id": "a41503ee",
   "metadata": {},
   "outputs": [
    {
     "name": "stdout",
     "output_type": "stream",
     "text": [
      "ราคาของเม้าส์: 300 \n",
      "ชื่อของสินค้าชิ้นสุดท้าย: Monitor \n",
      "จำนวนคงเหลือของ Keyboard: 10\n"
     ]
    }
   ],
   "source": [
    "products = [\n",
    "    ['keyboard', 500, 10],\n",
    "    ['Mouse', 300, 15],\n",
    "    ['Monitor', 4500, 8]\n",
    "]\n",
    "\n",
    "mouse_price = products[1][1]\n",
    "name = products[2][0]\n",
    "คงเหลือ = products[0][2]\n",
    "\n",
    "print(f'ราคาของเม้าส์: {mouse_price} \\nชื่อของสินค้าชิ้นสุดท้าย: {name} \\nจำนวนคงเหลือของ Keyboard: {คงเหลือ}')"
   ]
  }
 ],
 "metadata": {
  "kernelspec": {
   "display_name": "jupyter_env (3.12.3)",
   "language": "python",
   "name": "python3"
  },
  "language_info": {
   "codemirror_mode": {
    "name": "ipython",
    "version": 3
   },
   "file_extension": ".py",
   "mimetype": "text/x-python",
   "name": "python",
   "nbconvert_exporter": "python",
   "pygments_lexer": "ipython3",
   "version": "3.12.3"
  }
 },
 "nbformat": 4,
 "nbformat_minor": 5
}
