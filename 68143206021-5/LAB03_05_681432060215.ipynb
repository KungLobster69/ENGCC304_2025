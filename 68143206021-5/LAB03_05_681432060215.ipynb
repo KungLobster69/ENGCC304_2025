{
 "cells": [
  {
   "cell_type": "code",
   "execution_count": 3,
   "id": "ef28f3ce",
   "metadata": {},
   "outputs": [
    {
     "name": "stdout",
     "output_type": "stream",
     "text": [
      "ชื่อใช้ที่แนะนําสําหรับรับคุณคือ: jan04\n"
     ]
    }
   ],
   "source": [
    "first_name = input('ป้อนชื่อจริง (ภาษอังกฤษ):')\n",
    "birth_year = input('ป้อนวันเกิด (ค.ศ.):')\n",
    "\n",
    "name_part = first_name[0:3].lower()\n",
    "year_part = birth_year[2:4]\n",
    "username = name_part + year_part\n",
    "\n",
    "print(f\"ชื่อใช้ที่แนะนําสําหรับรับคุณคือ: {username}\")"
   ]
  }
 ],
 "metadata": {
  "kernelspec": {
   "display_name": "Python 3",
   "language": "python",
   "name": "python3"
  },
  "language_info": {
   "codemirror_mode": {
    "name": "ipython",
    "version": 3
   },
   "file_extension": ".py",
   "mimetype": "text/x-python",
   "name": "python",
   "nbconvert_exporter": "python",
   "pygments_lexer": "ipython3",
   "version": "3.13.5"
  }
 },
 "nbformat": 4,
 "nbformat_minor": 5
}
