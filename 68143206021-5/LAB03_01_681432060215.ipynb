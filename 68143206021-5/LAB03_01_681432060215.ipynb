{
 "cells": [
  {
   "cell_type": "code",
   "execution_count": null,
   "id": "3d636ea0",
   "metadata": {},
   "outputs": [
    {
     "name": "stdout",
     "output_type": "stream",
     "text": [
      "ค่าดัชนีมวลกาย (bmi)ของคุณคือ 19.5964581216432\n"
     ]
    }
   ],
   "source": [
    "weight_kg = float(input(\"กรุณาป้อนน้ำหนัก (kg):\"))\n",
    "height_cm = float(input('กรุณาป้อนส่วนสูง (cm):'))\n",
    "\n",
    "height_m = height_cm/100\n",
    "\n",
    "bmi = weight_kg/(height_m**2)\n",
    "print('ค่าดัชนีมวลกาย (bmi)ของคุณคือ',bmi)"
   ]
  }
 ],
 "metadata": {
  "kernelspec": {
   "display_name": "Python 3",
   "language": "python",
   "name": "python3"
  },
  "language_info": {
   "codemirror_mode": {
    "name": "ipython",
    "version": 3
   },
   "file_extension": ".py",
   "mimetype": "text/x-python",
   "name": "python",
   "nbconvert_exporter": "python",
   "pygments_lexer": "ipython3",
   "version": "3.13.5"
  }
 },
 "nbformat": 4,
 "nbformat_minor": 5
}
