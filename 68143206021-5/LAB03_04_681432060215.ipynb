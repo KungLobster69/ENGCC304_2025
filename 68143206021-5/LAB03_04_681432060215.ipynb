{
 "cells": [
  {
   "cell_type": "code",
   "execution_count": 1,
   "id": "6b38bb89",
   "metadata": {},
   "outputs": [
    {
     "name": "stdout",
     "output_type": "stream",
     "text": [
      "รายการสินค้า: สบู่\n",
      "ยอดรวมสุทธิ: 100.0บาท\n"
     ]
    }
   ],
   "source": [
    "item_name = input('ชื่อสินค้า:')\n",
    "price = float(input('ราคาสินค้าต่อชิ้น:'))\n",
    "quantity = int(input('จำนวน:'))\n",
    "\n",
    "total = price*quantity\n",
    "\n",
    "print(f'รายการสินค้า: {item_name}')\n",
    "print(f'ยอดรวมสุทธิ: {total}บาท')"
   ]
  }
 ],
 "metadata": {
  "kernelspec": {
   "display_name": "Python 3",
   "language": "python",
   "name": "python3"
  },
  "language_info": {
   "codemirror_mode": {
    "name": "ipython",
    "version": 3
   },
   "file_extension": ".py",
   "mimetype": "text/x-python",
   "name": "python",
   "nbconvert_exporter": "python",
   "pygments_lexer": "ipython3",
   "version": "3.13.5"
  }
 },
 "nbformat": 4,
 "nbformat_minor": 5
}
