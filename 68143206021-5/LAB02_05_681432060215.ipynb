{
 "cells": [
  {
   "cell_type": "code",
   "execution_count": 13,
   "id": "c106f7cf",
   "metadata": {},
   "outputs": [
    {
     "name": "stdout",
     "output_type": "stream",
     "text": [
      "ใช้ได้\n"
     ]
    }
   ],
   "source": [
    "name = input('Username: ')\n",
    "formatted_text = name.strip().lower().replace('','_')\n",
    "\n",
    "num_name = len(name)\n",
    "if 5 <= num_name <= 20:\n",
    "   print('ใช้ได้')\n",
    "else:\n",
    "    print(f'สถานะ: Userใช้ไม่ได้ (ต้องมีความยาว 5-20ตัวอักษร แต่ตอนนี้ยาว {num_name})')"
   ]
  }
 ],
 "metadata": {
  "kernelspec": {
   "display_name": "Python 3",
   "language": "python",
   "name": "python3"
  },
  "language_info": {
   "codemirror_mode": {
    "name": "ipython",
    "version": 3
   },
   "file_extension": ".py",
   "mimetype": "text/x-python",
   "name": "python",
   "nbconvert_exporter": "python",
   "pygments_lexer": "ipython3",
   "version": "3.13.5"
  }
 },
 "nbformat": 4,
 "nbformat_minor": 5
}
