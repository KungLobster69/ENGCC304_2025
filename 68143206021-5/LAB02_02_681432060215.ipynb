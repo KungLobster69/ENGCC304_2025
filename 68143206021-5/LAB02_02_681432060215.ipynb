{
 "cells": [
  {
   "cell_type": "code",
   "execution_count": null,
   "id": "a2ea52ad",
   "metadata": {},
   "outputs": [],
   "source": [
    "try:\n",
    "    product_price = input('ราคาสิ้นค้าต่อชิ้น: ')\n",
    "    float_number = float(product_price)\n",
    "\n",
    "    number_product = input('จำนวนสินค้าที่ต้องการซื้อ: ')\n",
    "    int_number = int(number_product)\n",
    "\n",
    "    print(product_price, type(float_number))\n",
    "    print(number_product, type(int_number))\n",
    "\n",
    "    all_price = float_number * int_number\n",
    "    print(all_price)\n",
    "    print(f'ราคาสินค้าทั้งหมดคือ: {all_price:2f} บาท.')\n",
    "except ValueError:\n",
    "  print(\"fgljgj\")"
   ]
  }
 ],
 "metadata": {
  "language_info": {
   "name": "python"
  }
 },
 "nbformat": 4,
 "nbformat_minor": 5
}
