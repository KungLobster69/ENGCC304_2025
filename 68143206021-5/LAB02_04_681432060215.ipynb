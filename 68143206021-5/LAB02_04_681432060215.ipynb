{
 "cells": [
  {
   "cell_type": "code",
   "execution_count": 13,
   "id": "ca13e11a",
   "metadata": {},
   "outputs": [
    {
     "name": "stdout",
     "output_type": "stream",
     "text": [
      "60 วินาที เท่ากับ 0 ชั่วโมง 1นาที และ 0วินาที\n"
     ]
    }
   ],
   "source": [
    "\n",
    "all_seconds = input('จำนวนวินาทีทั้งหมดที่ต้องการ:')\n",
    "int_sc = int(all_seconds)\n",
    "นาทีทั้งหมด = int_sc//60\n",
    "วินาทีที่เหลือ = int_sc%60\n",
    "ชั่วโมง = นาทีทั้งหมด//60\n",
    "นาทีที่เหลือ = นาทีทั้งหมด%60\n",
    "print(f'{int_sc} วินาที เท่ากับ {ชั่วโมง} ชั่วโมง {นาทีทั้งหมด}นาที และ {วินาทีที่เหลือ}วินาที')"
   ]
  }
 ],
 "metadata": {
  "kernelspec": {
   "display_name": "Python 3",
   "language": "python",
   "name": "python3"
  },
  "language_info": {
   "codemirror_mode": {
    "name": "ipython",
    "version": 3
   },
   "file_extension": ".py",
   "mimetype": "text/x-python",
   "name": "python",
   "nbconvert_exporter": "python",
   "pygments_lexer": "ipython3",
   "version": "3.13.5"
  }
 },
 "nbformat": 4,
 "nbformat_minor": 5
}
