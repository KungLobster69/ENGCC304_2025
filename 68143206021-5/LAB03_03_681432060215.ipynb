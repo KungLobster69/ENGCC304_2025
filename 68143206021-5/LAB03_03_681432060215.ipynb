{
 "cells": [
  {
   "cell_type": "code",
   "execution_count": 3,
   "id": "d8936ba0",
   "metadata": {},
   "outputs": [
    {
     "name": "stdout",
     "output_type": "stream",
     "text": [
      "ราคาตั๋วของคุณคือ 100 บาท\n"
     ]
    }
   ],
   "source": [
    "age = int(input('กรุณาป้อนอายูของคุณ:'))\n",
    "is_child = age<=12\n",
    "price = (not is_child)*100 + is_child* 50\n",
    "print('ราคาตั๋วของคุณคือ',int(price),'บาท')"
   ]
  }
 ],
 "metadata": {
  "kernelspec": {
   "display_name": "Python 3",
   "language": "python",
   "name": "python3"
  },
  "language_info": {
   "codemirror_mode": {
    "name": "ipython",
    "version": 3
   },
   "file_extension": ".py",
   "mimetype": "text/x-python",
   "name": "python",
   "nbconvert_exporter": "python",
   "pygments_lexer": "ipython3",
   "version": "3.13.5"
  }
 },
 "nbformat": 4,
 "nbformat_minor": 5
}
