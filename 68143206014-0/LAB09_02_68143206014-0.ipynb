{
 "cells": [
  {
   "cell_type": "code",
   "execution_count": 56,
   "id": "3aa6bf74",
   "metadata": {},
   "outputs": [
    {
     "name": "stdout",
     "output_type": "stream",
     "text": [
      "พื้นที่วงกลมที่มีรัศมี 5.0: 78.53975\n",
      "พื้นที่สามเหลี่ยมคือ 5, 10: 25.0\n"
     ]
    }
   ],
   "source": [
    "def calculate_circle(radius):\n",
    "    return pi * radius * radius\n",
    "pi = 3.14159\n",
    "radius = 5.0\n",
    "circle = float(calculate_circle(radius))\n",
    "print(f\"พื้นที่วงกลมที่มีรัศมี {radius}: {circle}\")\n",
    "\n",
    "def calculate_triangle_area (base, height):\n",
    "    return base * height / 2\n",
    "base = 5\n",
    "height = 10\n",
    "triangle_area = float(calculate_triangle_area(base, height))\n",
    "print(f\"พื้นที่สามเหลี่ยมคือ {base}, {height}: {triangle_area}\")\n"
   ]
  }
 ],
 "metadata": {
  "kernelspec": {
   "display_name": "Python 3",
   "language": "python",
   "name": "python3"
  },
  "language_info": {
   "codemirror_mode": {
    "name": "ipython",
    "version": 3
   },
   "file_extension": ".py",
   "mimetype": "text/x-python",
   "name": "python",
   "nbconvert_exporter": "python",
   "pygments_lexer": "ipython3",
   "version": "3.13.7"
  }
 },
 "nbformat": 4,
 "nbformat_minor": 5
}
