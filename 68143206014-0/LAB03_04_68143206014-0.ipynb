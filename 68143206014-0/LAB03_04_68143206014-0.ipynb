{
 "cells": [
  {
   "cell_type": "code",
   "execution_count": null,
   "id": "a6d65ace",
   "metadata": {},
   "outputs": [
    {
     "name": "stdout",
     "output_type": "stream",
     "text": [
      "\n",
      "--- ใบเสร็จอย่างย่อ ---\n",
      "รายการ: เนื้อวากิว A5\n",
      "ราคาต่อชิ้น 6500.0 บาท\n",
      "จำนวนสินค้า 7\n",
      "ยอดรวมสุทธิ: 45500.00 บาท\n"
     ]
    }
   ],
   "source": [
    "# เขียนโปรแกรมสร้างใบเสร็จอย่างย่อ\n",
    "\n",
    "# 1.รับข้อมูล\n",
    "item_name = input(\"ชื่อสินค้า:\")\n",
    "price = float(input(\"ราคาสินค้าต่อชิ้น:\"))\n",
    "quantity = int(input(\"จำนวน:\"))\n",
    "\n",
    "# 2.คำนวณ\n",
    "total = price * quantity\n",
    "\n",
    "# 3.แสดงผลด้วย f-string\n",
    "print(f\"\\n--- ใบเสร็จอย่างย่อ ---\")\n",
    "print(f\"รายการ: {item_name}\")\n",
    "print(f\"ราคาต่อชิ้น {price} บาท\") # [ ตัวเสริม ] เพื่อบอกราคาต่อชิ้นของสินค้าที่ต้องการจะทราบ\n",
    "print(f\"จำนวนสินค้า {quantity}\") # [ ตัวเสริม ] เพื่อบอกจำนวนสินค้า\n",
    "print(f\"ยอดรวมสุทธิ: {total:.2f} บาท\")\n",
    "\n",
    "# ตัวเสริมคือการทดลองเขียนเพื่อเพิ่มสิ่งจำเป็นในใบเสร็จของสินค้าทั้งหมดออกมาอย่างสมบูรณ์"
   ]
  }
 ],
 "metadata": {
  "kernelspec": {
   "display_name": "Python 3",
   "language": "python",
   "name": "python3"
  },
  "language_info": {
   "codemirror_mode": {
    "name": "ipython",
    "version": 3
   },
   "file_extension": ".py",
   "mimetype": "text/x-python",
   "name": "python",
   "nbconvert_exporter": "python",
   "pygments_lexer": "ipython3",
   "version": "3.13.5"
  }
 },
 "nbformat": 4,
 "nbformat_minor": 5
}
