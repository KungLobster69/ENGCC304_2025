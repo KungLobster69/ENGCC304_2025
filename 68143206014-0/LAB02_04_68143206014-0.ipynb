{
 "cells": [
  {
   "cell_type": "code",
   "execution_count": null,
   "id": "32118fcf",
   "metadata": {},
   "outputs": [],
   "source": [
    "try:\n",
    "    เวลา_str = input(\"กรุณาใส่จำนวนวินาทีทั้งหมด: \")\n",
    "    เวลา_int = int(เวลา_str)\n",
    "\n",
    "    นาทีทั้งหมด = เวลา_int // 60\n",
    "    วินาที = เวลา_int % 60\n",
    "    ชั่วโมง = นาทีทั้งหมด // 60\n",
    "    นาที = นาทีทั้งหมด % 60\n",
    "\n",
    "    ผลลัพธ์ = f\"{เวลา_int} วินาที เท่ากับ {ชั่วโมง} ชั่วโมง {นาที} นาที และ {วินาที} วินาที\"\n",
    "    print(ผลลัพธ์)\n",
    "\n",
    "except ValueError:\n",
    "    print(\"กรุณาใส่ตัวเลขจำนวนเต็มเท่านั้น\")\n",
    "\n",
    "except ZeroDivisionError:\n",
    "    print(\"ไม่สามารถหาค่าได้\")"
   ]
  },
  {
   "cell_type": "code",
   "execution_count": null,
   "id": "03a352b8",
   "metadata": {},
   "outputs": [],
   "source": [
    "try:\n",
    "    time_str = input(\"Enter the total number of seconds: \")\n",
    "    time_int = int(time_str)\n",
    "\n",
    "    total_minutes = time_int // 60\n",
    "    seconds = time_int % 60\n",
    "    hours = total_minutes // 60\n",
    "    minutes = total_minutes % 60\n",
    "\n",
    "    result = f\"{time_int} seconds is equal to {hours} hours, {minutes} minutes, and {seconds} seconds.\"\n",
    "    print(result)\n",
    "\n",
    "except ValueError:\n",
    "    print(\"Please enter a valid integer number.\")\n",
    "\n",
    "except ZeroDivisionError:\n",
    "    print(\"Cannot perform division.\")"
   ]
  }
 ],
 "metadata": {
  "kernelspec": {
   "display_name": "Python 3",
   "language": "python",
   "name": "python3"
  },
  "language_info": {
   "name": "python",
   "version": "3.13.5"
  }
 },
 "nbformat": 4,
 "nbformat_minor": 5
}
