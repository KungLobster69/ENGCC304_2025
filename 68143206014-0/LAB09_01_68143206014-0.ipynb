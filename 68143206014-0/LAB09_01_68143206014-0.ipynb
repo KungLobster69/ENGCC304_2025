{
 "cells": [
  {
   "cell_type": "code",
   "execution_count": 2,
   "id": "0b2dbd79",
   "metadata": {},
   "outputs": [
    {
     "name": "stdout",
     "output_type": "stream",
     "text": [
      "ครั้งที่ 1:\n",
      "25.0\n",
      "ครั้งที่ 2:\n",
      "25.0\n"
     ]
    }
   ],
   "source": [
    "def cal (h, w):\n",
    "    X = h * w\n",
    "    print(X)\n",
    "\n",
    "print(\"ครั้งที่ 1:\")\n",
    "height = float(input())\n",
    "widthi = float(input())\n",
    "cal(h=height, w=widthi)\n",
    "\n",
    "print(\"ครั้งที่ 2:\")\n",
    "height = float(input())\n",
    "widthi = float(input())\n",
    "cal(h=height, w=widthi)\n",
    "\n"
   ]
  }
 ],
 "metadata": {
  "kernelspec": {
   "display_name": "Python 3",
   "language": "python",
   "name": "python3"
  },
  "language_info": {
   "codemirror_mode": {
    "name": "ipython",
    "version": 3
   },
   "file_extension": ".py",
   "mimetype": "text/x-python",
   "name": "python",
   "nbconvert_exporter": "python",
   "pygments_lexer": "ipython3",
   "version": "3.13.7"
  }
 },
 "nbformat": 4,
 "nbformat_minor": 5
}
