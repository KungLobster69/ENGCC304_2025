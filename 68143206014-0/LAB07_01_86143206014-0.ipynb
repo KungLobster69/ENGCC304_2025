{
 "cells": [
  {
   "cell_type": "code",
   "execution_count": null,
   "id": "f90a3991",
   "metadata": {},
   "outputs": [
    {
     "name": "stdout",
     "output_type": "stream",
     "text": [
      "Please enter score for 5 students.\n",
      "\n",
      "--- Results ---\n",
      "All scores: [45.0, 45.0, 45.0, 45.0, 45.0]\n",
      "Highest score: 45.0\n",
      "Lowest score: 45.0\n",
      "Average score: 45.00\n"
     ]
    }
   ],
   "source": [
    "#โปรแกรมจัดการคะแนน LAB07 \n",
    "\n",
    "scores = []  \n",
    "num_student = 5\n",
    "\n",
    "print(f\"Please enter score for {num_student} students.\")\n",
    "\n",
    "for i in range(num_student):\n",
    "    score = float(input(f\"Enter score for student {i+1}: \"))\n",
    "    scores.append(score)  \n",
    "\n",
    "print(\"\\n--- Results ---\")\n",
    "print(f\"All scores: {scores}\")\n",
    "print(f\"Highest score: {max(scores)}\")\n",
    "print(f\"Lowest score: {min(scores)}\")\n",
    "print(f\"Average score: {sum(scores) / len(scores):.2f}\") "
   ]
  }
 ],
 "metadata": {
  "kernelspec": {
   "display_name": "Python 3",
   "language": "python",
   "name": "python3"
  },
  "language_info": {
   "codemirror_mode": {
    "name": "ipython",
    "version": 3
   },
   "file_extension": ".py",
   "mimetype": "text/x-python",
   "name": "python",
   "nbconvert_exporter": "python",
   "pygments_lexer": "ipython3",
   "version": "3.13.7"
  }
 },
 "nbformat": 4,
 "nbformat_minor": 5
}
