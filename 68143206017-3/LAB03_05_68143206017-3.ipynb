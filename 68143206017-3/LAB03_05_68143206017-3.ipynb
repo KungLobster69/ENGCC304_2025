{
 "cells": [
  {
   "cell_type": "code",
   "execution_count": null,
   "id": "a2ddd797",
   "metadata": {},
   "outputs": [],
   "source": [
    "#workshop 5\n",
    "try:\n",
    "    first_name = input(\"กรุณาป้อนชื่อของคุณ(เป็นภาษาอังกฤษเท่านั้น): \")\n",
    "    birth_year = input(\"ป้อนปีเกิดของตุณ(ค.ศ.): \")\n",
    "\n",
    "    name_part = first_name[0:7].lower()\n",
    "    year_part = birth_year[0:4]\n",
    "    username = name_part + year_part\n",
    "\n",
    "    print(f\"ชื่อ:{first_name}\")\n",
    "    print(f\"ปีเกิด:{birth_year}\")\n",
    "    print(f\"ชื่อผู้ใช้ที่แนะนำสำหรับคุณ คือ:{username}\")\n",
    "except ValueError :\n",
    "    print(\"ข้มูลไม่ถูกต้อง\")"
   ]
  }
 ],
 "metadata": {
  "language_info": {
   "name": "python"
  }
 },
 "nbformat": 4,
 "nbformat_minor": 5
}
