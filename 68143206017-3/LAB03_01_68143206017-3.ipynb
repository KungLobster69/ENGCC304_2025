{
 "cells": [
  {
   "cell_type": "code",
   "execution_count": 14,
   "id": "b0adb0b8",
   "metadata": {},
   "outputs": [
    {
     "name": "stdout",
     "output_type": "stream",
     "text": [
      "ค่าดัชนีมวลกาย (BMI) ของคุณคือ: 27.358845456721728\n",
      "\n",
      "\n",
      "คุณปกติ\n"
     ]
    }
   ],
   "source": [
    "try:\n",
    "    weight_kg = float(input(\"กรุณาป้อนน้ำหนัก(KG): \"))\n",
    "    height_cm = float(input(\"กรุณาป้อนส่วนสูง(CM): \"))\n",
    "\n",
    "    height_m = height_cm / 100\n",
    "    bmi = weight_kg / (height_m ** 2)\n",
    "\n",
    "    print(\"ค่าดัชนีมวลกาย (BMI) ของคุณคือ:\", bmi)\n",
    "    print(\"\\n\")\n",
    "    if bmi <= 18.5:\n",
    "        print(\"คุณผอมเกินไป\")\n",
    "    elif bmi >= 18.6-24:\n",
    "        print(\"คุณปกติ\")\n",
    "    elif bmi > 25.0-29.9:\n",
    "        print(\"คุณอ้วนแล้วนะ\")\n",
    "    else:\n",
    "        print(\"คุณอ้วนมาก\")\n",
    "except ValueError :\n",
    "    print(\"ข้มูลไม่ถูกต้อง\")"
   ]
  }
 ],
 "metadata": {
  "kernelspec": {
   "display_name": "Python 3",
   "language": "python",
   "name": "python3"
  },
  "language_info": {
   "codemirror_mode": {
    "name": "ipython",
    "version": 3
   },
   "file_extension": ".py",
   "mimetype": "text/x-python",
   "name": "python",
   "nbconvert_exporter": "python",
   "pygments_lexer": "ipython3",
   "version": "3.13.5"
  }
 },
 "nbformat": 4,
 "nbformat_minor": 5
}
