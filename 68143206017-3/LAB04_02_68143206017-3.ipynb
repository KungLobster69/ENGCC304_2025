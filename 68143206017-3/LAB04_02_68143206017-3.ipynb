{
 "cells": [
  {
   "cell_type": "code",
   "execution_count": null,
   "id": "297e1ce6",
   "metadata": {},
   "outputs": [],
   "source": [
    "#START\n",
    "#   PRINT \"PLEASE ENTER YOUR AGE\"\n",
    "#   READ AGE\n",
    "#   \n",
    "#   IF AGE >= 18 THEN\n",
    "#       PRINT \"YOU ARE ELIGIIBLE TO VOTE.\"\n",
    "#   ELSE\n",
    "#       YEARS_LEFT = 18 - AGE\n",
    "#       PRINT \"YOU ARE NOT ELIGIBLE TO VOTE.\"\n",
    "#       PRINT \"PLASE COME BACK IN\", YEARS_LEFT, \"YEARS.\"\n",
    "#   ENDIF\n",
    "#END"
   ]
  },
  {
   "cell_type": "code",
   "execution_count": null,
   "id": "fd6e6594",
   "metadata": {},
   "outputs": [
    {
     "name": "stdout",
     "output_type": "stream",
     "text": [
      "You are not eligible to vote.\n",
      "Plase come back in 6 years\n"
     ]
    }
   ],
   "source": [
    "try:\n",
    "   age = input(\"Please enter your age: \")\n",
    "   age_int = int(age)\n",
    "\n",
    "   if age_int >= 18:\n",
    "       print(\"You are eligible to vote.\")\n",
    "   else:\n",
    "       years_left = 18 - age_int \n",
    "       print(\"You are not eligible to vote.\")\n",
    "       print(f\"Please come back in\", years_left ,\"years\")\n",
    "\n",
    "except ValueError :\n",
    "    print(\"ข้มูลไม่ถูกต้อง\")"
   ]
  }
 ],
 "metadata": {
  "kernelspec": {
   "display_name": "Python 3",
   "language": "python",
   "name": "python3"
  },
  "language_info": {
   "codemirror_mode": {
    "name": "ipython",
    "version": 3
   },
   "file_extension": ".py",
   "mimetype": "text/x-python",
   "name": "python",
   "nbconvert_exporter": "python",
   "pygments_lexer": "ipython3",
   "version": "3.13.5"
  }
 },
 "nbformat": 4,
 "nbformat_minor": 5
}
