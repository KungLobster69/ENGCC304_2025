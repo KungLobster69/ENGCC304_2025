{
 "cells": [
  {
   "cell_type": "code",
   "execution_count": 3,
   "id": "6f00b0bd",
   "metadata": {},
   "outputs": [
    {
     "name": "stdout",
     "output_type": "stream",
     "text": [
      "300\n",
      "Monitor\n",
      "10\n"
     ]
    }
   ],
   "source": [
    "product = [\n",
    "    [\"Keyboard\", 500, 10],\n",
    "    [\"Mouse\", 300, 15],\n",
    "    [\"Monitor\", 4500, 8]\n",
    "]\n",
    "\n",
    "p_mouse = product[1][1]\n",
    "print(p_mouse)\n",
    "\n",
    "m = product[2][0]\n",
    "print(m)\n",
    "\n",
    "total_keyboard = product[0][2]\n",
    "print(total_keyboard)"
   ]
  }
 ],
 "metadata": {
  "kernelspec": {
   "display_name": "Python 3",
   "language": "python",
   "name": "python3"
  },
  "language_info": {
   "codemirror_mode": {
    "name": "ipython",
    "version": 3
   },
   "file_extension": ".py",
   "mimetype": "text/x-python",
   "name": "python",
   "nbconvert_exporter": "python",
   "pygments_lexer": "ipython3",
   "version": "3.13.5"
  }
 },
 "nbformat": 4,
 "nbformat_minor": 5
}
