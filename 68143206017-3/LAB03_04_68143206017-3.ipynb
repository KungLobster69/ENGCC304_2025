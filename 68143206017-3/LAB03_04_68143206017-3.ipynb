{
 "cells": [
  {
   "cell_type": "code",
   "execution_count": null,
   "id": "3ac18ac1",
   "metadata": {},
   "outputs": [],
   "source": [
    "#WorkShop 4\n",
    "try:\n",
    "    item_name = input(\"กรุณาป้อนชื่อสินค้า: \")\n",
    "    price = float(input(\"กรุณาป้อนราคาสินค้าต่อชิ้น: \"))\n",
    "    quantity = int(input(\"กรุณาป้อนจำนวนสินค้าทั้งหมด: \"))\n",
    "\n",
    "    total = price * quantity\n",
    "\n",
    "    print(f\"\\n---ใบเสร็จอย่างย่อ---\")\n",
    "    print(f\"รายการ:{item_name}\")\n",
    "    print(f\"ยอดรวมทั้งหมด:{total:.2f}บาท\")\n",
    "except ValueError :\n",
    "    print(\"ข้มูลไม่ถูกต้อง\")"
   ]
  }
 ],
 "metadata": {
  "language_info": {
   "name": "python"
  }
 },
 "nbformat": 4,
 "nbformat_minor": 5
}
