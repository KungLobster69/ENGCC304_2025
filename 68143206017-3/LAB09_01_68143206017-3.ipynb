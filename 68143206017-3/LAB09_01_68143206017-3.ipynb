{
 "cells": [
  {
   "cell_type": "code",
   "execution_count": null,
   "id": "42682953",
   "metadata": {},
   "outputs": [
    {
     "name": "stdout",
     "output_type": "stream",
     "text": [
      "--- เรียกใช้งานฟังก์ชั่นครั้งที่ 1 ---\n",
      "10 * 5 = 50\n",
      "--- เรียกใช้งานฟังก์ชั่นครั้งที่ 2 ---\n",
      "20 * 8 = 160\n"
     ]
    }
   ],
   "source": [
    "def calculate_rectangle_area(width,height):\n",
    "    total = width * height\n",
    "    print(f\"{width} * {height} = {total}\")\n",
    "\n",
    "print(\"--- เรียกใช้งานฟังก์ชั่นครั้งที่ 1 ---\")\n",
    "calculate_rectangle_area(10, 5)\n",
    "\n",
    "print(\"--- เรียกใช้งานฟังก์ชั่นครั้งที่ 2 ---\")\n",
    "calculate_rectangle_area(20, 8)\n"
   ]
  }
 ],
 "metadata": {
  "kernelspec": {
   "display_name": "Python 3",
   "language": "python",
   "name": "python3"
  },
  "language_info": {
   "codemirror_mode": {
    "name": "ipython",
    "version": 3
   },
   "file_extension": ".py",
   "mimetype": "text/x-python",
   "name": "python",
   "nbconvert_exporter": "python",
   "pygments_lexer": "ipython3",
   "version": "3.13.5"
  }
 },
 "nbformat": 4,
 "nbformat_minor": 5
}
