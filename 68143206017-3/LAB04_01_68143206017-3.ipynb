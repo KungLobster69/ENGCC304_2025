{
 "cells": [
  {
   "cell_type": "code",
   "execution_count": null,
   "id": "6a193b84",
   "metadata": {},
   "outputs": [],
   "source": [
    "#START\n",
    "#    PRINT \"ENTER SCORE FOR MATH\"\n",
    "#    READ MATH_SCORE\n",
    "#    \n",
    "#    PRINT \"ENTER SCORE FOR SCIENCE\"\n",
    "#    READ SCIIENCE_SCORE\n",
    "#    \n",
    "#    PRINT \"ENTER SCORE FOR ENGLISH\"\n",
    "#    READ ENGLISH_SCORE\n",
    "# \n",
    "#    SUM_SCORE = MATH_SCORE + SCIENCE_SCORE + ENGLISH_SCORE\n",
    "#    AVERAGE_SCORE = SUM_SCORE / 3\n",
    "# \n",
    "#    PRINT \"THE AVERAGE SCORE IS:, AVERAGE_SCORE\"\n",
    "#END  "
   ]
  },
  {
   "cell_type": "code",
   "execution_count": 4,
   "id": "6907e11c",
   "metadata": {},
   "outputs": [
    {
     "name": "stdout",
     "output_type": "stream",
     "text": [
      "The average score is: 75.0\n"
     ]
    }
   ],
   "source": [
    "try:\n",
    "    math = input(\"input score for math: \")\n",
    "    math_int = int(math) #แปลงเป็นตัวเลข\n",
    "\n",
    "    science = input(\"input score for science: \")\n",
    "    science_int = int(science) #แปลงเป็นตัวเลข\n",
    "\n",
    "    english = input(\"input score for english: \")\n",
    "    english_int = int(english) #แปลงเป็นตัวเลข\n",
    "\n",
    "    sum_score = math_int + science_int + english_int\n",
    "    average_score = sum_score / 3\n",
    "\n",
    "    print(\"The average score is:\", average_score)\n",
    "\n",
    "except ValueError :\n",
    "    print(\"ข้มูลไม่ถูกต้อง\")"
   ]
  }
 ],
 "metadata": {
  "kernelspec": {
   "display_name": "Python 3",
   "language": "python",
   "name": "python3"
  },
  "language_info": {
   "codemirror_mode": {
    "name": "ipython",
    "version": 3
   },
   "file_extension": ".py",
   "mimetype": "text/x-python",
   "name": "python",
   "nbconvert_exporter": "python",
   "pygments_lexer": "ipython3",
   "version": "3.13.5"
  }
 },
 "nbformat": 4,
 "nbformat_minor": 5
}
