{
 "cells": [
  {
   "cell_type": "code",
   "execution_count": 17,
   "id": "8423ae2a",
   "metadata": {},
   "outputs": [
    {
     "name": "stdout",
     "output_type": "stream",
     "text": [
      "--- โปรแกรมคำนวณพื้นที่เรขาคณิต ---\n",
      "\n",
      "\n",
      "คำนวณพื้นที่วงกลม\n",
      "พื้นที่ของวงกลมที่มีรัศมี 5.0 คือ: 78.53975\n",
      "\n",
      "\n",
      "คำนวณพื้นที่สามเหลี่ยม\n",
      "พื้นที่ของสามเหลี่ยมที่มีรัศมี (5.0, 10.0) คือ: 25.0\n",
      "\n",
      "\n",
      "--- สิ้นสุดโปรแกรม ---\n"
     ]
    }
   ],
   "source": [
    "def calculate_circle_area(radius):\n",
    "    pir = 3.14159\n",
    "    area = pir * radius ** 2\n",
    "    return area\n",
    "    \n",
    "def calculate_triangle_area(base, height):\n",
    "    area = 0.5 * base * height\n",
    "    return area\n",
    "\n",
    "radius = float(input(\"กรอกตัวเลขเข้าไปในฟังก์ชั่น\"))\n",
    "base = float(input(\"กรอกตัวเลขเข้าไปในฟังก์ชั่น\"))\n",
    "height = float(input(\"กรอกตัวเลขเข้าไปในฟังก์ชั่น\"))\n",
    "\n",
    "print(\"--- โปรแกรมคำนวณพื้นที่เรขาคณิต ---\")\n",
    "print(\"\\n\")\n",
    "print(\"คำนวณพื้นที่วงกลม\")\n",
    "print(f\"พื้นที่ของวงกลมที่มีรัศมี {radius} คือ:\", calculate_circle_area(radius))\n",
    "print(\"\\n\")\n",
    "print(\"คำนวณพื้นที่สามเหลี่ยม\")\n",
    "print(f\"พื้นที่ของสามเหลี่ยมที่มีรัศมี {base, height} คือ:\", calculate_triangle_area(base, height))\n",
    "print(\"\\n\")\n",
    "print(\"--- สิ้นสุดโปรแกรม ---\")"
   ]
  }
 ],
 "metadata": {
  "kernelspec": {
   "display_name": "Python 3",
   "language": "python",
   "name": "python3"
  },
  "language_info": {
   "codemirror_mode": {
    "name": "ipython",
    "version": 3
   },
   "file_extension": ".py",
   "mimetype": "text/x-python",
   "name": "python",
   "nbconvert_exporter": "python",
   "pygments_lexer": "ipython3",
   "version": "3.13.5"
  }
 },
 "nbformat": 4,
 "nbformat_minor": 5
}
