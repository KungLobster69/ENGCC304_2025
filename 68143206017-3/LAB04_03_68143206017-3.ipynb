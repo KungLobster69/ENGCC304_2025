{
 "cells": [
  {
   "cell_type": "code",
   "execution_count": 8,
   "id": "b2f32b19",
   "metadata": {},
   "outputs": [
    {
     "name": "stdout",
     "output_type": "stream",
     "text": [
      "Your BMI is:  24.691358024691358\n",
      "Result: Overweight.\n"
     ]
    }
   ],
   "source": [
    "try:\n",
    "    weight = float(input(\"Please input your weight: \"))\n",
    "\n",
    "    height = float(input(\"Please input your hight: \"))\n",
    "\n",
    "    bmi = weight / (height ** 2)\n",
    "    print(\"Your BMI is: \",bmi)\n",
    "\n",
    "    if bmi < 18.5:\n",
    "        print(\"Result: Underweight.\")\n",
    "    elif bmi < 23:\n",
    "        print(\"Result: Normalweight.\")\n",
    "    elif bmi < 25:\n",
    "        print(\"Result: Overweight.\")\n",
    "    else:\n",
    "        print(\"Result: Obesity.\")\n",
    "\n",
    "except ValueError :\n",
    "    print(\"ข้มูลไม่ถูกต้อง\")"
   ]
  }
 ],
 "metadata": {
  "kernelspec": {
   "display_name": "Python 3",
   "language": "python",
   "name": "python3"
  },
  "language_info": {
   "codemirror_mode": {
    "name": "ipython",
    "version": 3
   },
   "file_extension": ".py",
   "mimetype": "text/x-python",
   "name": "python",
   "nbconvert_exporter": "python",
   "pygments_lexer": "ipython3",
   "version": "3.13.5"
  }
 },
 "nbformat": 4,
 "nbformat_minor": 5
}
