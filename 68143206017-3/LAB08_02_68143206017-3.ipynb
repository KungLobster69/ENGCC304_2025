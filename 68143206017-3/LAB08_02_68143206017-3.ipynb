{
 "cells": [
  {
   "cell_type": "code",
   "execution_count": 2,
   "id": "26298bbb",
   "metadata": {},
   "outputs": [
    {
     "name": "stdout",
     "output_type": "stream",
     "text": [
      "Alice ได้รับเงินเดือน 6000 บาท\n",
      "Bob ได้รับเงินเดือน 5600 บาท\n",
      "charlie ได้รับเงินเดือน 6975 บาท\n",
      "David ได้รับเงินเดือน 7000 บาท\n",
      "Eve ได้รับเงินเดือน 6650 บาท\n",
      "Frank ได้รับเงินเดือน 6930 บาท\n"
     ]
    }
   ],
   "source": [
    "employees = [\n",
    "    [\"Alice\", 40, 150],\n",
    "    [\"Bob\", 35, 160],\n",
    "    [\"charlie\", 45, 155],\n",
    "    [\"David\", 50, 140],\n",
    "    [\"Eve\", 38, 175],\n",
    "    [\"Frank\", 42, 165]\n",
    "]\n",
    "\n",
    "salaries = []\n",
    "for name, hours, rate in employees:\n",
    "    salary = hours * rate\n",
    "    salaries.append((name, salary))\n",
    "\n",
    "for name, salary in salaries:\n",
    "    print(f\"{name} ได้รับเงินเดือน {salary} บาท\")\n"
   ]
  }
 ],
 "metadata": {
  "kernelspec": {
   "display_name": "Python 3",
   "language": "python",
   "name": "python3"
  },
  "language_info": {
   "codemirror_mode": {
    "name": "ipython",
    "version": 3
   },
   "file_extension": ".py",
   "mimetype": "text/x-python",
   "name": "python",
   "nbconvert_exporter": "python",
   "pygments_lexer": "ipython3",
   "version": "3.13.5"
  }
 },
 "nbformat": 4,
 "nbformat_minor": 5
}
