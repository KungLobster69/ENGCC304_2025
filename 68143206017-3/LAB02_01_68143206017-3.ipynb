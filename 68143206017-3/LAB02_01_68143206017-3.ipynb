{
 "cells": [
  {
   "cell_type": "code",
   "execution_count": null,
   "id": "6e460c7a",
   "metadata": {},
   "outputs": [
    {
     "name": "stdout",
     "output_type": "stream",
     "text": [
      "สวัสดีครับ ผมชื่อPrathom อายุ21 ชอบกิน กระเพราหมูสับ เวลาว่างชอบ เล่นเกม และหนังเรื่องโปรดคือ มาริโอ้ ครับ\n"
     ]
    }
   ],
   "source": [
    "#งานที่ 1 การนำเข้าข้อมูลแล้วแสดงออกมาให้สามารถดูได้\n",
    "name = input(\"คุณชื่ออะไร: \")\n",
    "age = int(input(\"คุณอายุเท่าไหร่: \"))\n",
    "favorite_food = input(\"อาหารที่ชอบ: \")\n",
    "favorite_movie = input(\"หนังที่ชอบ: \")\n",
    "hobby = input(\"งานอดิเรก: \")\n",
    "\n",
    "print(f\"สวัสดีครับ ผมชื่อ {name} อายุ {age}ปี ชอบกิน {favorite_food} เวลาว่างชอบ {hobby} และหนังเรื่องโปรดคือ {favorite_movie} ครับ\")"
   ]
  }
 ],
 "metadata": {
  "kernelspec": {
   "display_name": "Python 3",
   "language": "python",
   "name": "python3"
  },
  "language_info": {
   "codemirror_mode": {
    "name": "ipython",
    "version": 3
   },
   "file_extension": ".py",
   "mimetype": "text/x-python",
   "name": "python",
   "nbconvert_exporter": "python",
   "pygments_lexer": "ipython3",
   "version": "3.13.5"
  }
 },
 "nbformat": 4,
 "nbformat_minor": 5
}
