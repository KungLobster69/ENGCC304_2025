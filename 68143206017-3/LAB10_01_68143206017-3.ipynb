{
 "cells": [
  {
   "cell_type": "code",
   "execution_count": 19,
   "id": "9f9befb3",
   "metadata": {},
   "outputs": [
    {
     "name": "stdout",
     "output_type": "stream",
     "text": [
      "--- โปรแกรมวิเคราห์คะแนนนักเรียน---\n",
      "คะแนนทั้งหมด: [78, 55, 64, 88, 45, 95, 72, 49, 81, 60]\n",
      "คะแนนสูงสุดคือ: 95\n",
      "คะแนนต่ำสุดคือ: 45\n",
      "คะแนนเฉลี่ยคือ: 68.70\n",
      "----------------------------\n",
      "จำนวนคนที่สอบผ่าน (50 คะแนนขึ้นไป): 8 คน\n",
      "เกรดของนักเรียนแต่ละคนคือ: ['B', 'D', 'C', 'A', 'F', 'A', 'B', 'F', 'A', 'C']\n",
      "\n",
      "\n",
      "--- สิ้นสุดการวิเคราะห์---\n"
     ]
    }
   ],
   "source": [
    "score_list =[78, 55, 64, 88, 45, 95, 72, 49, 81, 60]\n",
    "\n",
    "def count_passed(score_list):\n",
    "    passed_count = 0\n",
    "    for score in score_list:\n",
    "        if score >= 50:\n",
    "            passed_count += 1\n",
    "    return passed_count\n",
    "\n",
    "def get_grades(score_list):\n",
    "    grade_list = []\n",
    "    for score in score_list:\n",
    "        if score >= 80:\n",
    "            grade = 'A'\n",
    "        elif score >= 70:\n",
    "            grade = 'B'\n",
    "        elif score >= 60:\n",
    "            grade = 'C'\n",
    "        elif score >= 50:\n",
    "            grade = 'D'\n",
    "        else:\n",
    "            grade = 'F'\n",
    "        grade_list.append(grade)\n",
    "    return grade_list\n",
    "\n",
    "print(\"--- โปรแกรมวิเคราห์คะแนนนักเรียน---\")\n",
    "grades = get_grades(score_list)\n",
    "print(\"คะแนนทั้งหมด:\", score_list)\n",
    "\n",
    "max_score = max(score_list)\n",
    "print(f\"คะแนนสูงสุดคือ: {max_score}\")\n",
    "\n",
    "min_score = min(score_list)\n",
    "print(f\"คะแนนต่ำสุดคือ: {min_score}\")\n",
    "\n",
    "total = sum(score_list)\n",
    "count = len(score_list)\n",
    "average_score = total / count\n",
    "print(f\"คะแนนเฉลี่ยคือ: {average_score:.2f}\")\n",
    "\n",
    "num_passed = count_passed(score_list)\n",
    "grades = get_grades(score_list)\n",
    "\n",
    "print(\"----------------------------\")\n",
    "print(f\"จำนวนคนที่สอบผ่าน (50 คะแนนขึ้นไป): {num_passed} คน\")\n",
    "print(\"เกรดของนักเรียนแต่ละคนคือ:\", grades)\n",
    "\n",
    "print(\"\\n\")\n",
    "print(\"--- สิ้นสุดการวิเคราะห์---\")\n",
    "\n",
    "\n"
   ]
  }
 ],
 "metadata": {
  "kernelspec": {
   "display_name": "Python 3",
   "language": "python",
   "name": "python3"
  },
  "language_info": {
   "codemirror_mode": {
    "name": "ipython",
    "version": 3
   },
   "file_extension": ".py",
   "mimetype": "text/x-python",
   "name": "python",
   "nbconvert_exporter": "python",
   "pygments_lexer": "ipython3",
   "version": "3.13.5"
  }
 },
 "nbformat": 4,
 "nbformat_minor": 5
}
