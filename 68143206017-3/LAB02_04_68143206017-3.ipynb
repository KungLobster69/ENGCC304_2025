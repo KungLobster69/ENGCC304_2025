{
 "cells": [
  {
   "cell_type": "code",
   "execution_count": null,
   "id": "596a8b0b",
   "metadata": {},
   "outputs": [
    {
     "name": "stdout",
     "output_type": "stream",
     "text": [
      "9000 วินาที เท่ากับ 2 ชั่วโมง 150 นาที และเหลือนาที 2 นาที \n"
     ]
    }
   ],
   "source": [
    "try:\n",
    "    secounds = int(input(\"กรุณาป้อนตัวเลขวินาที: \"))\n",
    "    minute = secounds // 60\n",
    "    secounds_s = minute % 60\n",
    "    hour = minute // 60\n",
    "    minute_s = hour % 60\n",
    "    print(f\"{secounds} วินาที เท่ากับ {hour} ชั่วโมง {minute} นาที และเหลือนาที {secounds_s} นาที \")\n",
    "except ValueError:\n",
    "    print(\"การป้อนตัวเลขไม่ถูกต้องกรุณาลองใหม่อีกครั้ง!\")\n"
   ]
  }
 ],
 "metadata": {
  "kernelspec": {
   "display_name": "Python 3",
   "language": "python",
   "name": "python3"
  },
  "language_info": {
   "codemirror_mode": {
    "name": "ipython",
    "version": 3
   },
   "file_extension": ".py",
   "mimetype": "text/x-python",
   "name": "python",
   "nbconvert_exporter": "python",
   "pygments_lexer": "ipython3",
   "version": "3.13.5"
  }
 },
 "nbformat": 4,
 "nbformat_minor": 5
}
