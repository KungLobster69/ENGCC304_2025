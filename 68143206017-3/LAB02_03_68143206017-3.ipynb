{
 "cells": [
  {
   "cell_type": "code",
   "execution_count": 4,
   "id": "1e628432",
   "metadata": {},
   "outputs": [
    {
     "name": "stdout",
     "output_type": "stream",
     "text": [
      "การป้อนตัวเลขไม่ถูกต้องกรุณาลองใหม่อีกครั้ง!\n"
     ]
    }
   ],
   "source": [
    "try:\n",
    "    num1 = int(input(\"กรุณาป้อนตัวเลข 1: \"))\n",
    "    num2 = int(input(\"กรุณาป้อนตัวเลข 2: \"))\n",
    "    sum = num1 / num2\n",
    "    print(f\"เลขที่หารได้: {sum}\")\n",
    "except ValueError:\n",
    "    print(\"การป้อนตัวเลขไม่ถูกต้องกรุณาลองใหม่อีกครั้ง!\")\n",
    "except (ZeroDivisionError,TypeError) as e:\n",
    "    print(\"ข้อผิดพลาด:ไม่สามารถหารด้วยศูนย์ได้\")\n",
    "    "
   ]
  }
 ],
 "metadata": {
  "kernelspec": {
   "display_name": "Python 3",
   "language": "python",
   "name": "python3"
  },
  "language_info": {
   "codemirror_mode": {
    "name": "ipython",
    "version": 3
   },
   "file_extension": ".py",
   "mimetype": "text/x-python",
   "name": "python",
   "nbconvert_exporter": "python",
   "pygments_lexer": "ipython3",
   "version": "3.13.5"
  }
 },
 "nbformat": 4,
 "nbformat_minor": 5
}
