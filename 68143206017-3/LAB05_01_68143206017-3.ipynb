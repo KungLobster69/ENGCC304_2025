{
 "cells": [
  {
   "cell_type": "code",
   "execution_count": 4,
   "id": "b8a1adc5",
   "metadata": {},
   "outputs": [
    {
     "name": "stdout",
     "output_type": "stream",
     "text": [
      "ค่าคะแนนที่คุณป้อนเข้ามามีค่ามากกว่าที่โปรแกรมได้กำหนดไว้\n"
     ]
    }
   ],
   "source": [
    "#โปรแกรมคำนวณเกรด\n",
    "try:\n",
    "    grade = float(input(\"intput your score: \"))\n",
    "\n",
    "    if grade <= 100:\n",
    "        if grade >= 80:\n",
    "            print(f\"ยินดีด้วยคุณได้เกรด A\")\n",
    "        elif grade >= 70:\n",
    "            print(f\"ยินดีด้วยคุณได้เกรด B\")\n",
    "        elif grade >= 60:\n",
    "            print(f\"ยินดีด้วยคุณได้เกรด C\")\n",
    "        elif grade >= 50:\n",
    "            print(f\"ยินดีด้วยคุณได้เกรด D\")\n",
    "        else:\n",
    "            print(f\"เสียใจด้วยคุณได้ F\")\n",
    "    else:\n",
    "        print(f\"ค่าคะแนนที่คุณป้อนเข้ามามีค่ามากกว่าที่โปรแกรมได้กำหนดไว้\")\n",
    "        #เงื่อนไขนี้จะทำงานก็ต่อเมื่อเราได้ป้อนค่าตัวเลขสูงกว่า 100 ขึ้นไป\n",
    "except ValueError :\n",
    "    print(\"ข้มูลไม่ถูกต้อง\")"
   ]
  }
 ],
 "metadata": {
  "kernelspec": {
   "display_name": "Python 3",
   "language": "python",
   "name": "python3"
  },
  "language_info": {
   "codemirror_mode": {
    "name": "ipython",
    "version": 3
   },
   "file_extension": ".py",
   "mimetype": "text/x-python",
   "name": "python",
   "nbconvert_exporter": "python",
   "pygments_lexer": "ipython3",
   "version": "3.13.5"
  }
 },
 "nbformat": 4,
 "nbformat_minor": 5
}
