{
 "cells": [
  {
   "cell_type": "code",
   "execution_count": null,
   "id": "8e210e84",
   "metadata": {},
   "outputs": [
    {
     "name": "stdout",
     "output_type": "stream",
     "text": [
      "ชื่อเดิม : 'PrAtHom SrisAngChot'\n",
      "ชื่อใหม่ : 'prathom_srisangchot'\n"
     ]
    }
   ],
   "source": [
    "try:\n",
    "    username = input(\"กรุณาป้อนชื่อของคุณ: \")\n",
    "    #ทำความสะอาดและจัดรูปแบบ\n",
    "    #1.ลบช่องว่างหน้า หลัง\n",
    "    #2.แปลงเป็นตัวพิมพ์เล็กทั้งหมด\n",
    "    #3.แทนที่ช่องว่างระหว่างคำด้วยขีดล่าง (_) (repalace('','_'))\n",
    "    format_username = username.strip().lower().replace(' ','_')\n",
    "    print(f\"ชื่อเดิม : '{username}'\")\n",
    "    print(f\"ชื่อใหม่ : '{format_username}'\")\n",
    "    range_user = len(format_username)\n",
    "    print(f\"ความยาวของชื่อทั้งหมด: {range_user}\")\n",
    "    if range_user <= 20:\n",
    "        print(\"ข้อมูลใช้ได้\")\n",
    "    else:\n",
    "        print(\"ชื่อของคุณยาวเกินไป\")\n",
    "except ValueError :\n",
    "    print(\"ข้มูลไม่ถูกต้อง\")"
   ]
  }
 ],
 "metadata": {
  "kernelspec": {
   "display_name": "Python 3",
   "language": "python",
   "name": "python3"
  },
  "language_info": {
   "codemirror_mode": {
    "name": "ipython",
    "version": 3
   },
   "file_extension": ".py",
   "mimetype": "text/x-python",
   "name": "python",
   "nbconvert_exporter": "python",
   "pygments_lexer": "ipython3",
   "version": "3.13.5"
  }
 },
 "nbformat": 4,
 "nbformat_minor": 5
}
