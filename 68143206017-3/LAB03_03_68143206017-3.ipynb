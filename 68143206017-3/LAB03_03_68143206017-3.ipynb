{
 "cells": [
  {
   "cell_type": "code",
   "execution_count": null,
   "id": "7baa469e",
   "metadata": {},
   "outputs": [],
   "source": [
    "#WorkShop 3\n",
    "try:\n",
    "    age = int(input(\"กรุณาป้อนอายุของคุณ:\"))\n",
    "    is_child = age<=12\n",
    "    price = (not is_child)*100 + is_child * 50\n",
    "    print(\"ราคาตั๋วของคุณคือ: \",int(price),\"บาท\")\n",
    "except ValueError :\n",
    "    print(\"ข้มูลไม่ถูกต้อง\")"
   ]
  }
 ],
 "metadata": {
  "language_info": {
   "name": "python"
  }
 },
 "nbformat": 4,
 "nbformat_minor": 5
}
