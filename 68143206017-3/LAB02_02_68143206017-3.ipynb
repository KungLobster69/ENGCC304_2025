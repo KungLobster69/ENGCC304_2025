{
 "cells": [
  {
   "cell_type": "code",
   "execution_count": null,
   "id": "a033d927",
   "metadata": {},
   "outputs": [
    {
     "name": "stdout",
     "output_type": "stream",
     "text": [
      "ราคาถูกต้อง: 250.0\n",
      "250.0 <class 'float'>\n",
      "3 <class 'int'>\n",
      "ราคาสินค้าทั้งหมดคือ750.000000 บาท \n"
     ]
    }
   ],
   "source": [
    "try:\n",
    "    product_values = input(\"ป้อนราคาสินค้า: \")\n",
    "    check_product_values = float(product_values)\n",
    "    print(f\"ราคาถูกต้อง: {check_product_values}\")\n",
    "    product_amout = input(\"จำนวนินค้า: \")\n",
    "    int_number = int(product_amout)\n",
    "    print(check_product_values,type(check_product_values))\n",
    "    print(int_number,type(int_number))\n",
    "    total_price = check_product_values * int_number\n",
    "    print(f\"ราคาสินค้าทั้งหมดคือ{total_price:2f} บาท \")\n",
    "except ValueError:\n",
    "    print(\"ข้ออมูลไม่ถูกต้อง! กรุณาป้อนราคาใหม่อีกครั้งเป็นตัวเลขเท่านั้น\")\n",
    "\n",
    "\n",
    "\n"
   ]
  }
 ],
 "metadata": {
  "kernelspec": {
   "display_name": "Python 3",
   "language": "python",
   "name": "python3"
  },
  "language_info": {
   "codemirror_mode": {
    "name": "ipython",
    "version": 3
   },
   "file_extension": ".py",
   "mimetype": "text/x-python",
   "name": "python",
   "nbconvert_exporter": "python",
   "pygments_lexer": "ipython3",
   "version": "3.13.5"
  }
 },
 "nbformat": 4,
 "nbformat_minor": 5
}
