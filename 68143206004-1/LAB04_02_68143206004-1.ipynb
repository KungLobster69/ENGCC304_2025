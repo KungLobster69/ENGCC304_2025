{
 "cells": [
  {
   "cell_type": "code",
   "execution_count": null,
   "id": "5549458a",
   "metadata": {},
   "outputs": [],
   "source": [
    "#START\n",
    " #PRINT \"ENTER YOUR AGE\"\n",
    " #READ AGE\n",
    "#IF AGE >= 18 THEN\n",
    "  #PRINT \"YOU ARE ELIGIBLE TO VOTE\"\n",
    "#ELSE\n",
    "  #PRINT \"YOU ARE NON-ELIGIBLE TO VOTE\"\n",
    "#ENFIF\n",
    "#END"
   ]
  },
  {
   "cell_type": "code",
   "execution_count": 3,
   "id": "5152b5d5",
   "metadata": {},
   "outputs": [
    {
     "name": "stdout",
     "output_type": "stream",
     "text": [
      "ท่านยังไม่มีสิทธิ์เลือกตั้ง เนื่องจากอายุต่ำกว่า 18 ปี\n"
     ]
    }
   ],
   "source": [
    "age = int(input(\"กรอกอายุของคุณ\"))\n",
    "\n",
    "if age >= 18 :\n",
    "    print(\"ท่านมีสิทธิ์เลือกตั้ง\")\n",
    "else:\n",
    "    print(\"ท่านยังไม่มีสิทธิ์เลือกตั้ง เนื่องจากอายุต่ำกว่า 18 ปี\")\n"
   ]
  },
  {
   "cell_type": "code",
   "execution_count": 4,
   "id": "e25f42ad",
   "metadata": {},
   "outputs": [
    {
     "name": "stdout",
     "output_type": "stream",
     "text": [
      "ท่านยังไม่มีสิทธิ์เลือกตั้ง \n",
      "ท่านจะมีสิทธิ์เลือกตั้งในอีก 4 ปี\n"
     ]
    }
   ],
   "source": [
    "age = int(input(\"กรอกอายุของคุณ\"))\n",
    "\n",
    "if age >= 18 :\n",
    "    print(\"ท่านมีสิทธิ์เลือกตั้ง\")\n",
    "else:\n",
    "    years_left = 18 - age\n",
    "    print(\"ท่านยังไม่มีสิทธิ์เลือกตั้ง \")\n",
    "    print(f\"ท่านจะมีสิทธิ์เลือกตั้งในอีก {years_left} ปี\")"
   ]
  }
 ],
 "metadata": {
  "kernelspec": {
   "display_name": "Python 3",
   "language": "python",
   "name": "python3"
  },
  "language_info": {
   "codemirror_mode": {
    "name": "ipython",
    "version": 3
   },
   "file_extension": ".py",
   "mimetype": "text/x-python",
   "name": "python",
   "nbconvert_exporter": "python",
   "pygments_lexer": "ipython3",
   "version": "3.13.5"
  }
 },
 "nbformat": 4,
 "nbformat_minor": 5
}
