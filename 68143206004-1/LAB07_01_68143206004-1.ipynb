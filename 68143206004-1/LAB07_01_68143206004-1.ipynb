{
 "cells": [
  {
   "cell_type": "code",
   "execution_count": 6,
   "id": "7077111e",
   "metadata": {},
   "outputs": [
    {
     "name": "stdout",
     "output_type": "stream",
     "text": [
      "คะแนนของนักศึกษาทั้งหมด[1, 2, 3, 4, 5]\n",
      "คะแนนที่มากที่สุด:5\n",
      "คะแนนที่น้อยที่สุด:1\n",
      "ผลรวมของคะแนนทั้งหมด:15\n",
      "จำนวนคะแนนทั้งหมดที่รับเข้ามา:5\n",
      "คะแนนเฉลี่ยทั้งหมด:3.0\n"
     ]
    }
   ],
   "source": [
    "score = []\n",
    "for i in range(5):\n",
    "    new_score = int(input(\"คะแนนของนักศึกษา\"))\n",
    "    score.append(new_score)  \n",
    "\n",
    "print(f\"คะแนนของนักศึกษาทั้งหมด{score}\")\n",
    "print(f\"คะแนนที่มากที่สุด:{max(score)}\")\n",
    "print(f\"คะแนนที่น้อยที่สุด:{min(score)}\")\n",
    "print(f\"ผลรวมของคะแนนทั้งหมด:{sum(score)}\")\n",
    "print(f\"จำนวนคะแนนทั้งหมดที่รับเข้ามา:{len(score)}\")\n",
    "print(f\"คะแนนเฉลี่ยทั้งหมด:{sum(score) / len(score)}\")"
   ]
  }
 ],
 "metadata": {
  "kernelspec": {
   "display_name": "Python 3",
   "language": "python",
   "name": "python3"
  },
  "language_info": {
   "codemirror_mode": {
    "name": "ipython",
    "version": 3
   },
   "file_extension": ".py",
   "mimetype": "text/x-python",
   "name": "python",
   "nbconvert_exporter": "python",
   "pygments_lexer": "ipython3",
   "version": "3.13.5"
  }
 },
 "nbformat": 4,
 "nbformat_minor": 5
}
