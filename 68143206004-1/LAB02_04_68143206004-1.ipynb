{
 "cells": [
  {
   "cell_type": "code",
   "execution_count": null,
   "id": "dd11e61b",
   "metadata": {},
   "outputs": [
    {
     "name": "stdout",
     "output_type": "stream",
     "text": [
      "โปรแกรมแปลงวินาที\n",
      "6000 วินาที เท่ากับ 1 ชั่วโมง 40 นาที 0 วินาที\n"
     ]
    }
   ],
   "source": [
    "try:\n",
    "    print(\"โปรแกรมแปลงวินาที\")\n",
    "\n",
    "    seconds_str = input(\"วินาทีทั้งหมด\")\n",
    "\n",
    "    seconds = int(seconds_str)\n",
    "\n",
    "    caculate_minutes = seconds // 60\n",
    "    caculate_seconds = seconds % 60\n",
    "    caculate_hours = caculate_minutes // 60\n",
    "    caculate_left_minutes = caculate_minutes % 60\n",
    "    \n",
    "    print(f\"{seconds} วินาที เท่ากับ {caculate_hours} ชั่วโมง {caculate_left_minutes} นาที {caculate_seconds} วินาที\")\n",
    "\n",
    "except:\n",
    "    print(f\"กรุณาป้อนตัวเลข\")\n",
    " \n"
   ]
  }
 ],
 "metadata": {
  "kernelspec": {
   "display_name": "Python 3",
   "language": "python",
   "name": "python3"
  },
  "language_info": {
   "codemirror_mode": {
    "name": "ipython",
    "version": 3
   },
   "file_extension": ".py",
   "mimetype": "text/x-python",
   "name": "python",
   "nbconvert_exporter": "python",
   "pygments_lexer": "ipython3",
   "version": "3.13.5"
  }
 },
 "nbformat": 4,
 "nbformat_minor": 5
}
