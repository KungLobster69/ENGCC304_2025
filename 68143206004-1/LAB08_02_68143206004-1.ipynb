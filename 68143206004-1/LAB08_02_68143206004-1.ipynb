{
 "cells": [
  {
   "cell_type": "code",
   "execution_count": 11,
   "id": "95baf6f3",
   "metadata": {},
   "outputs": [
    {
     "name": "stdout",
     "output_type": "stream",
     "text": [
      "Alice: 6000 บาท\n",
      "Bob: 5600 บาท\n",
      "Charlie: 6975 บาท\n",
      "David: 7000 บาท\n",
      "Eve: 6650 บาท\n",
      "Frank: 6930 บาท\n"
     ]
    }
   ],
   "source": [
    "employees = [\n",
    "    [\"Alice\", 40, 150],\n",
    "    [\"Bob\", 35, 160],\n",
    "    [\"Charlie\", 45, 155],\n",
    "    [\"David\", 50, 140],\n",
    "    [\"Eve\", 38, 175],\n",
    "    [\"Frank\", 42, 165]\n",
    "]\n",
    "\n",
    "for a in range(len(employees)):\n",
    "    result = employees[a][1] * employees[a][2]\n",
    "    print(f\"{employees[a][0]}: {result} บาท\")    \n",
    "\n"
   ]
  }
 ],
 "metadata": {
  "kernelspec": {
   "display_name": "Python 3",
   "language": "python",
   "name": "python3"
  },
  "language_info": {
   "codemirror_mode": {
    "name": "ipython",
    "version": 3
   },
   "file_extension": ".py",
   "mimetype": "text/x-python",
   "name": "python",
   "nbconvert_exporter": "python",
   "pygments_lexer": "ipython3",
   "version": "3.13.5"
  }
 },
 "nbformat": 4,
 "nbformat_minor": 5
}
