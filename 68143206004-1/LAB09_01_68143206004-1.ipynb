{
 "cells": [
  {
   "cell_type": "code",
   "execution_count": 6,
   "id": "3a6fc76e",
   "metadata": {},
   "outputs": [
    {
     "name": "stdout",
     "output_type": "stream",
     "text": [
      "---เรียกใช้งานฟังก์ชันครั้งที่ 1 ---\n",
      "พื้นที่สี่เหลี่ยม :100\n",
      "\n",
      "---เรียกใช้งานฟังก์ชันครั้งที่ 2 ---\n",
      "พื้นที่สี่เหลี่ยม :300\n"
     ]
    }
   ],
   "source": [
    "def calculate_rectangle_area(width,height):\n",
    "    area = width * height\n",
    "    print(f\"พื้นที่สี่เหลี่ยม :{area}\")\n",
    "\n",
    "print(\"---เรียกใช้งานฟังก์ชันครั้งที่ 1 ---\")\n",
    "calculate_rectangle_area(10,10)\n",
    "print(\"\")\n",
    "print(\"---เรียกใช้งานฟังก์ชันครั้งที่ 2 ---\")\n",
    "calculate_rectangle_area(15,20)"
   ]
  }
 ],
 "metadata": {
  "kernelspec": {
   "display_name": "Python 3",
   "language": "python",
   "name": "python3"
  },
  "language_info": {
   "codemirror_mode": {
    "name": "ipython",
    "version": 3
   },
   "file_extension": ".py",
   "mimetype": "text/x-python",
   "name": "python",
   "nbconvert_exporter": "python",
   "pygments_lexer": "ipython3",
   "version": "3.13.5"
  }
 },
 "nbformat": 4,
 "nbformat_minor": 5
}
