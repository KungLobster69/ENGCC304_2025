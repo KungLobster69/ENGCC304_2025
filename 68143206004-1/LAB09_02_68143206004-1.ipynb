{
 "cells": [
  {
   "cell_type": "code",
   "execution_count": 22,
   "id": "3549aa9d",
   "metadata": {},
   "outputs": [
    {
     "name": "stdout",
     "output_type": "stream",
     "text": [
      "---โปรแกรมคำนวณพื้นที่เรขาคณิต---\n",
      "\n",
      "คำนวณพื้นที่วงกลม\n",
      "พื้นที่ของวงกลมที่มีรัศมี50.0 คือ:7853.974999999999\n",
      "\n",
      "คำนวณพื้นที่สามเหลี่ยม\n",
      "พื้นที่ของสามเหลี่ยมคือ:1250.0\n",
      "\n",
      "---สิ้นสุดโปรแกรม---\n"
     ]
    }
   ],
   "source": [
    "def calculate_circle_area(radius):\n",
    "    pir2 = 3.14159\n",
    "    area_circle = pir2 * (radius**2)\n",
    "    return float(area_circle)\n",
    "def calculate_triangle_area(base,height):\n",
    "    area_triangle = 0.5 * base * height\n",
    "    return float(area_triangle)\n",
    "\n",
    "print(\"---โปรแกรมคำนวณพื้นที่เรขาคณิต---\")\n",
    "print(\"\")\n",
    "print(\"คำนวณพื้นที่วงกลม\")\n",
    "a = float(input(\"รัศมี\"))\n",
    "a_answer = calculate_circle_area(radius = a_convert)\n",
    "print(f\"พื้นที่ของวงกลมที่มีรัศมี{a_convert} คือ:{a_answer}\")\n",
    "print(\"\")\n",
    "print(\"คำนวณพื้นที่สามเหลี่ยม\")\n",
    "b = float(input(\"ฐาน\"))\n",
    "c = float(input(\"ความสูง\"))\n",
    "b_c_answer = calculate_triangle_area(base = b,height = c)\n",
    "print(f\"พื้นที่ของสามเหลี่ยมคือ:{b_c_answer}\")\n",
    "print(\"\")\n",
    "print(\"---สิ้นสุดโปรแกรม---\")\n"
   ]
  }
 ],
 "metadata": {
  "kernelspec": {
   "display_name": "Python 3",
   "language": "python",
   "name": "python3"
  },
  "language_info": {
   "codemirror_mode": {
    "name": "ipython",
    "version": 3
   },
   "file_extension": ".py",
   "mimetype": "text/x-python",
   "name": "python",
   "nbconvert_exporter": "python",
   "pygments_lexer": "ipython3",
   "version": "3.13.5"
  }
 },
 "nbformat": 4,
 "nbformat_minor": 5
}
