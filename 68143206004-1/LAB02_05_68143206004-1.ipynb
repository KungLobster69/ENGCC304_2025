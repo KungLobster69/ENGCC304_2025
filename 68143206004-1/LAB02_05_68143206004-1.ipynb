{
 "cells": [
  {
   "cell_type": "code",
   "execution_count": 7,
   "id": "1cded4a4",
   "metadata": {},
   "outputs": [
    {
     "name": "stdout",
     "output_type": "stream",
     "text": [
      "สถานะ: username นี้ใช้ได้\n",
      "--------------------------------------------------\n"
     ]
    }
   ],
   "source": [
    "Username = input(\"username\")\n",
    "\n",
    "formatted_user = Username.strip().lower().replace('','_')\n",
    "\n",
    "num_username = len(formatted_user)\n",
    "\n",
    "\n",
    "if 5 <= num_username <= 20:\n",
    "   print(\"สถานะ: username นี้ใช้ได้\") \n",
    "else:\n",
    "   print(f\"สถานะ: username นี้ใช้งานไม่ได้(ต้องมีความยาว 5-20 ตัวอักษร แต่ตอนนี้ยาว {num_username} ตัวอักษร)\")\n",
    "print(\"-\" * 50)\n",
    "\n",
    "\n"
   ]
  }
 ],
 "metadata": {
  "kernelspec": {
   "display_name": "Python 3",
   "language": "python",
   "name": "python3"
  },
  "language_info": {
   "codemirror_mode": {
    "name": "ipython",
    "version": 3
   },
   "file_extension": ".py",
   "mimetype": "text/x-python",
   "name": "python",
   "nbconvert_exporter": "python",
   "pygments_lexer": "ipython3",
   "version": "3.13.5"
  }
 },
 "nbformat": 4,
 "nbformat_minor": 5
}
