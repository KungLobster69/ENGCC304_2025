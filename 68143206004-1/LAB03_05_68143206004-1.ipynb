{
 "cells": [
  {
   "cell_type": "code",
   "execution_count": 1,
   "id": "f4d1201e",
   "metadata": {},
   "outputs": [
    {
     "name": "stdout",
     "output_type": "stream",
     "text": [
      "ชื่อผู้ใช้ที่แนะนำสำหรับคุณคือ: jas07\n"
     ]
    }
   ],
   "source": [
    "first_name = input(\"ป้อนชื่อจริง (ภาษาอังกฤษ): \")\n",
    "birth_year = input(\"ป้อนปีเกิด (ค.ศ.): \")\n",
    "# ใช้ Slicing และ Method ที่เรียนมา\n",
    "name_part = first_name[0:3].lower()\n",
    "year_part = birth_year[2:4]\n",
    "username = name_part + year_part\n",
    "print(f\"ชื่อผู้ใช้ที่แนะนำสำหรับคุณคือ: {username}\")"
   ]
  }
 ],
 "metadata": {
  "kernelspec": {
   "display_name": "Python 3",
   "language": "python",
   "name": "python3"
  },
  "language_info": {
   "codemirror_mode": {
    "name": "ipython",
    "version": 3
   },
   "file_extension": ".py",
   "mimetype": "text/x-python",
   "name": "python",
   "nbconvert_exporter": "python",
   "pygments_lexer": "ipython3",
   "version": "3.13.5"
  }
 },
 "nbformat": 4,
 "nbformat_minor": 5
}
