{
 "cells": [
  {
   "cell_type": "code",
   "execution_count": null,
   "id": "1888ebec",
   "metadata": {},
   "outputs": [
    {
     "name": "stdout",
     "output_type": "stream",
     "text": [
      "แนะนำตัวและของที่ชอบ\n",
      "สวัสดีครับ ผมชื่อ Boss ชอบกิน frie rice เวลาว่างชอบ play game และหนังเรื่องโปรดคือ need for speed  ครับ\n"
     ]
    }
   ],
   "source": [
    "print(\"แนะนำตัวและของที่ชอบ\")\n",
    "\n",
    "name = input(\"ป้อนชื่อ\")\n",
    "favorite_food = input(\"อาหารที่ชอบ\")\n",
    "favorite_movie = input(\"หนังที่ชอบ\")\n",
    "hobby = input(\"งานอดิเรก\")\n",
    "\n",
    "print(f\"สวัสดีครับ ผมชื่อ {name} ชอบกิน {favorite_food} เวลาว่างชอบ {hobby} และหนังเรื่องโปรดคือ {favorite_movie} ครับ\")"
   ]
  },
  {
   "cell_type": "code",
   "execution_count": null,
   "id": "ef3fa73e",
   "metadata": {},
   "outputs": [],
   "source": []
  }
 ],
 "metadata": {
  "kernelspec": {
   "display_name": "Python 3",
   "language": "python",
   "name": "python3"
  },
  "language_info": {
   "codemirror_mode": {
    "name": "ipython",
    "version": 3
   },
   "file_extension": ".py",
   "mimetype": "text/x-python",
   "name": "python",
   "nbconvert_exporter": "python",
   "pygments_lexer": "ipython3",
   "version": "3.13.5"
  }
 },
 "nbformat": 4,
 "nbformat_minor": 5
}
