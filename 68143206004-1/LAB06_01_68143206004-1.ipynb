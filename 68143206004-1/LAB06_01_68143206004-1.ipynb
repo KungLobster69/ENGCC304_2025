{
 "cells": [
  {
   "cell_type": "code",
   "execution_count": 1,
   "id": "3282cb63",
   "metadata": {},
   "outputs": [
    {
     "name": "stdout",
     "output_type": "stream",
     "text": [
      "ข้อมูลไม่ถูกต้อง\n"
     ]
    }
   ],
   "source": [
    "import random\n",
    "try:\n",
    " answer = random.randint(1,100)\n",
    " while True:\n",
    "   number = int(input(\"Guess the number 1 - 100\"))\n",
    "   if number >= 1 and number <= 100 :\n",
    "     if number > answer :\n",
    "         print(f\"Guess the number :{number} \")\n",
    "         print(\"Too hight!\")\n",
    "     elif number < answer :\n",
    "         print(f\"Guess the number :{number} \")\n",
    "         print(\"Too low!\")\n",
    "     else :\n",
    "         answer = number\n",
    "         print(f\"Guess the number :{number}\")\n",
    "         print(\"WOW!! You guessed it \")\n",
    "         break\n",
    "   else:\n",
    "     print(f\"Error:{number} please enter the number 1-100 \") \n",
    "     break\n",
    "except ValueError :\n",
    "   print(\"ข้อมูลไม่ถูกต้อง\")"
   ]
  }
 ],
 "metadata": {
  "kernelspec": {
   "display_name": "Python 3",
   "language": "python",
   "name": "python3"
  },
  "language_info": {
   "codemirror_mode": {
    "name": "ipython",
    "version": 3
   },
   "file_extension": ".py",
   "mimetype": "text/x-python",
   "name": "python",
   "nbconvert_exporter": "python",
   "pygments_lexer": "ipython3",
   "version": "3.13.5"
  }
 },
 "nbformat": 4,
 "nbformat_minor": 5
}
