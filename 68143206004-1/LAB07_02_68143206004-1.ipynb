{
 "cells": [
  {
   "cell_type": "code",
   "execution_count": 17,
   "id": "465c73a9",
   "metadata": {},
   "outputs": [
    {
     "name": "stdout",
     "output_type": "stream",
     "text": [
      "---Current Inventory---\n",
      "ID       NAME      STOCK\n",
      "-------------------------\n",
      "P001     Keyboard       50\n",
      "P002     Mouse       75\n",
      "P003     Monitor       30\n"
     ]
    }
   ],
   "source": [
    "inventory = [\n",
    "    (\"P001\",\"Keyboard\",50),\n",
    "    (\"P002\",\"Mouse\",75),\n",
    "    (\"P003\",\"Monitor\",30) ]\n",
    "\n",
    "\n",
    "print(\"---Current Inventory---\")\n",
    "print(\"ID       NAME      STOCK\")\n",
    "print(\"-\"*25)\n",
    "for i in inventory:\n",
    "    (id_product, name, stock) = i\n",
    "    print(f\"{id_product}     {name}       {stock}\")"
   ]
  }
 ],
 "metadata": {
  "kernelspec": {
   "display_name": "Python 3",
   "language": "python",
   "name": "python3"
  },
  "language_info": {
   "codemirror_mode": {
    "name": "ipython",
    "version": 3
   },
   "file_extension": ".py",
   "mimetype": "text/x-python",
   "name": "python",
   "nbconvert_exporter": "python",
   "pygments_lexer": "ipython3",
   "version": "3.13.5"
  }
 },
 "nbformat": 4,
 "nbformat_minor": 5
}
