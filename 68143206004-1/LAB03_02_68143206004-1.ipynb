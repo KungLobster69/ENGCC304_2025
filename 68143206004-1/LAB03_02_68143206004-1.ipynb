{
 "cells": [
  {
   "cell_type": "code",
   "execution_count": 3,
   "id": "0ccf04d0",
   "metadata": {},
   "outputs": [
    {
     "name": "stdout",
     "output_type": "stream",
     "text": [
      "มีสิทธิ์ได้รับรางวัล: True\n"
     ]
    }
   ],
   "source": [
    "score = 85\n",
    "homework_submitted = True\n",
    "is_eligible = (score > 80) and (homework_submitted == True)\n",
    "print(\"มีสิทธิ์ได้รับรางวัล:\", is_eligible)"
   ]
  },
  {
   "cell_type": "code",
   "execution_count": 4,
   "id": "de8cb78a",
   "metadata": {},
   "outputs": [
    {
     "name": "stdout",
     "output_type": "stream",
     "text": [
      "มีสิทธิ์ได้รับรางวัล: True\n"
     ]
    }
   ],
   "source": [
    "score = 85\n",
    "homework_submitted = True\n",
    "is_eligible = (score > 80) or (homework_submitted == True)\n",
    "print(\"มีสิทธิ์ได้รับรางวัล:\", is_eligible)"
   ]
  }
 ],
 "metadata": {
  "kernelspec": {
   "display_name": "Python 3",
   "language": "python",
   "name": "python3"
  },
  "language_info": {
   "codemirror_mode": {
    "name": "ipython",
    "version": 3
   },
   "file_extension": ".py",
   "mimetype": "text/x-python",
   "name": "python",
   "nbconvert_exporter": "python",
   "pygments_lexer": "ipython3",
   "version": "3.13.5"
  }
 },
 "nbformat": 4,
 "nbformat_minor": 5
}
