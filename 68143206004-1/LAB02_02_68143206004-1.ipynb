{
 "cells": [
  {
   "cell_type": "code",
   "execution_count": 28,
   "id": "77199270",
   "metadata": {},
   "outputs": [
    {
     "name": "stdout",
     "output_type": "stream",
     "text": [
      "-โปรแกรมคำนวณราคาสินค้า-\n",
      "กรุณากรอกข้อมูลเป็นตัวเลข\n"
     ]
    }
   ],
   "source": [
    "\n",
    "try:\n",
    "    print(\"-โปรแกรมคำนวณราคาสินค้า-\")\n",
    "    price = input(\"ราคาสินค้าต่อชิ้น:\")\n",
    "    product = input(\"จำนวนสินค้าที่ต้องการซื้อ:\")\n",
    "    str_number = price\n",
    "    float_number = float(str_number)\n",
    "    print(str_number,type(str_number))\n",
    "    print(float_number,type(float_number))\n",
    "\n",
    "    str_number = product\n",
    "    int_number = int(str_number)\n",
    "    print(str_number,type(str_number))\n",
    "    print(int_number,type(int_number))\n",
    "\n",
    "    total_price = float_number * int_number\n",
    "    print(f\"ราคาสินค้าทั้งหมดคือ {total_price:.2f} บาท\")\n",
    "except ValueError:\n",
    "    print(\"กรุณากรอกข้อมูลเป็นตัวเลข\") \n",
    "\n",
    "\n",
    "\n",
    "\n"
   ]
  }
 ],
 "metadata": {
  "kernelspec": {
   "display_name": "Python 3",
   "language": "python",
   "name": "python3"
  },
  "language_info": {
   "codemirror_mode": {
    "name": "ipython",
    "version": 3
   },
   "file_extension": ".py",
   "mimetype": "text/x-python",
   "name": "python",
   "nbconvert_exporter": "python",
   "pygments_lexer": "ipython3",
   "version": "3.13.5"
  }
 },
 "nbformat": 4,
 "nbformat_minor": 5
}
