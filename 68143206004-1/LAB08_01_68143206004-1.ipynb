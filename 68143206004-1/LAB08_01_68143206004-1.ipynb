{
 "cells": [
  {
   "cell_type": "code",
   "execution_count": 11,
   "id": "71edc825",
   "metadata": {},
   "outputs": [
    {
     "name": "stdout",
     "output_type": "stream",
     "text": [
      "ราคาของ Mouse:300 ชื่อของสินค้าชิ้นสุดท้าย:Monitor จำนวนคงเหลือของ Keyboard:10\n"
     ]
    }
   ],
   "source": [
    "product = [\n",
    "    [\"keyborad\", 500, 10],\n",
    "    [\"Mouse\", 300, 15],\n",
    "    [\"Monitor\", 4500, 8]\n",
    "]\n",
    "x = product[1][1]\n",
    "y = product[2][0]\n",
    "z = product[0][2]\n",
    "\n",
    "print(f\"ราคาของ Mouse:{x} ชื่อของสินค้าชิ้นสุดท้าย:{y} จำนวนคงเหลือของ Keyboard:{z}\")"
   ]
  }
 ],
 "metadata": {
  "kernelspec": {
   "display_name": "Python 3",
   "language": "python",
   "name": "python3"
  },
  "language_info": {
   "codemirror_mode": {
    "name": "ipython",
    "version": 3
   },
   "file_extension": ".py",
   "mimetype": "text/x-python",
   "name": "python",
   "nbconvert_exporter": "python",
   "pygments_lexer": "ipython3",
   "version": "3.13.5"
  }
 },
 "nbformat": 4,
 "nbformat_minor": 5
}
