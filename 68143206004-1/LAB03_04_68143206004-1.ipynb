{
 "cells": [
  {
   "cell_type": "code",
   "execution_count": 1,
   "id": "9accbbde",
   "metadata": {},
   "outputs": [
    {
     "name": "stdout",
     "output_type": "stream",
     "text": [
      "\n",
      "--- ใบเสร็จอย่างย่อ ---\n",
      "รายการ: book\n",
      "ยอดรวมสุทธิ: 60.00 บาท\n"
     ]
    }
   ],
   "source": [
    "\n",
    "item_name = input(\"ชื่อสินค้า: \")\n",
    "price = float(input(\"ราคาสินค้าต่อชิ้น: \"))\n",
    "quantity = int(input(\"จำนวน: \"))\n",
    "\n",
    "total = price * quantity\n",
    "\n",
    "print(f\"\\n--- ใบเสร็จอย่างย่อ ---\")\n",
    "print(f\"รายการ: {item_name}\")\n",
    "print(f\"ยอดรวมสุทธิ: {total:.2f} บาท\")"
   ]
  }
 ],
 "metadata": {
  "kernelspec": {
   "display_name": "Python 3",
   "language": "python",
   "name": "python3"
  },
  "language_info": {
   "codemirror_mode": {
    "name": "ipython",
    "version": 3
   },
   "file_extension": ".py",
   "mimetype": "text/x-python",
   "name": "python",
   "nbconvert_exporter": "python",
   "pygments_lexer": "ipython3",
   "version": "3.13.5"
  }
 },
 "nbformat": 4,
 "nbformat_minor": 5
}
