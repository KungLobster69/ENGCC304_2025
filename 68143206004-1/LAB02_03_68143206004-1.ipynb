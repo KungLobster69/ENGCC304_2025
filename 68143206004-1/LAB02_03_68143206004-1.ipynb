{
 "cells": [
  {
   "cell_type": "code",
   "execution_count": 3,
   "id": "ad6de028",
   "metadata": {},
   "outputs": [
    {
     "name": "stdout",
     "output_type": "stream",
     "text": [
      "สร้างโปรแกรมหารเลข\n",
      "ผลหารได้1.0\n"
     ]
    }
   ],
   "source": [
    "\n",
    "\n",
    "try:\n",
    "    print(\"สร้างโปรแกรมหารเลข\")\n",
    "\n",
    "    a_str = input(\"กรอกตัวเลขที่ต้องการ 1 \")\n",
    "    b_str = input(\"กรอกตัวเลขที่ต้องการ 2 \")\n",
    "\n",
    "    a = int(a_str)\n",
    "    b = int(b_str)\n",
    "\n",
    "    c = a / b\n",
    "\n",
    "    print(f\"ผลหารได้{c}\")\n",
    "except ValueError:\n",
    "    print(f\"กรุณาป้อนเป็นตัวเลขเท่านั้น\")\n",
    "except ZeroDivisionError:\n",
    "    print(f\"ข้อผิดพลาด:ไม่สามารถหารด้วยศูนย์ได้\")\n",
    "\n",
    " \n",
    "\n"
   ]
  }
 ],
 "metadata": {
  "kernelspec": {
   "display_name": "Python 3",
   "language": "python",
   "name": "python3"
  },
  "language_info": {
   "codemirror_mode": {
    "name": "ipython",
    "version": 3
   },
   "file_extension": ".py",
   "mimetype": "text/x-python",
   "name": "python",
   "nbconvert_exporter": "python",
   "pygments_lexer": "ipython3",
   "version": "3.13.5"
  }
 },
 "nbformat": 4,
 "nbformat_minor": 5
}
