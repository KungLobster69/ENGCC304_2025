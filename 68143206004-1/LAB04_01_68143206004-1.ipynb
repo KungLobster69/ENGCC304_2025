{
 "cells": [
  {
   "cell_type": "code",
   "execution_count": null,
   "id": "e0b4bd95",
   "metadata": {},
   "outputs": [],
   "source": [
    "#START\n",
    " #PRINT \"ENTER SCORE FOR MATH\"\n",
    " #READ MATH SCORE\n",
    " #PRINT \"ENTER SCORE FOR SCIENCE\"\n",
    " #READ SCIENCE SCORE\n",
    " #PRINT \"ENTER SCORE FOR ENGLISH\"\n",
    " #READ ENGLISH SCORE\n",
    " #TOTAL_SCORE = (MATH SCORE + SCIENCE + ENGLISH) \n",
    " #AVERAGE_SCORE = TOTAL_SCORE / 3\n",
    " #PRINT  \"THE AVERAGE SCORE IS :\", AVERAGE_SCORE\n",
    "#END"
   ]
  },
  {
   "cell_type": "code",
   "execution_count": 1,
   "id": "b2a7d966",
   "metadata": {},
   "outputs": [
    {
     "name": "stdout",
     "output_type": "stream",
     "text": [
      "คะแนนเฉลี่ยทั้ง 3 วิชาหลักคือ :43.333333333333336\n"
     ]
    }
   ],
   "source": [
    "math_score = float(input(\"คะแนนคณิตศาสตร์\"))\n",
    "science_score = float(input(\"คะแนนวิทยาศาสตร์\"))\n",
    "english_score = float(input(\"คะแนนอังกฤษ\"))\n",
    "\n",
    "total_score = math_score + science_score + english_score\n",
    "average_score = total_score / 3\n",
    "\n",
    "print(f\"คะแนนเฉลี่ยทั้ง 3 วิชาหลักคือ :{average_score}\")"
   ]
  }
 ],
 "metadata": {
  "kernelspec": {
   "display_name": "Python 3",
   "language": "python",
   "name": "python3"
  },
  "language_info": {
   "codemirror_mode": {
    "name": "ipython",
    "version": 3
   },
   "file_extension": ".py",
   "mimetype": "text/x-python",
   "name": "python",
   "nbconvert_exporter": "python",
   "pygments_lexer": "ipython3",
   "version": "3.13.5"
  }
 },
 "nbformat": 4,
 "nbformat_minor": 5
}
