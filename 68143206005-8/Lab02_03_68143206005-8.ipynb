{
 "cells": [
  {
   "cell_type": "code",
   "execution_count": 2,
   "id": "1d4eb317",
   "metadata": {},
   "outputs": [
    {
     "name": "stdout",
     "output_type": "stream",
     "text": [
      "ผลลัพธ์ 0.40 \n"
     ]
    }
   ],
   "source": [
    "try:\n",
    "\n",
    "    numerator = input(\"ป้อนตัวตั้ง (ตัวเลข): \")\n",
    "    denominator = input(\"ป้อนตัวหาร (ตัวเลข): \")\n",
    "\n",
    "    numerator = int(numerator)\n",
    "    denominator = int(denominator)\n",
    "\n",
    "    result = numerator / denominator\n",
    "    print(f\"ผลลัพธ์ {result:.2f} \")\n",
    "    # print(f\"ผลลัพธ์ {result} \")\n",
    "except ValueError:\n",
    "    print(\"กรุณาป้อนเป็นตัวเลขเท่านั้น\")\n",
    "\n",
    "except ZeroDivisionError:\n",
    "    print(\"ไม่สามารถหารด้วยศูนย์ได้\")\n",
    "\n",
    "# else:\n",
    "#     print(f\"ผลลัพธ์: {result}\")"
   ]
  }
 ],
 "metadata": {
  "kernelspec": {
   "display_name": "Python 3",
   "language": "python",
   "name": "python3"
  },
  "language_info": {
   "codemirror_mode": {
    "name": "ipython",
    "version": 3
   },
   "file_extension": ".py",
   "mimetype": "text/x-python",
   "name": "python",
   "nbconvert_exporter": "python",
   "pygments_lexer": "ipython3",
   "version": "3.13.5"
  }
 },
 "nbformat": 4,
 "nbformat_minor": 5
}
