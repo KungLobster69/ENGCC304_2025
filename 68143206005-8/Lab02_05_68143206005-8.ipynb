{
 "cells": [
  {
   "cell_type": "code",
   "execution_count": 2,
   "id": "6c3101de",
   "metadata": {},
   "outputs": [
    {
     "name": "stdout",
     "output_type": "stream",
     "text": [
      "ชื่อผู้ใช้ที่จัดรูปแบบแล้ว: pookie\n",
      "ใช้ได้\n"
     ]
    }
   ],
   "source": [
    "username = input(\"กรุณาใส่ชื่อผู้ใช้: \")\n",
    "\n",
    "formatted_username = username.strip().lower().replace(' ', '_')\n",
    "\n",
    "if 5 <= len(formatted_username) <= 20:\n",
    "    print(f\"ชื่อผู้ใช้ที่จัดรูปแบบแล้ว: {formatted_username}\")\n",
    "    print(\"ใช้ได้\")\n",
    "else:\n",
    "    print(f\"ชื่อผู้ใช้ที่จัดรูปแบบแล้ว: {formatted_username}\")\n",
    "    print(\"ใช้ไม่ได้เนื่องจากความยาวไม่ถูกต้อง\")"
   ]
  }
 ],
 "metadata": {
  "kernelspec": {
   "display_name": "Python 3",
   "language": "python",
   "name": "python3"
  },
  "language_info": {
   "codemirror_mode": {
    "name": "ipython",
    "version": 3
   },
   "file_extension": ".py",
   "mimetype": "text/x-python",
   "name": "python",
   "nbconvert_exporter": "python",
   "pygments_lexer": "ipython3",
   "version": "3.13.5"
  }
 },
 "nbformat": 4,
 "nbformat_minor": 5
}
