{
 "cells": [
  {
   "cell_type": "code",
   "execution_count": 2,
   "id": "ff96ef86",
   "metadata": {},
   "outputs": [
    {
     "name": "stdout",
     "output_type": "stream",
     "text": [
      "100000 วินาที เท่ากับ 27 ชั่วโมง 46 นาที และ 40 วินาที\n"
     ]
    }
   ],
   "source": [
    "total_seconds = int(input(\"ป้อนจำนวนวินาทีทั้งหมดที่ต้องการแปลง: \"))\n",
    "\n",
    "total_minutes = total_seconds // 60\n",
    "remaining_seconds = total_seconds % 60\n",
    "\n",
    "hours = total_minutes // 60\n",
    "remaining_minutes = total_minutes % 60\n",
    "\n",
    "\n",
    "print(f\"{total_seconds} วินาที เท่ากับ {hours} ชั่วโมง {remaining_minutes} นาที และ {remaining_seconds} วินาที\")"
   ]
  }
 ],
 "metadata": {
  "kernelspec": {
   "display_name": "Python 3",
   "language": "python",
   "name": "python3"
  },
  "language_info": {
   "codemirror_mode": {
    "name": "ipython",
    "version": 3
   },
   "file_extension": ".py",
   "mimetype": "text/x-python",
   "name": "python",
   "nbconvert_exporter": "python",
   "pygments_lexer": "ipython3",
   "version": "3.13.5"
  }
 },
 "nbformat": 4,
 "nbformat_minor": 5
}
